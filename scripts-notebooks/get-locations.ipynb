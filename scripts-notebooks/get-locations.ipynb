{
 "cells": [
  {
   "cell_type": "code",
   "execution_count": 2,
   "metadata": {},
   "outputs": [],
   "source": [
    "locations  = ['Alchevsk',\n",
    " 'Alushta',\n",
    " 'Antratsyt',\n",
    " 'Bakhmut',\n",
    " 'Berdyansk',\n",
    " 'Bila',\n",
    " 'Tserkva',\n",
    " 'Bilhorod-Dnistrovskyi',\n",
    " 'Bolhrad',\n",
    " 'Boryspil',\n",
    " 'Brody',\n",
    " 'Brovary',\n",
    " 'Bryanka',\n",
    " 'Cherkasy',\n",
    " 'Chernihiv',\n",
    " 'Chernivtsi',\n",
    " 'Chervonohrad',\n",
    " 'Dnipro',\n",
    " 'Donetsk',\n",
    " 'Drohobych',\n",
    " 'Enakievo',\n",
    " 'Energodar',\n",
    " 'Evpatoria',\n",
    " 'Fastiv',\n",
    " 'Feodosia',\n",
    " 'Glukhov',\n",
    " 'Gorlovka',\n",
    " 'Ivano-Frankivsk',\n",
    " 'Izmail',\n",
    " 'Izyum',\n",
    " 'Kalush',\n",
    " 'Kamenets',\n",
    " 'Podolskiy',\n",
    " 'Kamianske',\n",
    " 'Kerch',\n",
    " 'Kharkiv',\n",
    " 'Khartsyzsk',\n",
    " 'Kherson',\n",
    " 'Khmelnitsky',\n",
    " 'Kiev',\n",
    " 'Kolomiya',\n",
    " 'Konotop',\n",
    " 'Konstantinovka',\n",
    " 'Korosten',\n",
    " 'Kovel',\n",
    " 'Kramatorsk',\n",
    " 'Krasnodon',\n",
    " 'Kremenchug',\n",
    " 'Kremenets',\n",
    " 'Krivoy',\n",
    " 'Rog',\n",
    " 'Kropyvnytskyi',\n",
    " 'Lisichansk',\n",
    " 'Lubny',\n",
    " 'Lugansk',\n",
    " 'Lutsk',\n",
    " 'Lviv',\n",
    " 'Makeevka',\n",
    " 'Mariupol',\n",
    " 'Melitopol',\n",
    " 'Mirgorod',\n",
    " 'Mukachevo',\n",
    " 'Nikolaev',\n",
    " 'Nikopol',\n",
    " 'Nizhyn',\n",
    " 'Odessa',\n",
    " 'Okhtyrka',\n",
    " 'Oleksandriya',\n",
    " 'Pavlograd',\n",
    " 'Pochaev',\n",
    " 'Poltava',\n",
    " 'Priluki',\n",
    " 'Pripyat',\n",
    " 'Rivne',\n",
    " 'Romny',\n",
    " 'Sevastopol',\n",
    " 'Severodonetsk',\n",
    " 'Shostka',\n",
    " 'Simferopol',\n",
    " 'Slavyansk',\n",
    " 'Smila',\n",
    " 'Stakhanov',\n",
    " 'Stryi',\n",
    " 'Sudak',\n",
    " 'Sumy',\n",
    " 'Svetlovodsk',\n",
    " 'Ternopil',\n",
    " 'Truskavets',\n",
    " 'Uman',\n",
    " 'Uzhgorod',\n",
    " 'Vinnitsa',\n",
    " 'Yalta',\n",
    " 'Yuzhnoukrainsk',\n",
    " 'Zaporozhye',\n",
    " 'Zhitomir',\n",
    " 'Zhovti',\n",
    " 'Vody']"
   ]
  },
  {
   "cell_type": "code",
   "execution_count": 3,
   "metadata": {},
   "outputs": [],
   "source": [
    "message = \"\"\"TRANSLATION :\n",
    "❗️15:18 3 enemy \"arrivals\" were recorded in Kharkiv district. No casualties were reported.   \n",
    "  \n",
    "The type of weapons and other details are being established.   \n",
    "  \n",
    "The information is updated.\n",
    "ORIGINAL :\n",
    "❗️15:18 у Харківському районі зафіксовано 3 ворожі «прильоти». Попередньо без постраждалих.   \n",
    "  \n",
    "Встановлюється тип озброєння та інші деталі.   \n",
    "  \n",
    "Інформація оновлюється.\n",
    "SOURCE :\n",
    "https://t.me/synegubov/8693\n",
    "Олег Синєгубов, голова Харківської ОДА\"\"\""
   ]
  },
  {
   "cell_type": "code",
   "execution_count": 4,
   "metadata": {},
   "outputs": [],
   "source": [
    "trans = message.split('TRANSLATION')[1].split('ORIGINAL')[0]"
   ]
  },
  {
   "cell_type": "code",
   "execution_count": 5,
   "metadata": {},
   "outputs": [
    {
     "data": {
      "text/plain": [
       "' :\\n❗️15:18 3 enemy \"arrivals\" were recorded in Kharkiv district. No casualties were reported.   \\n  \\nThe type of weapons and other details are being established.   \\n  \\nThe information is updated.\\n'"
      ]
     },
     "execution_count": 5,
     "metadata": {},
     "output_type": "execute_result"
    }
   ],
   "source": [
    "trans"
   ]
  },
  {
   "cell_type": "code",
   "execution_count": 6,
   "metadata": {},
   "outputs": [],
   "source": [
    "import re\n",
    "\n",
    "def extract_capitalized_words(input_string):\n",
    "    # Define a regular expression pattern to match capitalized words\n",
    "    pattern = r'\\b[A-Z][a-z]*\\b'\n",
    "    \n",
    "    # Use re.findall to find all matches in the input string\n",
    "    capitalized_words = re.findall(pattern, input_string)\n",
    "    \n",
    "    return capitalized_words"
   ]
  },
  {
   "cell_type": "code",
   "execution_count": 7,
   "metadata": {},
   "outputs": [],
   "source": [
    "caps = extract_capitalized_words(trans)"
   ]
  },
  {
   "cell_type": "code",
   "execution_count": 8,
   "metadata": {},
   "outputs": [
    {
     "name": "stdout",
     "output_type": "stream",
     "text": [
      "['Kharkiv', 'No', 'The', 'The']\n"
     ]
    }
   ],
   "source": [
    "print(caps)"
   ]
  },
  {
   "cell_type": "code",
   "execution_count": 9,
   "metadata": {},
   "outputs": [
    {
     "name": "stdout",
     "output_type": "stream",
     "text": [
      "Kharkiv\n"
     ]
    }
   ],
   "source": [
    "for cap in caps:\n",
    "    if cap in locations:\n",
    "        print(cap)"
   ]
  }
 ],
 "metadata": {
  "kernelspec": {
   "display_name": "Python 3",
   "language": "python",
   "name": "python3"
  },
  "language_info": {
   "codemirror_mode": {
    "name": "ipython",
    "version": 3
   },
   "file_extension": ".py",
   "mimetype": "text/x-python",
   "name": "python",
   "nbconvert_exporter": "python",
   "pygments_lexer": "ipython3",
   "version": "3.10.12"
  }
 },
 "nbformat": 4,
 "nbformat_minor": 2
}
