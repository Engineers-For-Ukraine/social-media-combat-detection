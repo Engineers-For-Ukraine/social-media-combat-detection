{
 "cells": [
  {
   "cell_type": "code",
   "execution_count": 24,
   "metadata": {},
   "outputs": [],
   "source": [
    "import pandas as pd\n",
    "import re\n",
    "import emoji\n",
    "\n",
    "from sklearn.model_selection import train_test_split\n",
    "\n",
    "from sklearn.model_selection import RandomizedSearchCV\n",
    "from xgboost import XGBClassifier\n",
    "\n",
    "from sklearn.metrics import classification_report\n",
    "\n",
    "from sklearn.feature_extraction.text import TfidfVectorizer"
   ]
  },
  {
   "cell_type": "code",
   "execution_count": 25,
   "metadata": {},
   "outputs": [
    {
     "data": {
      "text/html": [
       "<div>\n",
       "<style scoped>\n",
       "    .dataframe tbody tr th:only-of-type {\n",
       "        vertical-align: middle;\n",
       "    }\n",
       "\n",
       "    .dataframe tbody tr th {\n",
       "        vertical-align: top;\n",
       "    }\n",
       "\n",
       "    .dataframe thead th {\n",
       "        text-align: right;\n",
       "    }\n",
       "</style>\n",
       "<table border=\"1\" class=\"dataframe\">\n",
       "  <thead>\n",
       "    <tr style=\"text-align: right;\">\n",
       "      <th></th>\n",
       "      <th>Unnamed: 0</th>\n",
       "      <th>idx</th>\n",
       "      <th>msg_txt</th>\n",
       "      <th>annotation</th>\n",
       "    </tr>\n",
       "  </thead>\n",
       "  <tbody>\n",
       "    <tr>\n",
       "      <th>0</th>\n",
       "      <td>0</td>\n",
       "      <td>0</td>\n",
       "      <td>In Kyiv, fragments of a downed rocket damage...</td>\n",
       "      <td>1</td>\n",
       "    </tr>\n",
       "    <tr>\n",
       "      <th>1</th>\n",
       "      <td>1</td>\n",
       "      <td>1</td>\n",
       "      <td>Kyiv region is attacked by drones again, air...</td>\n",
       "      <td>1</td>\n",
       "    </tr>\n",
       "    <tr>\n",
       "      <th>2</th>\n",
       "      <td>2</td>\n",
       "      <td>2</td>\n",
       "      <td>Explosions are also heard in the capital. Ai...</td>\n",
       "      <td>1</td>\n",
       "    </tr>\n",
       "    <tr>\n",
       "      <th>3</th>\n",
       "      <td>3</td>\n",
       "      <td>4</td>\n",
       "      <td>Kyiv region is attacked by drones - Kuleba  ...</td>\n",
       "      <td>1</td>\n",
       "    </tr>\n",
       "    <tr>\n",
       "      <th>4</th>\n",
       "      <td>5</td>\n",
       "      <td>5</td>\n",
       "      <td>The rocket that fell in Shevchenkivskyi dist...</td>\n",
       "      <td>0</td>\n",
       "    </tr>\n",
       "  </tbody>\n",
       "</table>\n",
       "</div>"
      ],
      "text/plain": [
       "   Unnamed: 0  idx                                            msg_txt  \\\n",
       "0           0    0    In Kyiv, fragments of a downed rocket damage...   \n",
       "1           1    1    Kyiv region is attacked by drones again, air...   \n",
       "2           2    2    Explosions are also heard in the capital. Ai...   \n",
       "3           3    4    Kyiv region is attacked by drones - Kuleba  ...   \n",
       "4           5    5    The rocket that fell in Shevchenkivskyi dist...   \n",
       "\n",
       "   annotation  \n",
       "0           1  \n",
       "1           1  \n",
       "2           1  \n",
       "3           1  \n",
       "4           0  "
      ]
     },
     "execution_count": 25,
     "metadata": {},
     "output_type": "execute_result"
    }
   ],
   "source": [
    "# load in data\n",
    "df = pd.read_csv('/home/j/Documents/Projects/sentimental/data/annotated_1-12-23.csv')\n",
    "\n",
    "df.head()"
   ]
  },
  {
   "cell_type": "code",
   "execution_count": 26,
   "metadata": {},
   "outputs": [],
   "source": [
    "def drop_og(msg_text):\n",
    "    if 'original :' in msg_text:\n",
    "        return msg_text[0:msg_text.index('original :')]\n",
    "    else:\n",
    "        return msg_text\n",
    "\n",
    "def remove_links(msg_text):\n",
    "    return re.sub(r'http[s]?://\\S+', '', msg_text)\n",
    "\n",
    "def remove_sm_tags(msg_text):\n",
    "    #return re.sub(r'\\s*(@\\w+|#\\w+)\\s*', '', msg_text)\n",
    "    return re.sub(r'\\s*[@#]\\w+\\b', '', msg_text)\n",
    "\n",
    "def clean_emojis(x_row):\n",
    "    if len(x_row.emoji_expd) != 0:\n",
    "        for ed in x_row.emoji_expd:\n",
    "            x_row.msg_txt = x_row.msg_txt.replace(ed,'')\n",
    "    return x_row.msg_text"
   ]
  },
  {
   "cell_type": "code",
   "execution_count": 27,
   "metadata": {},
   "outputs": [],
   "source": [
    "#msg text cleaning\n",
    "df['msg_txt'] = df.msg_txt.apply(remove_links)\n",
    "df['msg_txt'] = df.msg_txt.apply(remove_sm_tags)\n",
    "df['msg_txt'] = df.msg_txt.apply(emoji.demojize)"
   ]
  },
  {
   "cell_type": "code",
   "execution_count": 29,
   "metadata": {},
   "outputs": [],
   "source": [
    "X_train, X_test , y_train, y_test = train_test_split(df['msg_txt'].values,df['annotation'].values)"
   ]
  },
  {
   "cell_type": "markdown",
   "metadata": {},
   "source": [
    "First, I'll use get a TFID matrix for the messages."
   ]
  },
  {
   "cell_type": "code",
   "execution_count": 30,
   "metadata": {},
   "outputs": [],
   "source": [
    "vectorizer = TfidfVectorizer(sublinear_tf=True)\n",
    "\n",
    "freq_matrix_train = vectorizer.fit_transform(X_train)\n",
    "freq_matrix_test = vectorizer.transform(X_test)"
   ]
  },
  {
   "cell_type": "code",
   "execution_count": 35,
   "metadata": {},
   "outputs": [],
   "source": [
    "search = RandomizedSearchCV(XGBClassifier(), {'n_estimators': [int(x) for x in range(200,2000,200)],\n",
    "        'min_child_weight': range(1,6,2),\n",
    "        'gamma': [i/10.0 for i in range(0,5)],\n",
    "        'subsample': [i/10.0 for i in range(6,10)],\n",
    "        'colsample_bytree': [i/10.0 for i in range(6,10)],\n",
    "        'max_depth': [3, 6, 9],\n",
    "        'opt':[1e-5, 1e-2, 0.1, 1, 100],\n",
    "        'learning_rate': [0.0001, 0.001, 0.01, 0.1, 0.2, 0.3]\n",
    "        })\n"
   ]
  },
  {
   "cell_type": "code",
   "execution_count": 36,
   "metadata": {},
   "outputs": [
    {
     "name": "stderr",
     "output_type": "stream",
     "text": [
      "/home/j/.local/lib/python3.10/site-packages/xgboost/core.py:160: UserWarning: [14:13:47] WARNING: /workspace/src/learner.cc:742: \n",
      "Parameters: { \"opt\" } are not used.\n",
      "\n",
      "  warnings.warn(smsg, UserWarning)\n",
      "/home/j/.local/lib/python3.10/site-packages/xgboost/core.py:160: UserWarning: [14:13:55] WARNING: /workspace/src/learner.cc:742: \n",
      "Parameters: { \"opt\" } are not used.\n",
      "\n",
      "  warnings.warn(smsg, UserWarning)\n",
      "/home/j/.local/lib/python3.10/site-packages/xgboost/core.py:160: UserWarning: [14:14:03] WARNING: /workspace/src/learner.cc:742: \n",
      "Parameters: { \"opt\" } are not used.\n",
      "\n",
      "  warnings.warn(smsg, UserWarning)\n",
      "/home/j/.local/lib/python3.10/site-packages/xgboost/core.py:160: UserWarning: [14:14:11] WARNING: /workspace/src/learner.cc:742: \n",
      "Parameters: { \"opt\" } are not used.\n",
      "\n",
      "  warnings.warn(smsg, UserWarning)\n",
      "/home/j/.local/lib/python3.10/site-packages/xgboost/core.py:160: UserWarning: [14:14:16] WARNING: /workspace/src/learner.cc:742: \n",
      "Parameters: { \"opt\" } are not used.\n",
      "\n",
      "  warnings.warn(smsg, UserWarning)\n",
      "/home/j/.local/lib/python3.10/site-packages/xgboost/core.py:160: UserWarning: [14:14:23] WARNING: /workspace/src/learner.cc:742: \n",
      "Parameters: { \"opt\" } are not used.\n",
      "\n",
      "  warnings.warn(smsg, UserWarning)\n",
      "/home/j/.local/lib/python3.10/site-packages/xgboost/core.py:160: UserWarning: [14:14:25] WARNING: /workspace/src/learner.cc:742: \n",
      "Parameters: { \"opt\" } are not used.\n",
      "\n",
      "  warnings.warn(smsg, UserWarning)\n",
      "/home/j/.local/lib/python3.10/site-packages/xgboost/core.py:160: UserWarning: [14:14:27] WARNING: /workspace/src/learner.cc:742: \n",
      "Parameters: { \"opt\" } are not used.\n",
      "\n",
      "  warnings.warn(smsg, UserWarning)\n",
      "/home/j/.local/lib/python3.10/site-packages/xgboost/core.py:160: UserWarning: [14:14:29] WARNING: /workspace/src/learner.cc:742: \n",
      "Parameters: { \"opt\" } are not used.\n",
      "\n",
      "  warnings.warn(smsg, UserWarning)\n",
      "/home/j/.local/lib/python3.10/site-packages/xgboost/core.py:160: UserWarning: [14:14:31] WARNING: /workspace/src/learner.cc:742: \n",
      "Parameters: { \"opt\" } are not used.\n",
      "\n",
      "  warnings.warn(smsg, UserWarning)\n",
      "/home/j/.local/lib/python3.10/site-packages/xgboost/core.py:160: UserWarning: [14:14:32] WARNING: /workspace/src/learner.cc:742: \n",
      "Parameters: { \"opt\" } are not used.\n",
      "\n",
      "  warnings.warn(smsg, UserWarning)\n",
      "/home/j/.local/lib/python3.10/site-packages/xgboost/core.py:160: UserWarning: [14:14:45] WARNING: /workspace/src/learner.cc:742: \n",
      "Parameters: { \"opt\" } are not used.\n",
      "\n",
      "  warnings.warn(smsg, UserWarning)\n",
      "/home/j/.local/lib/python3.10/site-packages/xgboost/core.py:160: UserWarning: [14:14:59] WARNING: /workspace/src/learner.cc:742: \n",
      "Parameters: { \"opt\" } are not used.\n",
      "\n",
      "  warnings.warn(smsg, UserWarning)\n",
      "/home/j/.local/lib/python3.10/site-packages/xgboost/core.py:160: UserWarning: [14:15:15] WARNING: /workspace/src/learner.cc:742: \n",
      "Parameters: { \"opt\" } are not used.\n",
      "\n",
      "  warnings.warn(smsg, UserWarning)\n",
      "/home/j/.local/lib/python3.10/site-packages/xgboost/core.py:160: UserWarning: [14:15:28] WARNING: /workspace/src/learner.cc:742: \n",
      "Parameters: { \"opt\" } are not used.\n",
      "\n",
      "  warnings.warn(smsg, UserWarning)\n",
      "/home/j/.local/lib/python3.10/site-packages/xgboost/core.py:160: UserWarning: [14:15:42] WARNING: /workspace/src/learner.cc:742: \n",
      "Parameters: { \"opt\" } are not used.\n",
      "\n",
      "  warnings.warn(smsg, UserWarning)\n",
      "/home/j/.local/lib/python3.10/site-packages/xgboost/core.py:160: UserWarning: [14:15:45] WARNING: /workspace/src/learner.cc:742: \n",
      "Parameters: { \"opt\" } are not used.\n",
      "\n",
      "  warnings.warn(smsg, UserWarning)\n",
      "/home/j/.local/lib/python3.10/site-packages/xgboost/core.py:160: UserWarning: [14:15:49] WARNING: /workspace/src/learner.cc:742: \n",
      "Parameters: { \"opt\" } are not used.\n",
      "\n",
      "  warnings.warn(smsg, UserWarning)\n",
      "/home/j/.local/lib/python3.10/site-packages/xgboost/core.py:160: UserWarning: [14:15:52] WARNING: /workspace/src/learner.cc:742: \n",
      "Parameters: { \"opt\" } are not used.\n",
      "\n",
      "  warnings.warn(smsg, UserWarning)\n",
      "/home/j/.local/lib/python3.10/site-packages/xgboost/core.py:160: UserWarning: [14:15:55] WARNING: /workspace/src/learner.cc:742: \n",
      "Parameters: { \"opt\" } are not used.\n",
      "\n",
      "  warnings.warn(smsg, UserWarning)\n",
      "/home/j/.local/lib/python3.10/site-packages/xgboost/core.py:160: UserWarning: [14:15:58] WARNING: /workspace/src/learner.cc:742: \n",
      "Parameters: { \"opt\" } are not used.\n",
      "\n",
      "  warnings.warn(smsg, UserWarning)\n",
      "/home/j/.local/lib/python3.10/site-packages/xgboost/core.py:160: UserWarning: [14:15:59] WARNING: /workspace/src/learner.cc:742: \n",
      "Parameters: { \"opt\" } are not used.\n",
      "\n",
      "  warnings.warn(smsg, UserWarning)\n",
      "/home/j/.local/lib/python3.10/site-packages/xgboost/core.py:160: UserWarning: [14:16:01] WARNING: /workspace/src/learner.cc:742: \n",
      "Parameters: { \"opt\" } are not used.\n",
      "\n",
      "  warnings.warn(smsg, UserWarning)\n",
      "/home/j/.local/lib/python3.10/site-packages/xgboost/core.py:160: UserWarning: [14:16:03] WARNING: /workspace/src/learner.cc:742: \n",
      "Parameters: { \"opt\" } are not used.\n",
      "\n",
      "  warnings.warn(smsg, UserWarning)\n",
      "/home/j/.local/lib/python3.10/site-packages/xgboost/core.py:160: UserWarning: [14:16:05] WARNING: /workspace/src/learner.cc:742: \n",
      "Parameters: { \"opt\" } are not used.\n",
      "\n",
      "  warnings.warn(smsg, UserWarning)\n",
      "/home/j/.local/lib/python3.10/site-packages/xgboost/core.py:160: UserWarning: [14:16:07] WARNING: /workspace/src/learner.cc:742: \n",
      "Parameters: { \"opt\" } are not used.\n",
      "\n",
      "  warnings.warn(smsg, UserWarning)\n",
      "/home/j/.local/lib/python3.10/site-packages/xgboost/core.py:160: UserWarning: [14:16:10] WARNING: /workspace/src/learner.cc:742: \n",
      "Parameters: { \"opt\" } are not used.\n",
      "\n",
      "  warnings.warn(smsg, UserWarning)\n",
      "/home/j/.local/lib/python3.10/site-packages/xgboost/core.py:160: UserWarning: [14:16:13] WARNING: /workspace/src/learner.cc:742: \n",
      "Parameters: { \"opt\" } are not used.\n",
      "\n",
      "  warnings.warn(smsg, UserWarning)\n",
      "/home/j/.local/lib/python3.10/site-packages/xgboost/core.py:160: UserWarning: [14:16:17] WARNING: /workspace/src/learner.cc:742: \n",
      "Parameters: { \"opt\" } are not used.\n",
      "\n",
      "  warnings.warn(smsg, UserWarning)\n",
      "/home/j/.local/lib/python3.10/site-packages/xgboost/core.py:160: UserWarning: [14:16:20] WARNING: /workspace/src/learner.cc:742: \n",
      "Parameters: { \"opt\" } are not used.\n",
      "\n",
      "  warnings.warn(smsg, UserWarning)\n",
      "/home/j/.local/lib/python3.10/site-packages/xgboost/core.py:160: UserWarning: [14:16:23] WARNING: /workspace/src/learner.cc:742: \n",
      "Parameters: { \"opt\" } are not used.\n",
      "\n",
      "  warnings.warn(smsg, UserWarning)\n",
      "/home/j/.local/lib/python3.10/site-packages/xgboost/core.py:160: UserWarning: [14:16:25] WARNING: /workspace/src/learner.cc:742: \n",
      "Parameters: { \"opt\" } are not used.\n",
      "\n",
      "  warnings.warn(smsg, UserWarning)\n",
      "/home/j/.local/lib/python3.10/site-packages/xgboost/core.py:160: UserWarning: [14:16:27] WARNING: /workspace/src/learner.cc:742: \n",
      "Parameters: { \"opt\" } are not used.\n",
      "\n",
      "  warnings.warn(smsg, UserWarning)\n",
      "/home/j/.local/lib/python3.10/site-packages/xgboost/core.py:160: UserWarning: [14:16:28] WARNING: /workspace/src/learner.cc:742: \n",
      "Parameters: { \"opt\" } are not used.\n",
      "\n",
      "  warnings.warn(smsg, UserWarning)\n",
      "/home/j/.local/lib/python3.10/site-packages/xgboost/core.py:160: UserWarning: [14:16:30] WARNING: /workspace/src/learner.cc:742: \n",
      "Parameters: { \"opt\" } are not used.\n",
      "\n",
      "  warnings.warn(smsg, UserWarning)\n",
      "/home/j/.local/lib/python3.10/site-packages/xgboost/core.py:160: UserWarning: [14:16:32] WARNING: /workspace/src/learner.cc:742: \n",
      "Parameters: { \"opt\" } are not used.\n",
      "\n",
      "  warnings.warn(smsg, UserWarning)\n",
      "/home/j/.local/lib/python3.10/site-packages/xgboost/core.py:160: UserWarning: [14:16:33] WARNING: /workspace/src/learner.cc:742: \n",
      "Parameters: { \"opt\" } are not used.\n",
      "\n",
      "  warnings.warn(smsg, UserWarning)\n",
      "/home/j/.local/lib/python3.10/site-packages/xgboost/core.py:160: UserWarning: [14:16:35] WARNING: /workspace/src/learner.cc:742: \n",
      "Parameters: { \"opt\" } are not used.\n",
      "\n",
      "  warnings.warn(smsg, UserWarning)\n",
      "/home/j/.local/lib/python3.10/site-packages/xgboost/core.py:160: UserWarning: [14:16:37] WARNING: /workspace/src/learner.cc:742: \n",
      "Parameters: { \"opt\" } are not used.\n",
      "\n",
      "  warnings.warn(smsg, UserWarning)\n",
      "/home/j/.local/lib/python3.10/site-packages/xgboost/core.py:160: UserWarning: [14:16:38] WARNING: /workspace/src/learner.cc:742: \n",
      "Parameters: { \"opt\" } are not used.\n",
      "\n",
      "  warnings.warn(smsg, UserWarning)\n",
      "/home/j/.local/lib/python3.10/site-packages/xgboost/core.py:160: UserWarning: [14:16:40] WARNING: /workspace/src/learner.cc:742: \n",
      "Parameters: { \"opt\" } are not used.\n",
      "\n",
      "  warnings.warn(smsg, UserWarning)\n",
      "/home/j/.local/lib/python3.10/site-packages/xgboost/core.py:160: UserWarning: [14:16:42] WARNING: /workspace/src/learner.cc:742: \n",
      "Parameters: { \"opt\" } are not used.\n",
      "\n",
      "  warnings.warn(smsg, UserWarning)\n",
      "/home/j/.local/lib/python3.10/site-packages/xgboost/core.py:160: UserWarning: [14:16:44] WARNING: /workspace/src/learner.cc:742: \n",
      "Parameters: { \"opt\" } are not used.\n",
      "\n",
      "  warnings.warn(smsg, UserWarning)\n",
      "/home/j/.local/lib/python3.10/site-packages/xgboost/core.py:160: UserWarning: [14:16:45] WARNING: /workspace/src/learner.cc:742: \n",
      "Parameters: { \"opt\" } are not used.\n",
      "\n",
      "  warnings.warn(smsg, UserWarning)\n",
      "/home/j/.local/lib/python3.10/site-packages/xgboost/core.py:160: UserWarning: [14:16:47] WARNING: /workspace/src/learner.cc:742: \n",
      "Parameters: { \"opt\" } are not used.\n",
      "\n",
      "  warnings.warn(smsg, UserWarning)\n",
      "/home/j/.local/lib/python3.10/site-packages/xgboost/core.py:160: UserWarning: [14:16:49] WARNING: /workspace/src/learner.cc:742: \n",
      "Parameters: { \"opt\" } are not used.\n",
      "\n",
      "  warnings.warn(smsg, UserWarning)\n",
      "/home/j/.local/lib/python3.10/site-packages/xgboost/core.py:160: UserWarning: [14:16:56] WARNING: /workspace/src/learner.cc:742: \n",
      "Parameters: { \"opt\" } are not used.\n",
      "\n",
      "  warnings.warn(smsg, UserWarning)\n",
      "/home/j/.local/lib/python3.10/site-packages/xgboost/core.py:160: UserWarning: [14:17:03] WARNING: /workspace/src/learner.cc:742: \n",
      "Parameters: { \"opt\" } are not used.\n",
      "\n",
      "  warnings.warn(smsg, UserWarning)\n",
      "/home/j/.local/lib/python3.10/site-packages/xgboost/core.py:160: UserWarning: [14:17:11] WARNING: /workspace/src/learner.cc:742: \n",
      "Parameters: { \"opt\" } are not used.\n",
      "\n",
      "  warnings.warn(smsg, UserWarning)\n",
      "/home/j/.local/lib/python3.10/site-packages/xgboost/core.py:160: UserWarning: [14:17:18] WARNING: /workspace/src/learner.cc:742: \n",
      "Parameters: { \"opt\" } are not used.\n",
      "\n",
      "  warnings.warn(smsg, UserWarning)\n",
      "/home/j/.local/lib/python3.10/site-packages/xgboost/core.py:160: UserWarning: [14:17:27] WARNING: /workspace/src/learner.cc:742: \n",
      "Parameters: { \"opt\" } are not used.\n",
      "\n",
      "  warnings.warn(smsg, UserWarning)\n"
     ]
    }
   ],
   "source": [
    "search.fit(freq_matrix_train, y_train)\n",
    "\n",
    "best = search.best_params_"
   ]
  },
  {
   "cell_type": "code",
   "execution_count": 38,
   "metadata": {},
   "outputs": [
    {
     "name": "stdout",
     "output_type": "stream",
     "text": [
      "{'subsample': 0.8, 'opt': 0.1, 'n_estimators': 1000, 'min_child_weight': 3, 'max_depth': 3, 'learning_rate': 0.2, 'gamma': 0.3, 'colsample_bytree': 0.9}\n"
     ]
    }
   ],
   "source": [
    "print(best)"
   ]
  },
  {
   "cell_type": "code",
   "execution_count": 40,
   "metadata": {},
   "outputs": [
    {
     "name": "stderr",
     "output_type": "stream",
     "text": [
      "/home/j/.local/lib/python3.10/site-packages/xgboost/core.py:160: UserWarning: [14:20:14] WARNING: /workspace/src/learner.cc:742: \n",
      "Parameters: { \"opt\" } are not used.\n",
      "\n",
      "  warnings.warn(smsg, UserWarning)\n"
     ]
    },
    {
     "name": "stdout",
     "output_type": "stream",
     "text": [
      "              precision    recall  f1-score   support\n",
      "\n",
      "           0       0.89      0.93      0.91       170\n",
      "           1       0.81      0.72      0.76        69\n",
      "\n",
      "    accuracy                           0.87       239\n",
      "   macro avg       0.85      0.83      0.84       239\n",
      "weighted avg       0.87      0.87      0.87       239\n",
      "\n"
     ]
    }
   ],
   "source": [
    "classifier = XGBClassifier(subsample= 0.8, opt=0.1, n_estimators= 1000, min_child_weight= 3, max_depth= 3, learning_rate= 0.2, gamma= 0.3, colsample_bytree= 0.9)\n",
    "\n",
    "classifier.fit(freq_matrix_train, y_train)\n",
    "\n",
    "y_pred = classifier.predict(freq_matrix_test)\n",
    "\n",
    "print(classification_report(y_test,y_pred))"
   ]
  },
  {
   "cell_type": "code",
   "execution_count": 41,
   "metadata": {},
   "outputs": [
    {
     "name": "stderr",
     "output_type": "stream",
     "text": [
      "/home/j/.local/lib/python3.10/site-packages/xgboost/core.py:160: UserWarning: [14:20:24] WARNING: /workspace/src/c_api/c_api.cc:1240: Saving into deprecated binary model format, please consider using `json` or `ubj`. Model format will default to JSON in XGBoost 2.2 if not specified.\n",
      "  warnings.warn(smsg, UserWarning)\n"
     ]
    }
   ],
   "source": [
    "classifier.save_model('../models/xgb_classifier')"
   ]
  },
  {
   "cell_type": "code",
   "execution_count": 42,
   "metadata": {},
   "outputs": [],
   "source": [
    "import pickle\n",
    "with open('../models/tfid-vectorizer.pickle', 'wb') as handle:\n",
    "    pickle.dump(vectorizer, handle, protocol=pickle.HIGHEST_PROTOCOL)"
   ]
  },
  {
   "cell_type": "code",
   "execution_count": 43,
   "metadata": {},
   "outputs": [],
   "source": [
    "import pickle\n",
    "classifier = XGBClassifier()\n",
    "classifier.load_model('/home/j/Documents/Projects/social-media-combat-detection/models/xgb_classifier')\n",
    "with open('/home/j/Documents/Projects/social-media-combat-detection/models/tfid-vectorizer.pickle', 'rb') as handle:\n",
    "        vectorizer = pickle.load(handle)\n",
    "message = 'This is a test'\n",
    "vectorized = vectorizer.transform([message])\n",
    "pred = classifier.predict(vectorized)\n",
    "prob = classifier.predict_proba(vectorized)"
   ]
  },
  {
   "cell_type": "code",
   "execution_count": 44,
   "metadata": {},
   "outputs": [
    {
     "name": "stdout",
     "output_type": "stream",
     "text": [
      "[0]\n",
      "[[0.9713692  0.02863079]]\n"
     ]
    }
   ],
   "source": [
    "print(pred)\n",
    "print(prob)"
   ]
  }
 ],
 "metadata": {
  "kernelspec": {
   "display_name": "Python 3",
   "language": "python",
   "name": "python3"
  },
  "language_info": {
   "codemirror_mode": {
    "name": "ipython",
    "version": 3
   },
   "file_extension": ".py",
   "mimetype": "text/x-python",
   "name": "python",
   "nbconvert_exporter": "python",
   "pygments_lexer": "ipython3",
   "version": "3.10.12"
  }
 },
 "nbformat": 4,
 "nbformat_minor": 2
}
