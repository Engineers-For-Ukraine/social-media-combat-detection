{
 "cells": [
  {
   "cell_type": "code",
   "execution_count": 7,
   "metadata": {},
   "outputs": [],
   "source": [
    "from transformers import pipeline\n",
    "from telethon import TelegramClient\n",
    "from datetime import datetime, timedelta, timezone\n",
    "from app.classifier import XGBClassifier\n",
    "from app.api import *"
   ]
  },
  {
   "cell_type": "code",
   "execution_count": 8,
   "metadata": {},
   "outputs": [
    {
     "name": "stderr",
     "output_type": "stream",
     "text": [
      "2024-05-18 21:17:55.250358: W external/local_tsl/tsl/framework/cpu_allocator_impl.cc:83] Allocation of 128036864 exceeds 10% of free system memory.\n",
      "2024-05-18 21:17:55.408459: W external/local_tsl/tsl/framework/cpu_allocator_impl.cc:83] Allocation of 128036864 exceeds 10% of free system memory.\n",
      "2024-05-18 21:17:55.434689: W external/local_tsl/tsl/framework/cpu_allocator_impl.cc:83] Allocation of 128036864 exceeds 10% of free system memory.\n",
      "2024-05-18 21:17:57.143235: W external/local_tsl/tsl/framework/cpu_allocator_impl.cc:83] Allocation of 128036864 exceeds 10% of free system memory.\n",
      "All model checkpoint layers were used when initializing TFMarianMTModel.\n",
      "\n",
      "All the layers of TFMarianMTModel were initialized from the model checkpoint at Helsinki-NLP/opus-mt-ru-en.\n",
      "If your task is similar to the task the model of the checkpoint was trained on, you can already use TFMarianMTModel for predictions without further training.\n",
      "/home/j/Documents/Projects/social-media-combat-detection/.venv/lib/python3.12/site-packages/transformers/models/marian/tokenization_marian.py:175: UserWarning: Recommended: pip install sacremoses.\n",
      "  warnings.warn(\"Recommended: pip install sacremoses.\")\n"
     ]
    }
   ],
   "source": [
    "translator = pipeline(\"translation_ru_to_en\", model=\"Helsinki-NLP/opus-mt-ru-en\")"
   ]
  },
  {
   "cell_type": "code",
   "execution_count": 9,
   "metadata": {},
   "outputs": [],
   "source": [
    "text = \"Госбюро расследований Украины заочно предъявило обвинения директору ФСБ Александру Бортникову.\""
   ]
  },
  {
   "cell_type": "code",
   "execution_count": 10,
   "metadata": {},
   "outputs": [
    {
     "name": "stderr",
     "output_type": "stream",
     "text": [
      "2024-05-18 21:18:00.230521: W external/local_tsl/tsl/framework/cpu_allocator_impl.cc:83] Allocation of 128036864 exceeds 10% of free system memory.\n"
     ]
    },
    {
     "data": {
      "text/plain": [
       "[{'translation_text': 'The State Bureau of Investigation of Ukraine indicted Alexander Bortnikov, Director of the FSB in absentia.'}]"
      ]
     },
     "execution_count": 10,
     "metadata": {},
     "output_type": "execute_result"
    }
   ],
   "source": [
    "translator(text)"
   ]
  },
  {
   "cell_type": "code",
   "execution_count": 11,
   "metadata": {},
   "outputs": [],
   "source": [
    "async def main(chat_name):\n",
    "    global api_id\n",
    "    global api_hash\n",
    "    messages = []\n",
    "    async with TelegramClient(api_id=api_id, api_hash=api_hash, session='this') as client:\n",
    "            async for message in client.iter_messages(chat_name, offset_date=datetime.now(tz=timezone.utc) - timedelta(hours=12), reverse=True):\n",
    "                messages.append(message)\n",
    "    return messages"
   ]
  },
  {
   "cell_type": "code",
   "execution_count": 12,
   "metadata": {},
   "outputs": [],
   "source": [
    "results = await main('astrapress')"
   ]
  },
  {
   "cell_type": "code",
   "execution_count": 13,
   "metadata": {},
   "outputs": [],
   "source": [
    "messages = results\n",
    "first = messages[0]\n",
    "text = first.text"
   ]
  },
  {
   "cell_type": "code",
   "execution_count": 14,
   "metadata": {},
   "outputs": [
    {
     "data": {
      "text/plain": [
       "'**В Украине дальнобойщики заблокировали трассу Одесса-Киев в знак протеста против нового закона о мобилизации**\\n\\nСотни грузовых машин образовали пробку на одной из самых оживленных трасс Украины. Из-за новых поправок в закон о мобилизации водителей фур могут начать забирать на фронт на границе, при выезде из Украины. Под бронь большинство водителей не попадают.'"
      ]
     },
     "execution_count": 14,
     "metadata": {},
     "output_type": "execute_result"
    }
   ],
   "source": [
    "text"
   ]
  },
  {
   "cell_type": "code",
   "execution_count": 16,
   "metadata": {},
   "outputs": [],
   "source": [
    "translation = translator(text)"
   ]
  },
  {
   "cell_type": "code",
   "execution_count": 22,
   "metadata": {},
   "outputs": [
    {
     "data": {
      "text/plain": [
       "'** In Ukraine, truckers blocked the Odessa-Kiev route in protest against the new law on mobilization** Hundreds of trucks created a traffic jam on one of Ukraine &apos; s busiest routes. Due to new amendments to the law on mobilization of drivers, fur drivers may begin to be picked up on the front at the border, when leaving Ukraine. Most drivers do not fall under the reservation.'"
      ]
     },
     "execution_count": 22,
     "metadata": {},
     "output_type": "execute_result"
    }
   ],
   "source": [
    "translation[0]['translation_text']"
   ]
  },
  {
   "cell_type": "code",
   "execution_count": 25,
   "metadata": {},
   "outputs": [],
   "source": [
    "out_text = f'TRANSLATION: {translation[0]['translation_text']} ORIGINAL: {text} SOURCE: @astrapress'"
   ]
  },
  {
   "cell_type": "code",
   "execution_count": 26,
   "metadata": {},
   "outputs": [
    {
     "data": {
      "text/plain": [
       "'TRANSLATION: ** In Ukraine, truckers blocked the Odessa-Kiev route in protest against the new law on mobilization** Hundreds of trucks created a traffic jam on one of Ukraine &apos; s busiest routes. Due to new amendments to the law on mobilization of drivers, fur drivers may begin to be picked up on the front at the border, when leaving Ukraine. Most drivers do not fall under the reservation. ORIGINAL: **В Украине дальнобойщики заблокировали трассу Одесса-Киев в знак протеста против нового закона о мобилизации**\\n\\nСотни грузовых машин образовали пробку на одной из самых оживленных трасс Украины. Из-за новых поправок в закон о мобилизации водителей фур могут начать забирать на фронт на границе, при выезде из Украины. Под бронь большинство водителей не попадают. SOURCE: @astrapress'"
      ]
     },
     "execution_count": 26,
     "metadata": {},
     "output_type": "execute_result"
    }
   ],
   "source": [
    "out_text"
   ]
  },
  {
   "cell_type": "code",
   "execution_count": 27,
   "metadata": {},
   "outputs": [
    {
     "data": {
      "text/plain": [
       "<telethon.tl.patched.Message at 0x71945c9e95b0>"
      ]
     },
     "execution_count": 27,
     "metadata": {},
     "output_type": "execute_result"
    }
   ],
   "source": [
    "first"
   ]
  },
  {
   "cell_type": "code",
   "execution_count": 28,
   "metadata": {},
   "outputs": [
    {
     "data": {
      "text/plain": [
       "{'_': 'Message',\n",
       " 'id': 55753,\n",
       " 'peer_id': {'_': 'PeerChannel', 'channel_id': 1700501351},\n",
       " 'date': datetime.datetime(2024, 5, 18, 13, 24, 58, tzinfo=datetime.timezone.utc),\n",
       " 'message': 'В Украине дальнобойщики заблокировали трассу Одесса-Киев в знак протеста против нового закона о мобилизации\\n\\nСотни грузовых машин образовали пробку на одной из самых оживленных трасс Украины. Из-за новых поправок в закон о мобилизации водителей фур могут начать забирать на фронт на границе, при выезде из Украины. Под бронь большинство водителей не попадают.',\n",
       " 'out': False,\n",
       " 'mentioned': False,\n",
       " 'media_unread': False,\n",
       " 'silent': False,\n",
       " 'post': True,\n",
       " 'from_scheduled': False,\n",
       " 'legacy': False,\n",
       " 'edit_hide': False,\n",
       " 'pinned': False,\n",
       " 'noforwards': False,\n",
       " 'invert_media': False,\n",
       " 'offline': False,\n",
       " 'from_id': None,\n",
       " 'from_boosts_applied': None,\n",
       " 'saved_peer_id': None,\n",
       " 'fwd_from': None,\n",
       " 'via_bot_id': None,\n",
       " 'via_business_bot_id': None,\n",
       " 'reply_to': None,\n",
       " 'media': {'_': 'MessageMediaDocument',\n",
       "  'nopremium': False,\n",
       "  'spoiler': False,\n",
       "  'video': True,\n",
       "  'round': False,\n",
       "  'voice': False,\n",
       "  'document': {'_': 'Document',\n",
       "   'id': 5350402217037809878,\n",
       "   'access_hash': -945980803042902584,\n",
       "   'file_reference': b'\\x02e[\\x97g\\x00\\x00\\xd9\\xc9fISR\\xc5\\xd4\\xa2L\\xedN\\xd3\\xff\\xd0h\\xa8,:X%\\x0e',\n",
       "   'date': datetime.datetime(2024, 5, 18, 13, 24, 24, tzinfo=datetime.timezone.utc),\n",
       "   'mime_type': 'video/mp4',\n",
       "   'size': 20944826,\n",
       "   'dc_id': 2,\n",
       "   'attributes': [{'_': 'DocumentAttributeVideo',\n",
       "     'duration': 100.166,\n",
       "     'w': 384,\n",
       "     'h': 848,\n",
       "     'round_message': False,\n",
       "     'supports_streaming': True,\n",
       "     'nosound': False,\n",
       "     'preload_prefix_size': None},\n",
       "    {'_': 'DocumentAttributeFilename', 'file_name': 'IMG_8330.mp4'}],\n",
       "   'thumbs': [{'_': 'PhotoStrippedSize',\n",
       "     'type': 'i',\n",
       "     'bytes': b\"\\x01(\\x12\\xd6\\xdf\\xefH\\\\\\x1a\\xca\\x8a{\\xb6\\x04\\x96R1\\xc7\\x15\\x17\\xf6\\x8c\\xe3\\xb2g\\xdcS\\xba\\x11\\xb1\\x91\\xedEc\\xff\\x00h\\xdczG\\xf9\\x1a(\\xe6@Y9\\xec\\t'\\xda\\xaa\\\\@\\xcd\\xf3\\xaa\\x9c\\xf7\\x18\\xa4\\x8dc1\\xaea\\x19\\xdb\\xd7\\x03\\x9aP\\xb1\\xe7\\x06>\\xbe\\xc2\\x91E}\\x8d\\xff\\x00<\\xdf\\xf24U\\x8d\\x91\\xf7\\x8d\\xbf\\x0f\\xff\\x00]\\x156\\x10\\xb1\\x9f\\xdd\\xa7\\xfb\\xb4\\x9e\\x87\\xda\\x8a*\\x80\\x95d!@\\xcfAE\\x14P\\x07\"},\n",
       "    {'_': 'PhotoSize', 'type': 'm', 'w': 145, 'h': 320, 'size': 9314}],\n",
       "   'video_thumbs': []},\n",
       "  'alt_document': None,\n",
       "  'ttl_seconds': None},\n",
       " 'reply_markup': None,\n",
       " 'entities': [{'_': 'MessageEntityBold', 'offset': 0, 'length': 107}],\n",
       " 'views': 47097,\n",
       " 'forwards': 235,\n",
       " 'replies': None,\n",
       " 'edit_date': None,\n",
       " 'post_author': None,\n",
       " 'grouped_id': 13728309587231506,\n",
       " 'reactions': None,\n",
       " 'restriction_reason': [],\n",
       " 'ttl_period': None,\n",
       " 'quick_reply_shortcut_id': None}"
      ]
     },
     "execution_count": 28,
     "metadata": {},
     "output_type": "execute_result"
    }
   ],
   "source": [
    "first.to_dict()"
   ]
  },
  {
   "cell_type": "code",
   "execution_count": 29,
   "metadata": {},
   "outputs": [],
   "source": [
    "first.text = out_text"
   ]
  },
  {
   "cell_type": "code",
   "execution_count": 30,
   "metadata": {},
   "outputs": [
    {
     "data": {
      "text/plain": [
       "'TRANSLATION: ** In Ukraine, truckers blocked the Odessa-Kiev route in protest against the new law on mobilization** Hundreds of trucks created a traffic jam on one of Ukraine &apos; s busiest routes. Due to new amendments to the law on mobilization of drivers, fur drivers may begin to be picked up on the front at the border, when leaving Ukraine. Most drivers do not fall under the reservation. ORIGINAL: **В Украине дальнобойщики заблокировали трассу Одесса-Киев в знак протеста против нового закона о мобилизации**\\n\\nСотни грузовых машин образовали пробку на одной из самых оживленных трасс Украины. Из-за новых поправок в закон о мобилизации водителей фур могут начать забирать на фронт на границе, при выезде из Украины. Под бронь большинство водителей не попадают. SOURCE: @astrapress'"
      ]
     },
     "execution_count": 30,
     "metadata": {},
     "output_type": "execute_result"
    }
   ],
   "source": [
    "first.text"
   ]
  },
  {
   "cell_type": "code",
   "execution_count": 31,
   "metadata": {},
   "outputs": [
    {
     "data": {
      "text/plain": [
       "{'_': 'Message',\n",
       " 'id': 55753,\n",
       " 'peer_id': {'_': 'PeerChannel', 'channel_id': 1700501351},\n",
       " 'date': datetime.datetime(2024, 5, 18, 13, 24, 58, tzinfo=datetime.timezone.utc),\n",
       " 'message': 'TRANSLATION:  In Ukraine, truckers blocked the Odessa-Kiev route in protest against the new law on mobilization Hundreds of trucks created a traffic jam on one of Ukraine &apos; s busiest routes. Due to new amendments to the law on mobilization of drivers, fur drivers may begin to be picked up on the front at the border, when leaving Ukraine. Most drivers do not fall under the reservation. ORIGINAL: В Украине дальнобойщики заблокировали трассу Одесса-Киев в знак протеста против нового закона о мобилизации\\n\\nСотни грузовых машин образовали пробку на одной из самых оживленных трасс Украины. Из-за новых поправок в закон о мобилизации водителей фур могут начать забирать на фронт на границе, при выезде из Украины. Под бронь большинство водителей не попадают. SOURCE: @astrapress',\n",
       " 'out': False,\n",
       " 'mentioned': False,\n",
       " 'media_unread': False,\n",
       " 'silent': False,\n",
       " 'post': True,\n",
       " 'from_scheduled': False,\n",
       " 'legacy': False,\n",
       " 'edit_hide': False,\n",
       " 'pinned': False,\n",
       " 'noforwards': False,\n",
       " 'invert_media': False,\n",
       " 'offline': False,\n",
       " 'from_id': None,\n",
       " 'from_boosts_applied': None,\n",
       " 'saved_peer_id': None,\n",
       " 'fwd_from': None,\n",
       " 'via_bot_id': None,\n",
       " 'via_business_bot_id': None,\n",
       " 'reply_to': None,\n",
       " 'media': {'_': 'MessageMediaDocument',\n",
       "  'nopremium': False,\n",
       "  'spoiler': False,\n",
       "  'video': True,\n",
       "  'round': False,\n",
       "  'voice': False,\n",
       "  'document': {'_': 'Document',\n",
       "   'id': 5350402217037809878,\n",
       "   'access_hash': -945980803042902584,\n",
       "   'file_reference': b'\\x02e[\\x97g\\x00\\x00\\xd9\\xc9fISR\\xc5\\xd4\\xa2L\\xedN\\xd3\\xff\\xd0h\\xa8,:X%\\x0e',\n",
       "   'date': datetime.datetime(2024, 5, 18, 13, 24, 24, tzinfo=datetime.timezone.utc),\n",
       "   'mime_type': 'video/mp4',\n",
       "   'size': 20944826,\n",
       "   'dc_id': 2,\n",
       "   'attributes': [{'_': 'DocumentAttributeVideo',\n",
       "     'duration': 100.166,\n",
       "     'w': 384,\n",
       "     'h': 848,\n",
       "     'round_message': False,\n",
       "     'supports_streaming': True,\n",
       "     'nosound': False,\n",
       "     'preload_prefix_size': None},\n",
       "    {'_': 'DocumentAttributeFilename', 'file_name': 'IMG_8330.mp4'}],\n",
       "   'thumbs': [{'_': 'PhotoStrippedSize',\n",
       "     'type': 'i',\n",
       "     'bytes': b\"\\x01(\\x12\\xd6\\xdf\\xefH\\\\\\x1a\\xca\\x8a{\\xb6\\x04\\x96R1\\xc7\\x15\\x17\\xf6\\x8c\\xe3\\xb2g\\xdcS\\xba\\x11\\xb1\\x91\\xedEc\\xff\\x00h\\xdczG\\xf9\\x1a(\\xe6@Y9\\xec\\t'\\xda\\xaa\\\\@\\xcd\\xf3\\xaa\\x9c\\xf7\\x18\\xa4\\x8dc1\\xaea\\x19\\xdb\\xd7\\x03\\x9aP\\xb1\\xe7\\x06>\\xbe\\xc2\\x91E}\\x8d\\xff\\x00<\\xdf\\xf24U\\x8d\\x91\\xf7\\x8d\\xbf\\x0f\\xff\\x00]\\x156\\x10\\xb1\\x9f\\xdd\\xa7\\xfb\\xb4\\x9e\\x87\\xda\\x8a*\\x80\\x95d!@\\xcfAE\\x14P\\x07\"},\n",
       "    {'_': 'PhotoSize', 'type': 'm', 'w': 145, 'h': 320, 'size': 9314}],\n",
       "   'video_thumbs': []},\n",
       "  'alt_document': None,\n",
       "  'ttl_seconds': None},\n",
       " 'reply_markup': None,\n",
       " 'entities': [{'_': 'MessageEntityBold', 'offset': 13, 'length': 98},\n",
       "  {'_': 'MessageEntityBold', 'offset': 403, 'length': 107}],\n",
       " 'views': 47097,\n",
       " 'forwards': 235,\n",
       " 'replies': None,\n",
       " 'edit_date': None,\n",
       " 'post_author': None,\n",
       " 'grouped_id': 13728309587231506,\n",
       " 'reactions': None,\n",
       " 'restriction_reason': [],\n",
       " 'ttl_period': None,\n",
       " 'quick_reply_shortcut_id': None}"
      ]
     },
     "execution_count": 31,
     "metadata": {},
     "output_type": "execute_result"
    }
   ],
   "source": [
    "first.to_dict()"
   ]
  },
  {
   "cell_type": "code",
   "execution_count": 32,
   "metadata": {},
   "outputs": [
    {
     "data": {
      "text/plain": [
       "[<telethon.tl.patched.Message at 0x71945c9e95b0>,\n",
       " <telethon.tl.patched.Message at 0x71945c9e9250>,\n",
       " <telethon.tl.patched.Message at 0x71945c9e90d0>,\n",
       " <telethon.tl.patched.Message at 0x71945c9e8e00>,\n",
       " <telethon.tl.patched.Message at 0x71945c9e8b00>,\n",
       " <telethon.tl.patched.Message at 0x71945c9eb380>,\n",
       " <telethon.tl.patched.Message at 0x71945c9e8830>,\n",
       " <telethon.tl.patched.Message at 0x71945c9e8230>,\n",
       " <telethon.tl.patched.Message at 0x71945d3b25d0>,\n",
       " <telethon.tl.patched.Message at 0x71945d3b3a40>,\n",
       " <telethon.tl.patched.Message at 0x71945d3b3920>,\n",
       " <telethon.tl.patched.Message at 0x71945d3b2f60>,\n",
       " <telethon.tl.patched.Message at 0x71945d3b2d50>,\n",
       " <telethon.tl.patched.Message at 0x71945d3b3e90>,\n",
       " <telethon.tl.patched.Message at 0x71945d3b08c0>,\n",
       " <telethon.tl.patched.Message at 0x71945d3b2a20>,\n",
       " <telethon.tl.patched.Message at 0x71945d3b2db0>,\n",
       " <telethon.tl.patched.Message at 0x71945d3b10a0>,\n",
       " <telethon.tl.patched.Message at 0x71945d3b0cb0>,\n",
       " <telethon.tl.patched.Message at 0x71945d3b36e0>,\n",
       " <telethon.tl.patched.Message at 0x71945c9c35c0>,\n",
       " <telethon.tl.patched.Message at 0x71945c9c2690>,\n",
       " <telethon.tl.patched.Message at 0x71945c9c0770>,\n",
       " <telethon.tl.patched.Message at 0x71945c9c38f0>,\n",
       " <telethon.tl.patched.Message at 0x71945c9c2ae0>,\n",
       " <telethon.tl.patched.Message at 0x71945c9c3620>,\n",
       " <telethon.tl.patched.Message at 0x71945c9c2cc0>,\n",
       " <telethon.tl.patched.Message at 0x71945c9c2de0>,\n",
       " <telethon.tl.patched.Message at 0x71945c9c3140>,\n",
       " <telethon.tl.patched.Message at 0x71945c9c35f0>,\n",
       " <telethon.tl.patched.Message at 0x71945c9c25a0>,\n",
       " <telethon.tl.patched.Message at 0x71945c9c1d90>,\n",
       " <telethon.tl.patched.Message at 0x7194b5737f20>,\n",
       " <telethon.tl.patched.Message at 0x71945d317650>]"
      ]
     },
     "execution_count": 32,
     "metadata": {},
     "output_type": "execute_result"
    }
   ],
   "source": [
    "results"
   ]
  },
  {
   "cell_type": "code",
   "execution_count": 33,
   "metadata": {},
   "outputs": [
    {
     "data": {
      "text/plain": [
       "[<telethon.tl.patched.Message at 0x71945c9e95b0>,\n",
       " <telethon.tl.patched.Message at 0x71945c9e9250>,\n",
       " <telethon.tl.patched.Message at 0x71945c9e90d0>,\n",
       " <telethon.tl.patched.Message at 0x71945c9e8e00>,\n",
       " <telethon.tl.patched.Message at 0x71945c9e8b00>]"
      ]
     },
     "execution_count": 33,
     "metadata": {},
     "output_type": "execute_result"
    }
   ],
   "source": [
    "results[:5]"
   ]
  },
  {
   "cell_type": "code",
   "execution_count": 35,
   "metadata": {},
   "outputs": [],
   "source": [
    "source = '@astrapress'"
   ]
  },
  {
   "cell_type": "code",
   "execution_count": 36,
   "metadata": {},
   "outputs": [],
   "source": [
    "for result in results[:5]:\n",
    "    translation = translator(result.text)\n",
    "    result.text = f'TRANSLATION: {translation[0]['translation_text']} ORIGINAL: {text} SOURCE: {source}'"
   ]
  },
  {
   "cell_type": "code",
   "execution_count": 37,
   "metadata": {},
   "outputs": [
    {
     "name": "stdout",
     "output_type": "stream",
     "text": [
      "TRANSLATION: TRANSLATION: ** In Ukraine, truckers blocked the Odessa-Kiev route in the protest against the new law on mobility**Hundreds of trucks made a trade jam on one of the Ukraine &apos; s major &apos; s provisions. Due to new provisions to the law on mobility of goods, fur divers May begin to be made up on the background on the border, when driving UK. Most divers do not give up the provision. ORIGINAL: **In Ukraine, truckers blocked the Odesssa-Kiev route to protest the new law on mobilization** Hundreds of lorries traffic on one of the busiest routes in Ukraine. ORIGINAL: **В Украине дальнобойщики заблокировали трассу Одесса-Киев в знак протеста против нового закона о мобилизации**\n",
      "\n",
      "Сотни грузовых машин образовали пробку на одной из самых оживленных трасс Украины. Из-за новых поправок в закон о мобилизации водителей фур могут начать забирать на фронт на границе, при выезде из Украины. Под бронь большинство водителей не попадают. SOURCE: @astrapress\n",
      "TRANSLATION: It's okay. It's okay. ORIGINAL: **В Украине дальнобойщики заблокировали трассу Одесса-Киев в знак протеста против нового закона о мобилизации**\n",
      "\n",
      "Сотни грузовых машин образовали пробку на одной из самых оживленных трасс Украины. Из-за новых поправок в закон о мобилизации водителей фур могут начать забирать на фронт на границе, при выезде из Украины. Под бронь большинство водителей не попадают. SOURCE: @astrapress\n",
      "TRANSLATION: It's okay. It's okay. ORIGINAL: **В Украине дальнобойщики заблокировали трассу Одесса-Киев в знак протеста против нового закона о мобилизации**\n",
      "\n",
      "Сотни грузовых машин образовали пробку на одной из самых оживленных трасс Украины. Из-за новых поправок в закон о мобилизации водителей фур могут начать забирать на фронт на границе, при выезде из Украины. Под бронь большинство водителей не попадают. SOURCE: @astrapress\n",
      "TRANSLATION: **Danone announced the sale of its business in Russia to a company from Tatarstan** The French company Danone [declared] (https://www.rbc.ru/business/17/05/2024/6647b4b4b497947f7c3d867) to complete the sale of its Russian business to Wain R. In this company, 99 per cent are owned by the milk producer Vain Tatarstan, 1 per cent by the former Deputy Minister of Agriculture, Chechnya Ruslan Alisultanov. It was reported that Vain Tatarstan was ready to pay 17.7 marbles for control of the Russian unit Danone. Danone is one of the largest manufacturers of dairy and other foodstuffs operating in more than 140 countries worldwide. ORIGINAL: **В Украине дальнобойщики заблокировали трассу Одесса-Киев в знак протеста против нового закона о мобилизации**\n",
      "\n",
      "Сотни грузовых машин образовали пробку на одной из самых оживленных трасс Украины. Из-за новых поправок в закон о мобилизации водителей фур могут начать забирать на фронт на границе, при выезде из Украины. Под бронь большинство водителей не попадают. SOURCE: @astrapress\n",
      "TRANSLATION: The President of Georgia, Salome Zurabishvili, stated that she had vetoed a bill on non-agents passed by Parliament. ORIGINAL: **В Украине дальнобойщики заблокировали трассу Одесса-Киев в знак протеста против нового закона о мобилизации**\n",
      "\n",
      "Сотни грузовых машин образовали пробку на одной из самых оживленных трасс Украины. Из-за новых поправок в закон о мобилизации водителей фур могут начать забирать на фронт на границе, при выезде из Украины. Под бронь большинство водителей не попадают. SOURCE: @astrapress\n"
     ]
    }
   ],
   "source": [
    "for result in results[:5]:\n",
    "    print(result.text)"
   ]
  },
  {
   "cell_type": "code",
   "execution_count": 46,
   "metadata": {},
   "outputs": [
    {
     "name": "stdout",
     "output_type": "stream",
     "text": [
      "TRANSLATION: **Danone announced the sale of its business in Russia to a company from Tatarstan** The French company Danone [declared] (https://www.rbc.ru/business/17/05/2024/6647b4b4b497947f7c3d867) to complete the sale of its Russian business to Wain R. In this company, 99 per cent are owned by the milk producer Vain Tatarstan, 1 per cent by the former Deputy Minister of Agriculture, Chechnya Ruslan Alisultanov. It was reported that Vain Tatarstan was ready to pay 17.7 marbles for control of the Russian unit Danone. Danone is one of the largest manufacturers of dairy and other foodstuffs operating in more than 140 countries worldwide. ORIGINAL: **В Украине дальнобойщики заблокировали трассу Одесса-Киев в знак протеста против нового закона о мобилизации**\n",
      "\n",
      "Сотни грузовых машин образовали пробку на одной из самых оживленных трасс Украины. Из-за новых поправок в закон о мобилизации водителей фур могут начать забирать на фронт на границе, при выезде из Украины. Под бронь большинство водителей не попадают. SOURCE: @astrapress\n"
     ]
    }
   ],
   "source": [
    "print(results[3].text)"
   ]
  },
  {
   "cell_type": "code",
   "execution_count": null,
   "metadata": {},
   "outputs": [],
   "source": []
  }
 ],
 "metadata": {
  "kernelspec": {
   "display_name": "Python 3",
   "language": "python",
   "name": "python3"
  },
  "language_info": {
   "codemirror_mode": {
    "name": "ipython",
    "version": 3
   },
   "file_extension": ".py",
   "mimetype": "text/x-python",
   "name": "python",
   "nbconvert_exporter": "python",
   "pygments_lexer": "ipython3",
   "version": "3.12.3"
  }
 },
 "nbformat": 4,
 "nbformat_minor": 2
}
