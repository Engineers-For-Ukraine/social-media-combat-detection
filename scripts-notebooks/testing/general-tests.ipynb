{
 "cells": [
  {
   "cell_type": "code",
   "execution_count": 1,
   "metadata": {},
   "outputs": [],
   "source": [
    "from map_funcs import *"
   ]
  },
  {
   "cell_type": "code",
   "execution_count": 2,
   "metadata": {},
   "outputs": [],
   "source": [
    "messages = [\"This is a message about Kharkiv\", \"This is a message about Bila\", 'How about Oddesssa?', 'Does it work for Karkoff']"
   ]
  },
  {
   "cell_type": "code",
   "execution_count": 3,
   "metadata": {},
   "outputs": [
    {
     "name": "stdout",
     "output_type": "stream",
     "text": [
      "('Dzerzhinsk', 68)\n",
      "('Kharkiv', 100)\n",
      "[[50, 36.2292]]\n",
      "('Dzerzhinsk', 68)\n",
      "('Bila Tserkva', 90)\n",
      "[[49.7956, 30.1167]]\n",
      "('Horodyshche', 72)\n",
      "('Odessa', 86)\n",
      "[[46.4775, 30.7326]]\n",
      "('Donetsk', 73)\n",
      "('Kharkov', 71)\n",
      "[]\n"
     ]
    }
   ],
   "source": [
    "for message in messages:\n",
    "    print(get_locations(message))\n",
    "    "
   ]
  },
  {
   "cell_type": "code",
   "execution_count": null,
   "metadata": {},
   "outputs": [],
   "source": []
  }
 ],
 "metadata": {
  "kernelspec": {
   "display_name": "Python 3",
   "language": "python",
   "name": "python3"
  },
  "language_info": {
   "codemirror_mode": {
    "name": "ipython",
    "version": 3
   },
   "file_extension": ".py",
   "mimetype": "text/x-python",
   "name": "python",
   "nbconvert_exporter": "python",
   "pygments_lexer": "ipython3",
   "version": "3.10.12"
  }
 },
 "nbformat": 4,
 "nbformat_minor": 2
}
