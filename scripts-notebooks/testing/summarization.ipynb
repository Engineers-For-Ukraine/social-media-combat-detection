{
 "cells": [
  {
   "cell_type": "code",
   "execution_count": 1,
   "metadata": {},
   "outputs": [],
   "source": [
    "from telethon import TelegramClient\n",
    "from datetime import datetime, timedelta, timezone\n",
    "from api import *\n",
    "import emoji\n",
    "from transformers import pipeline\n",
    "summarizer = pipeline('summarization', device=0)"
   ]
  },
  {
   "cell_type": "code",
   "execution_count": 36,
   "metadata": {},
   "outputs": [],
   "source": [
    "async def get_messages(chat_name):\n",
    "    global api_id\n",
    "    global api_hash\n",
    "    messages = []\n",
    "    async with TelegramClient(api_id=api_id, api_hash=api_hash, session='this') as client:\n",
    "            async for message in client.iter_messages(chat_name, offset_date=datetime.now(tz=timezone.utc) - timedelta(hours=24), reverse=True):\n",
    "                messages.append(message)\n",
    "    return messages\n",
    "\n",
    "async def post_message(message):\n",
    "    global api_id\n",
    "    global api_hash\n",
    "    async with TelegramClient(api_id=api_id, api_hash=api_hash, session='this') as client:\n",
    "        await client.send_message(entity=-1002016594072, message=message)"
   ]
  },
  {
   "cell_type": "code",
   "execution_count": 52,
   "metadata": {},
   "outputs": [],
   "source": [
    "def clean_messages(messages):\n",
    "\n",
    "    \"\"\"This is a helper function for create_summary which takes in a set of messages return from Telegram and\n",
    "      returns those messages text contents as a single long string\"\"\"\n",
    "\n",
    "    messages = [message.to_dict() for message in messages]\n",
    "    texts = [emoji.demojize(message['message'].split('ORIGINAL')[0].replace('TRANSLATION :', '').replace('\\n', ' ')) for message in messages]\n",
    "    clean_text = ' '.join(texts)\n",
    "\n",
    "    return clean_text\n",
    "\n",
    "\n",
    "def summarize(input):\n",
    "    \"\"\"This is a helper function for create_summary which takes in a long string of text and returns a summarized string\"\"\"\n",
    "\n",
    "    split_input = []\n",
    "\n",
    "    start = 0\n",
    "    end = 1024\n",
    "\n",
    "    for i in range(len(input)//1024):\n",
    "        split_input.append(input[start:end])\n",
    "        start = end\n",
    "        end += 1024\n",
    "\n",
    "    split_input.append(input[end:])\n",
    "\n",
    "    outputs = summarizer(split_input)\n",
    "\n",
    "    summary = ' '.join([elt['summary_text'] for elt in outputs])\n",
    "\n",
    "    return summary\n",
    "\n",
    "\n",
    "def create_summary(messages):\n",
    "    \"\"\"This function takes in a set of messages from Telegram and returns a summary of less than 4000 characters\"\"\"\n",
    "\n",
    "    text = clean_messages(messages)\n",
    "\n",
    "    while len(text) > 4000:\n",
    "        \n",
    "        text = summarize(text)\n",
    "\n",
    "    summary = str(datetime.now()) + '\\n\\n' + '\\n\\n'.join(text.split('. '))\n",
    "\n",
    "    return summary"
   ]
  },
  {
   "cell_type": "code",
   "execution_count": 57,
   "metadata": {},
   "outputs": [
    {
     "name": "stderr",
     "output_type": "stream",
     "text": [
      "Your max_length is set to 142, but your input_length is only 3. Since this is a summarization task, where outputs shorter than the input are typically wanted, you might consider decreasing max_length manually, e.g. summarizer('...', max_length=1)\n",
      "Your max_length is set to 142, but your input_length is only 3. Since this is a summarization task, where outputs shorter than the input are typically wanted, you might consider decreasing max_length manually, e.g. summarizer('...', max_length=1)\n",
      "Your max_length is set to 142, but your input_length is only 3. Since this is a summarization task, where outputs shorter than the input are typically wanted, you might consider decreasing max_length manually, e.g. summarizer('...', max_length=1)\n"
     ]
    },
    {
     "name": "stdout",
     "output_type": "stream",
     "text": [
      "86.99425079999992\n"
     ]
    }
   ],
   "source": [
    "import time\n",
    "\n",
    "tic = time.perf_counter()\n",
    "messages = await get_messages('CombatMessagesUA')\n",
    "summary = create_summary(messages)\n",
    "await post_message(summary)\n",
    "toc = time.perf_counter()\n",
    "\n",
    "elapsed = toc - tic\n",
    "\n",
    "print(elapsed)"
   ]
  },
  {
   "cell_type": "code",
   "execution_count": null,
   "metadata": {},
   "outputs": [],
   "source": []
  }
 ],
 "metadata": {
  "kernelspec": {
   "display_name": "Python 3",
   "language": "python",
   "name": "python3"
  },
  "language_info": {
   "codemirror_mode": {
    "name": "ipython",
    "version": 3
   },
   "file_extension": ".py",
   "mimetype": "text/x-python",
   "name": "python",
   "nbconvert_exporter": "python",
   "pygments_lexer": "ipython3",
   "version": "3.12.4"
  }
 },
 "nbformat": 4,
 "nbformat_minor": 2
}
