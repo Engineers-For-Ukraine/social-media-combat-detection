{
 "cells": [
  {
   "cell_type": "code",
   "execution_count": 1,
   "metadata": {},
   "outputs": [],
   "source": [
    "from app.telebot import Telebot\n",
    "from app.classifier import XGBClassifier\n",
    "from app.mapper import Mapper\n",
    "\n",
    "import asyncio\n",
    "from time import sleep\n",
    "from datetime import datetime"
   ]
  },
  {
   "cell_type": "code",
   "execution_count": 2,
   "metadata": {},
   "outputs": [
    {
     "name": "stdout",
     "output_type": "stream",
     "text": [
      "Classifier loaded\n",
      "Vectorizer loaded\n"
     ]
    }
   ],
   "source": [
    "classifier = XGBClassifier(model_path='models/xgb_classifier', vectorizer_path='models/tfid-vectorizer.pickle')\n",
    "telebot = Telebot()\n",
    "mapper = Mapper(client=\"mongodb://mongo:27017/\", db_name=\"my-db\", collection_name=\"messages\")"
   ]
  },
  {
   "cell_type": "code",
   "execution_count": 3,
   "metadata": {},
   "outputs": [
    {
     "name": "stdout",
     "output_type": "stream",
     "text": [
      "30 messages downloaded\n"
     ]
    }
   ],
   "source": [
    "messages = await telebot.get_messages('amplifyukraine')\n",
    "num_messages = len(messages)\n",
    "print(f\"{num_messages} messages downloaded\")"
   ]
  },
  {
   "cell_type": "code",
   "execution_count": 4,
   "metadata": {},
   "outputs": [
    {
     "name": "stdout",
     "output_type": "stream",
     "text": [
      "\u001b[A                                                                  \u001b[A\n",
      "1/30 classified...\n",
      "\u001b[A                                                                  \u001b[A\n",
      "2/30 classified...\n",
      "\u001b[A                                                                  \u001b[A\n",
      "3/30 classified...\n",
      "\u001b[A                                                                  \u001b[A\n",
      "4/30 classified...\n",
      "\u001b[A                                                                  \u001b[A\n",
      "5/30 classified...\n",
      "\u001b[A                                                                  \u001b[A\n",
      "6/30 classified...\n",
      "\u001b[A                                                                  \u001b[A\n",
      "7/30 classified...\n",
      "\u001b[A                                                                  \u001b[A\n",
      "8/30 classified...\n",
      "\u001b[A                                                                  \u001b[A\n",
      "9/30 classified...\n",
      "\u001b[A                                                                  \u001b[A\n",
      "10/30 classified...\n",
      "\u001b[A                                                                  \u001b[A\n",
      "11/30 classified...\n",
      "\u001b[A                                                                  \u001b[A\n",
      "12/30 classified...\n",
      "\u001b[A                                                                  \u001b[A\n",
      "13/30 classified...\n",
      "\u001b[A                                                                  \u001b[A\n",
      "14/30 classified...\n",
      "\u001b[A                                                                  \u001b[A\n",
      "15/30 classified...\n",
      "\u001b[A                                                                  \u001b[A\n",
      "16/30 classified...\n",
      "\u001b[A                                                                  \u001b[A\n",
      "17/30 classified...\n",
      "\u001b[A                                                                  \u001b[A\n",
      "18/30 classified...\n",
      "\u001b[A                                                                  \u001b[A\n",
      "19/30 classified...\n",
      "\u001b[A                                                                  \u001b[A\n",
      "20/30 classified...\n",
      "\u001b[A                                                                  \u001b[A\n",
      "21/30 classified...\n",
      "\u001b[A                                                                  \u001b[A\n",
      "22/30 classified...\n",
      "\u001b[A                                                                  \u001b[A\n",
      "23/30 classified...\n",
      "\u001b[A                                                                  \u001b[A\n",
      "24/30 classified...\n",
      "\u001b[A                                                                  \u001b[A\n",
      "25/30 classified...\n",
      "\u001b[A                                                                  \u001b[A\n",
      "26/30 classified...\n",
      "\u001b[A                                                                  \u001b[A\n",
      "27/30 classified...\n",
      "\u001b[A                                                                  \u001b[A\n",
      "28/30 classified...\n",
      "\u001b[A                                                                  \u001b[A\n",
      "29/30 classified...\n",
      "\u001b[A                                                                  \u001b[A\n",
      "30/30 classified...\n",
      "Messages classified\n",
      "2 found\n"
     ]
    }
   ],
   "source": [
    "combats = classifier.classify(messages)\n",
    "print('Messages classified')\n",
    "num_combats = len(combats)\n",
    "print(f\"{num_combats} found\")"
   ]
  },
  {
   "cell_type": "code",
   "execution_count": 6,
   "metadata": {},
   "outputs": [],
   "source": [
    "messages = [7.8]"
   ]
  },
  {
   "cell_type": "code",
   "execution_count": 7,
   "metadata": {},
   "outputs": [
    {
     "name": "stdout",
     "output_type": "stream",
     "text": [
      "'float' object has no attribute 'text'\n"
     ]
    }
   ],
   "source": [
    "try:\n",
    "    classifier.classify(messages)\n",
    "except Exception as e:\n",
    "    print(e)"
   ]
  }
 ],
 "metadata": {
  "kernelspec": {
   "display_name": "Python 3",
   "language": "python",
   "name": "python3"
  },
  "language_info": {
   "codemirror_mode": {
    "name": "ipython",
    "version": 3
   },
   "file_extension": ".py",
   "mimetype": "text/x-python",
   "name": "python",
   "nbconvert_exporter": "python",
   "pygments_lexer": "ipython3",
   "version": "3.10.12"
  }
 },
 "nbformat": 4,
 "nbformat_minor": 2
}
