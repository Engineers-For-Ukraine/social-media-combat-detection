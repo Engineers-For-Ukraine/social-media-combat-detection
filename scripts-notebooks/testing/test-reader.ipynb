{
 "cells": [
  {
   "cell_type": "code",
   "execution_count": 1,
   "metadata": {},
   "outputs": [],
   "source": [
    "from telethon import TelegramClient\n",
    "from datetime import datetime, timedelta, timezone\n",
    "from app.classifier import XGBClassifier\n",
    "from app.api import *"
   ]
  },
  {
   "cell_type": "code",
   "execution_count": 2,
   "metadata": {},
   "outputs": [],
   "source": [
    "async def main(chat_name):\n",
    "    global api_id\n",
    "    global api_hash\n",
    "    messages = []\n",
    "    async with TelegramClient(api_id=api_id, api_hash=api_hash, session='this') as client:\n",
    "            async for message in client.iter_messages(chat_name, offset_date=datetime.now(tz=timezone.utc) - timedelta(hours=12), reverse=True):\n",
    "                messages.append(message)\n",
    "    return messages"
   ]
  },
  {
   "cell_type": "code",
   "execution_count": 3,
   "metadata": {},
   "outputs": [],
   "source": [
    "chat_name = 'amplifyukraine'"
   ]
  },
  {
   "cell_type": "code",
   "execution_count": 4,
   "metadata": {},
   "outputs": [],
   "source": [
    "results = await main(chat_name)"
   ]
  },
  {
   "cell_type": "code",
   "execution_count": 5,
   "metadata": {},
   "outputs": [],
   "source": [
    "messages = results\n",
    "first = messages[0]"
   ]
  },
  {
   "cell_type": "code",
   "execution_count": 6,
   "metadata": {},
   "outputs": [
    {
     "data": {
      "text/plain": [
       "<telethon.tl.patched.Message at 0x75b927265150>"
      ]
     },
     "execution_count": 6,
     "metadata": {},
     "output_type": "execute_result"
    }
   ],
   "source": [
    "first"
   ]
  },
  {
   "cell_type": "code",
   "execution_count": 7,
   "metadata": {},
   "outputs": [
    {
     "data": {
      "text/plain": [
       "'TRANSLATION :\\n⚡️Правоохранители conduct searches at the mayor of Irpen and in Irpen City Council - mass media\\n  \\nSearches are being conducted at the place of residence of Irpen city mayor Oleksandr Markushyn, head of the personnel department of the executive committee of the IMR Tamara Khalaim, chief accountant of the executive committee Kristyna Hluzhanets. Also in the city Council law enforcers brought a resolution to seize documents. This was reported to ITV in Irpin city council.  \\n  \\n📑 In the course of searches was seized documentation on the withdrawal in 2023 17 million UAH from the city budget of Irpen due to the accrual of inflated salaries to a certain circle of employees of the executive Committee.  \\n  \\nOn May 1, 2024, Oleksandr Markushin suspended his first deputy Andriy Kravchuk, who is one of the main witnesses in the criminal case on the embezzlement of the budget due to salaries. Kravchuk testified in the case, where employees were charged inflated salaries and bonuses, which were later transferred in cash to Markushin through Tamara Khalaim. She personally received 1,657,567 UAH of salary for 2023.  \\n  \\n⚖️Кроме organization of the salary scheme, the mayor of Irpen Oleksandr Markushin is a defendant in five other criminal proceedings.  \\n  \\nAccording to the publication Mistoinform, \"the funds withdrawn from the budget, in particular, were used to finance Markushin\\'s so-called informal press service, which was coordinated by the mayor\\'s cohabitant Taisiya Valerievna Yusupova. The formal reason for the commission to suspend Kravchuk was the statement of IMR deputy Artem Gurin. It was Gurin and his parents who received 300,000 UAH from the city program for the vulnerable \"Turbota\".  \\n  \\nSubscribe to Insider | Send content\\nORIGINAL :\\n⚡️Правоохранители проводят обыски у мэра Ирпеня и в Ирпенском горсовете, — СМИ  \\n  \\nОбыски проводятся по месту жительства Ирпенского городского головы Александра Маркушина, начальника отдела кадров исполкома ИМР Тамары Халаим, главного бухгалтера исполкома Кристины Глужанец. Также в городской совет правоохранители принесли постановление на выемку документов. Об этом сообщили ITV в Ирпенском городском совете.  \\n  \\n📑В ходе обысков была изъята документация о выводе в 2023 году 17 млн \\u200b\\u200bгрн из городского бюджета Ирпеня из-за начисления завышенных зарплат определенному кругу работников исполкома.  \\n  \\n1 мая 2024 года Александр Маркушин отстранил своего первого заместителя Андрея Кравчука, который является одним из главных свидетелей по уголовному делу по хищению бюджета из-за зарплат. Кравчук дал показания по делу, где работникам ради начислялись завышенные зарплаты и премии, которые в дальнейшем наличными передавали Маркушину через Тамару Халаим. Она лично получила 1 657 567 грн зарплаты за 2023 год.  \\n  \\n⚖️Кроме организации зарплатной схемы, городской голова Ирпеня Александр Маркушин является фигурантом еще пяти уголовных производств.  \\n  \\nПо данным издания «Містоінформ», «из выведенных из бюджета средств, в частности, финансировалась так называемая неформальная пресс-служба Маркушина, которую координировала сожительница мэра Юсупова Таисия Валерьевна. Формальным поводом для комиссии по отстранению Кравчука стало заявление депутата ИМР Артема Гурина. Именно Гурин и его родители получили 300 000 грн из городской программы для незащищенных «Турбота».  \\n  \\nПодписаться на Инсайдер | Прислать контент\\nSOURCE :\\nhttps://t.me/insiderUKR/74100\\nИнсайдер UA | Україна | Новини'"
      ]
     },
     "execution_count": 7,
     "metadata": {},
     "output_type": "execute_result"
    }
   ],
   "source": [
    "first.text"
   ]
  },
  {
   "cell_type": "code",
   "execution_count": 8,
   "metadata": {},
   "outputs": [
    {
     "data": {
      "text/plain": [
       "datetime.datetime(2024, 5, 2, 9, 12, 28, tzinfo=datetime.timezone.utc)"
      ]
     },
     "execution_count": 8,
     "metadata": {},
     "output_type": "execute_result"
    }
   ],
   "source": [
    "first.date"
   ]
  },
  {
   "cell_type": "code",
   "execution_count": 9,
   "metadata": {},
   "outputs": [
    {
     "data": {
      "text/plain": [
       "datetime.datetime(2024, 5, 2, 17, 9, 44, 429178)"
      ]
     },
     "execution_count": 9,
     "metadata": {},
     "output_type": "execute_result"
    }
   ],
   "source": [
    "datetime.now()"
   ]
  },
  {
   "cell_type": "code",
   "execution_count": 12,
   "metadata": {},
   "outputs": [
    {
     "name": "stdout",
     "output_type": "stream",
     "text": [
      "Classifier loaded\n",
      "Vectorizer loaded\n"
     ]
    }
   ],
   "source": [
    "classifier = XGBClassifier(model_path='models/xgb_classifier', vectorizer_path='models/tfid-vectorizer.pickle')"
   ]
  },
  {
   "cell_type": "code",
   "execution_count": 27,
   "metadata": {},
   "outputs": [
    {
     "name": "stdout",
     "output_type": "stream",
     "text": [
      "\u001b[A                                                                  \u001b[A\n",
      "1/1 classified...\n"
     ]
    },
    {
     "data": {
      "text/plain": [
       "[]"
      ]
     },
     "execution_count": 27,
     "metadata": {},
     "output_type": "execute_result"
    }
   ],
   "source": [
    "classifier.classify([first])"
   ]
  }
 ],
 "metadata": {
  "kernelspec": {
   "display_name": "Python 3",
   "language": "python",
   "name": "python3"
  },
  "language_info": {
   "codemirror_mode": {
    "name": "ipython",
    "version": 3
   },
   "file_extension": ".py",
   "mimetype": "text/x-python",
   "name": "python",
   "nbconvert_exporter": "python",
   "pygments_lexer": "ipython3",
   "version": "3.10.12"
  }
 },
 "nbformat": 4,
 "nbformat_minor": 2
}
