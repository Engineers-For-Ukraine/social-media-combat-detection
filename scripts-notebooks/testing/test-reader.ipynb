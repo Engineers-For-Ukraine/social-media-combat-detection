{
 "cells": [
  {
   "cell_type": "code",
   "execution_count": 3,
   "metadata": {},
   "outputs": [],
   "source": [
    "from telethon import TelegramClient\n",
    "from datetime import datetime, timedelta, timezone\n",
    "from app.classifier import XGBClassifier\n",
    "from app.api import *"
   ]
  },
  {
   "cell_type": "code",
   "execution_count": 4,
   "metadata": {},
   "outputs": [],
   "source": [
    "async def main(chat_name):\n",
    "    global api_id\n",
    "    global api_hash\n",
    "    messages = []\n",
    "    async with TelegramClient(api_id=api_id, api_hash=api_hash, session='this') as client:\n",
    "            async for message in client.iter_messages(chat_name, offset_date=datetime.now(tz=timezone.utc) - timedelta(hours=12), reverse=True):\n",
    "                messages.append(message)\n",
    "    return messages"
   ]
  },
  {
   "cell_type": "code",
   "execution_count": 10,
   "metadata": {},
   "outputs": [],
   "source": [
    "chat_name = 'Ukraine_Report'"
   ]
  },
  {
   "cell_type": "code",
   "execution_count": 11,
   "metadata": {},
   "outputs": [],
   "source": [
    "results = await main(chat_name)"
   ]
  },
  {
   "cell_type": "code",
   "execution_count": 12,
   "metadata": {},
   "outputs": [],
   "source": [
    "messages = results\n",
    "first = messages[0]"
   ]
  },
  {
   "cell_type": "code",
   "execution_count": 13,
   "metadata": {},
   "outputs": [
    {
     "data": {
      "text/plain": [
       "<telethon.tl.patched.Message at 0x745944156720>"
      ]
     },
     "execution_count": 13,
     "metadata": {},
     "output_type": "execute_result"
    }
   ],
   "source": [
    "first"
   ]
  },
  {
   "cell_type": "code",
   "execution_count": 14,
   "metadata": {},
   "outputs": [
    {
     "data": {
      "text/plain": [
       "'🔱 Operational information as of 1:30 p.m. 18/05/2024 regarding the Russian invasion\\n\\n❗️ The main summary:\\n\\n🔵 In most directions, the enemy continues active offensive actions, trying to break through the defense of our troops. Since the beginning of the current day, there have already been 44 combat clashes, most of them in the Pokrovsky, Kramatorsk, and Kurakhiv directions.\\n\\n🔵 In the Kharkiv direction, the enemy, with the support of aviation, tried five times to break through the lines of our defense in the areas of Liptsi and Vovchansk. In addition, in some areas, Ukrainian units conducted assault operations.\\n\\n🔵 In the Kupyansk direction, Russian aircraft struck the areas of Berestov and Makiivka settlements. As of this time, a total of six combat clashes took place.\\n\\n🔵 In the Lyman direction, the enemy tried three times to suppress the units of the Defense Forces near Novosadovo, Torsky, and Hryhorivka, but was unsuccessful. Instead, our defenders improved the tactical position in some areas of this direction.\\n\\n🔵 In the Kramatorsk direction, the enemy carried out eight attacks near the settlements of Novy, Klishchiivka and Andriivka.\\n\\n🔵 In the Pokrovsky direction, the aggressor maintains the intensity of offensive actions. Since the beginning of the day, the Russian occupiers have already tried to break through our defenses 10 times, in particular in the direction of the settlements of Novooleksandrivka, Yevgenivka, Novoselivka Persha and Umanske.\\n\\n🔵 In the Kurakhiv direction, the number of attacks on the positions of Ukrainian defenders increased to seven. The enemy tried to seize our positions in the areas of Novomykhailivka, Krasnohorivka, Paraskoviivka, Kostyantynivka, and Vodiany.\\n\\n🔵 In the Dnieper direction, the Russian invaders made three attempts to knock out our soldiers from Krynyk on the left bank of the Dnieper. They had no success.\\n\\n🔵 In the rest of the directions, the situation did not undergo significant changes.\\n\\nSupport the Armed Forces of Ukraine! Together we will win!✊\\nGlory to Ukraine!🇺🇦\\n\\nAFU full report.\\n\\n🇺🇦@ukraine_report 🇺🇦🔱 Liz'"
      ]
     },
     "execution_count": 14,
     "metadata": {},
     "output_type": "execute_result"
    }
   ],
   "source": [
    "first.text"
   ]
  },
  {
   "cell_type": "code",
   "execution_count": 8,
   "metadata": {},
   "outputs": [
    {
     "data": {
      "text/plain": [
       "datetime.datetime(2024, 5, 2, 9, 12, 28, tzinfo=datetime.timezone.utc)"
      ]
     },
     "execution_count": 8,
     "metadata": {},
     "output_type": "execute_result"
    }
   ],
   "source": [
    "first.date"
   ]
  },
  {
   "cell_type": "code",
   "execution_count": 9,
   "metadata": {},
   "outputs": [
    {
     "data": {
      "text/plain": [
       "datetime.datetime(2024, 5, 2, 17, 9, 44, 429178)"
      ]
     },
     "execution_count": 9,
     "metadata": {},
     "output_type": "execute_result"
    }
   ],
   "source": [
    "datetime.now()"
   ]
  },
  {
   "cell_type": "code",
   "execution_count": 12,
   "metadata": {},
   "outputs": [
    {
     "name": "stdout",
     "output_type": "stream",
     "text": [
      "Classifier loaded\n",
      "Vectorizer loaded\n"
     ]
    }
   ],
   "source": [
    "classifier = XGBClassifier(model_path='models/xgb_classifier', vectorizer_path='models/tfid-vectorizer.pickle')"
   ]
  },
  {
   "cell_type": "code",
   "execution_count": 27,
   "metadata": {},
   "outputs": [
    {
     "name": "stdout",
     "output_type": "stream",
     "text": [
      "\u001b[A                                                                  \u001b[A\n",
      "1/1 classified...\n"
     ]
    },
    {
     "data": {
      "text/plain": [
       "[]"
      ]
     },
     "execution_count": 27,
     "metadata": {},
     "output_type": "execute_result"
    }
   ],
   "source": [
    "classifier.classify([first])"
   ]
  }
 ],
 "metadata": {
  "kernelspec": {
   "display_name": "Python 3",
   "language": "python",
   "name": "python3"
  },
  "language_info": {
   "codemirror_mode": {
    "name": "ipython",
    "version": 3
   },
   "file_extension": ".py",
   "mimetype": "text/x-python",
   "name": "python",
   "nbconvert_exporter": "python",
   "pygments_lexer": "ipython3",
   "version": "3.12.3"
  }
 },
 "nbformat": 4,
 "nbformat_minor": 2
}
