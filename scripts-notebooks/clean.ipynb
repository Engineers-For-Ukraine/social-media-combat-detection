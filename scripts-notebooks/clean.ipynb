{
 "cells": [
  {
   "cell_type": "code",
   "execution_count": 1,
   "metadata": {},
   "outputs": [],
   "source": [
    "import pandas as pd\n",
    "import re\n",
    "import emoji"
   ]
  },
  {
   "cell_type": "code",
   "execution_count": 14,
   "metadata": {},
   "outputs": [],
   "source": [
    "df = pd.read_csv('/home/j/Documents/Projects/social-media-combat-detection/data/test.csv')"
   ]
  },
  {
   "cell_type": "code",
   "execution_count": 15,
   "metadata": {},
   "outputs": [
    {
     "data": {
      "text/html": [
       "<div>\n",
       "<style scoped>\n",
       "    .dataframe tbody tr th:only-of-type {\n",
       "        vertical-align: middle;\n",
       "    }\n",
       "\n",
       "    .dataframe tbody tr th {\n",
       "        vertical-align: top;\n",
       "    }\n",
       "\n",
       "    .dataframe thead th {\n",
       "        text-align: right;\n",
       "    }\n",
       "</style>\n",
       "<table border=\"1\" class=\"dataframe\">\n",
       "  <thead>\n",
       "    <tr style=\"text-align: right;\">\n",
       "      <th></th>\n",
       "      <th>Unnamed: 0</th>\n",
       "      <th>idx</th>\n",
       "      <th>msg_txt</th>\n",
       "      <th>annotation</th>\n",
       "    </tr>\n",
       "  </thead>\n",
       "  <tbody>\n",
       "    <tr>\n",
       "      <th>0</th>\n",
       "      <td>573</td>\n",
       "      <td>2983</td>\n",
       "      <td>DIU Russians modernized X-22 and Oniks missi...</td>\n",
       "      <td>0</td>\n",
       "    </tr>\n",
       "    <tr>\n",
       "      <th>1</th>\n",
       "      <td>2224</td>\n",
       "      <td>1612</td>\n",
       "      <td>Wagner currently controls 4.8 thousand km2 o...</td>\n",
       "      <td>0</td>\n",
       "    </tr>\n",
       "    <tr>\n",
       "      <th>2</th>\n",
       "      <td>2923</td>\n",
       "      <td>35</td>\n",
       "      <td>At the positions of the artillery of the 32n...</td>\n",
       "      <td>0</td>\n",
       "    </tr>\n",
       "    <tr>\n",
       "      <th>3</th>\n",
       "      <td>428</td>\n",
       "      <td>2784</td>\n",
       "      <td>\"Prevented the loss of territory\" 40 soldier...</td>\n",
       "      <td>\\N</td>\n",
       "    </tr>\n",
       "    <tr>\n",
       "      <th>4</th>\n",
       "      <td>2830</td>\n",
       "      <td>2332</td>\n",
       "      <td>We receive reports that there are power outa...</td>\n",
       "      <td>0</td>\n",
       "    </tr>\n",
       "  </tbody>\n",
       "</table>\n",
       "</div>"
      ],
      "text/plain": [
       "   Unnamed: 0   idx                                            msg_txt  \\\n",
       "0         573  2983    DIU Russians modernized X-22 and Oniks missi...   \n",
       "1        2224  1612    Wagner currently controls 4.8 thousand km2 o...   \n",
       "2        2923    35    At the positions of the artillery of the 32n...   \n",
       "3         428  2784    \"Prevented the loss of territory\" 40 soldier...   \n",
       "4        2830  2332    We receive reports that there are power outa...   \n",
       "\n",
       "  annotation  \n",
       "0          0  \n",
       "1          0  \n",
       "2          0  \n",
       "3         \\N  \n",
       "4          0  "
      ]
     },
     "execution_count": 15,
     "metadata": {},
     "output_type": "execute_result"
    }
   ],
   "source": [
    "df.head()"
   ]
  },
  {
   "cell_type": "code",
   "execution_count": 16,
   "metadata": {},
   "outputs": [],
   "source": [
    "del df['Unnamed: 0']"
   ]
  },
  {
   "cell_type": "code",
   "execution_count": 17,
   "metadata": {},
   "outputs": [],
   "source": [
    "def drop_og(msg_text):\n",
    "    if 'original :' in msg_text:\n",
    "        return msg_text[0:msg_text.index('original :')]\n",
    "    else:\n",
    "        return msg_text\n",
    "\n",
    "def remove_links(msg_text):\n",
    "    return re.sub(r'http[s]?://\\S+', '', msg_text)\n",
    "\n",
    "def remove_sm_tags(msg_text):\n",
    "    #return re.sub(r'\\s*(@\\w+|#\\w+)\\s*', '', msg_text)\n",
    "    return re.sub(r'\\s*[@#]\\w+\\b', '', msg_text)"
   ]
  },
  {
   "cell_type": "code",
   "execution_count": 18,
   "metadata": {},
   "outputs": [],
   "source": [
    "df['msg_txt'] = df.msg_txt.apply(remove_links)\n",
    "df['msg_txt'] = df.msg_txt.apply(remove_sm_tags)\n",
    "df['msg_txt'] = df.msg_txt.apply(emoji.demojize)"
   ]
  },
  {
   "cell_type": "code",
   "execution_count": 19,
   "metadata": {},
   "outputs": [],
   "source": [
    "df.to_csv('/home/j/Documents/Projects/social-media-combat-detection/data/test.csv', index=False)"
   ]
  }
 ],
 "metadata": {
  "kernelspec": {
   "display_name": "Python 3",
   "language": "python",
   "name": "python3"
  },
  "language_info": {
   "codemirror_mode": {
    "name": "ipython",
    "version": 3
   },
   "file_extension": ".py",
   "mimetype": "text/x-python",
   "name": "python",
   "nbconvert_exporter": "python",
   "pygments_lexer": "ipython3",
   "version": "3.10.12"
  }
 },
 "nbformat": 4,
 "nbformat_minor": 2
}
