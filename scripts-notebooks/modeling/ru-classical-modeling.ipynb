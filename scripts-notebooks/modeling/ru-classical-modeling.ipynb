{
 "cells": [
  {
   "cell_type": "markdown",
   "metadata": {},
   "source": [
    "# Creating Russian Classifier"
   ]
  },
  {
   "cell_type": "code",
   "execution_count": 1,
   "metadata": {},
   "outputs": [],
   "source": [
    "import pandas as pd\n",
    "from telethon import TelegramClient\n",
    "from datetime import datetime, timedelta, timezone\n",
    "\n",
    "from app.api import *\n",
    "\n",
    "from sklearn.metrics import classification_report"
   ]
  },
  {
   "cell_type": "markdown",
   "metadata": {},
   "source": [
    "## Get Dataset of Russian Messages"
   ]
  },
  {
   "cell_type": "code",
   "execution_count": 3,
   "metadata": {},
   "outputs": [],
   "source": [
    "async def main(chat_name):\n",
    "    global api_id\n",
    "    global api_hash\n",
    "    messages = []\n",
    "    async with TelegramClient(api_id=api_id, api_hash=api_hash, session='this') as client:\n",
    "            async for message in client.iter_messages(chat_name, offset_date=datetime.now(tz=timezone.utc) - timedelta(days = 365), reverse=True):\n",
    "                messages.append(message)\n",
    "    return messages"
   ]
  },
  {
   "cell_type": "code",
   "execution_count": 4,
   "metadata": {},
   "outputs": [
    {
     "name": "stdout",
     "output_type": "stream",
     "text": [
      "Signed in successfully as Jank Mood; remember to not break the ToS or you will risk an account ban!\n"
     ]
    }
   ],
   "source": [
    "res = await main('astrapress')"
   ]
  },
  {
   "cell_type": "code",
   "execution_count": 5,
   "metadata": {},
   "outputs": [
    {
     "data": {
      "text/plain": [
       "27330"
      ]
     },
     "execution_count": 5,
     "metadata": {},
     "output_type": "execute_result"
    }
   ],
   "source": [
    "len(res)"
   ]
  },
  {
   "cell_type": "code",
   "execution_count": 6,
   "metadata": {},
   "outputs": [],
   "source": [
    "texts = [message.text for message in res]"
   ]
  },
  {
   "cell_type": "code",
   "execution_count": 7,
   "metadata": {},
   "outputs": [
    {
     "data": {
      "text/plain": [
       "'**Сегодня в Грозном прошел митинг против сожжения Корана**\\n\\nКак пишет местное издание «Грозный-Информ», жители республики возмутились акцией Никиты Журавеля в Волгограде, который сжег Коран напротив мечети. \\n\\nПришедшие держали в руках плакаты __«Я люблю Коран», «Сатанистам нет места на Земле», «Нет культуры и религии у того, кто посягает на святое__». \\n\\nРанее Бастрыкин передал дело 19-летнего Никиты Журавеля чеченским силовикам. СК объяснил передачу дела в Чечню тем, что жители республики якобы обращались с просьбой признать их потерпевшими.'"
      ]
     },
     "execution_count": 7,
     "metadata": {},
     "output_type": "execute_result"
    }
   ],
   "source": [
    "texts[0]"
   ]
  },
  {
   "cell_type": "code",
   "execution_count": 8,
   "metadata": {},
   "outputs": [],
   "source": [
    "texts_df = pd.DataFrame(texts)"
   ]
  },
  {
   "cell_type": "code",
   "execution_count": 9,
   "metadata": {},
   "outputs": [
    {
     "data": {
      "text/html": [
       "<div>\n",
       "<style scoped>\n",
       "    .dataframe tbody tr th:only-of-type {\n",
       "        vertical-align: middle;\n",
       "    }\n",
       "\n",
       "    .dataframe tbody tr th {\n",
       "        vertical-align: top;\n",
       "    }\n",
       "\n",
       "    .dataframe thead th {\n",
       "        text-align: right;\n",
       "    }\n",
       "</style>\n",
       "<table border=\"1\" class=\"dataframe\">\n",
       "  <thead>\n",
       "    <tr style=\"text-align: right;\">\n",
       "      <th></th>\n",
       "      <th>0</th>\n",
       "    </tr>\n",
       "  </thead>\n",
       "  <tbody>\n",
       "    <tr>\n",
       "      <th>0</th>\n",
       "      <td>**Сегодня в Грозном прошел митинг против сожже...</td>\n",
       "    </tr>\n",
       "    <tr>\n",
       "      <th>1</th>\n",
       "      <td></td>\n",
       "    </tr>\n",
       "    <tr>\n",
       "      <th>2</th>\n",
       "      <td></td>\n",
       "    </tr>\n",
       "    <tr>\n",
       "      <th>3</th>\n",
       "      <td>**На **[**митинг**](https://t.me/astrapress/27...</td>\n",
       "    </tr>\n",
       "    <tr>\n",
       "      <th>4</th>\n",
       "      <td>В Белгороде сообщили о звуках взрыва</td>\n",
       "    </tr>\n",
       "  </tbody>\n",
       "</table>\n",
       "</div>"
      ],
      "text/plain": [
       "                                                   0\n",
       "0  **Сегодня в Грозном прошел митинг против сожже...\n",
       "1                                                   \n",
       "2                                                   \n",
       "3  **На **[**митинг**](https://t.me/astrapress/27...\n",
       "4               В Белгороде сообщили о звуках взрыва"
      ]
     },
     "execution_count": 9,
     "metadata": {},
     "output_type": "execute_result"
    }
   ],
   "source": [
    "texts_df.head()"
   ]
  },
  {
   "cell_type": "code",
   "execution_count": 10,
   "metadata": {},
   "outputs": [],
   "source": [
    "texts_df.to_csv('ru_messages.csv', index=False)"
   ]
  },
  {
   "cell_type": "code",
   "execution_count": 9,
   "metadata": {},
   "outputs": [],
   "source": [
    "import pandas as pd"
   ]
  },
  {
   "cell_type": "code",
   "execution_count": 10,
   "metadata": {},
   "outputs": [],
   "source": [
    "texts_df = pd.read_csv('ru_messages.csv')"
   ]
  },
  {
   "cell_type": "code",
   "execution_count": 7,
   "metadata": {},
   "outputs": [
    {
     "data": {
      "text/html": [
       "<div>\n",
       "<style scoped>\n",
       "    .dataframe tbody tr th:only-of-type {\n",
       "        vertical-align: middle;\n",
       "    }\n",
       "\n",
       "    .dataframe tbody tr th {\n",
       "        vertical-align: top;\n",
       "    }\n",
       "\n",
       "    .dataframe thead th {\n",
       "        text-align: right;\n",
       "    }\n",
       "</style>\n",
       "<table border=\"1\" class=\"dataframe\">\n",
       "  <thead>\n",
       "    <tr style=\"text-align: right;\">\n",
       "      <th></th>\n",
       "      <th>0</th>\n",
       "    </tr>\n",
       "  </thead>\n",
       "  <tbody>\n",
       "    <tr>\n",
       "      <th>0</th>\n",
       "      <td>**Сегодня в Грозном прошел митинг против сожже...</td>\n",
       "    </tr>\n",
       "    <tr>\n",
       "      <th>1</th>\n",
       "      <td>NaN</td>\n",
       "    </tr>\n",
       "    <tr>\n",
       "      <th>2</th>\n",
       "      <td>NaN</td>\n",
       "    </tr>\n",
       "    <tr>\n",
       "      <th>3</th>\n",
       "      <td>**На **[**митинг**](https://t.me/astrapress/27...</td>\n",
       "    </tr>\n",
       "    <tr>\n",
       "      <th>4</th>\n",
       "      <td>В Белгороде сообщили о звуках взрыва</td>\n",
       "    </tr>\n",
       "  </tbody>\n",
       "</table>\n",
       "</div>"
      ],
      "text/plain": [
       "                                                   0\n",
       "0  **Сегодня в Грозном прошел митинг против сожже...\n",
       "1                                                NaN\n",
       "2                                                NaN\n",
       "3  **На **[**митинг**](https://t.me/astrapress/27...\n",
       "4               В Белгороде сообщили о звуках взрыва"
      ]
     },
     "execution_count": 7,
     "metadata": {},
     "output_type": "execute_result"
    }
   ],
   "source": [
    "texts_df.head()"
   ]
  },
  {
   "cell_type": "code",
   "execution_count": 7,
   "metadata": {},
   "outputs": [],
   "source": [
    "texts_df = texts_df.dropna()"
   ]
  },
  {
   "cell_type": "code",
   "execution_count": 8,
   "metadata": {},
   "outputs": [],
   "source": [
    "texts_df = texts_df.drop_duplicates()"
   ]
  },
  {
   "cell_type": "code",
   "execution_count": 20,
   "metadata": {},
   "outputs": [],
   "source": [
    "texts_df.to_csv('ru_messages.csv', index=False)"
   ]
  },
  {
   "cell_type": "code",
   "execution_count": 12,
   "metadata": {},
   "outputs": [
    {
     "data": {
      "text/plain": [
       "'**Сегодня в Грозном прошел митинг против сожжения Корана**\\n\\nКак пишет местное издание «Грозный-Информ», жители республики возмутились акцией Никиты Журавеля в Волгограде, который сжег Коран напротив мечети. \\n\\nПришедшие держали в руках плакаты __«Я люблю Коран», «Сатанистам нет места на Земле», «Нет культуры и религии у того, кто посягает на святое__». \\n\\nРанее Бастрыкин передал дело 19-летнего Никиты Журавеля чеченским силовикам. СК объяснил передачу дела в Чечню тем, что жители республики якобы обращались с просьбой признать их потерпевшими.'"
      ]
     },
     "execution_count": 12,
     "metadata": {},
     "output_type": "execute_result"
    }
   ],
   "source": [
    "texts_df['0'][0]"
   ]
  },
  {
   "cell_type": "markdown",
   "metadata": {},
   "source": [
    "## Translate Russian Messages to English"
   ]
  },
  {
   "cell_type": "code",
   "execution_count": 1,
   "metadata": {},
   "outputs": [
    {
     "name": "stderr",
     "output_type": "stream",
     "text": [
      "2024-05-22 17:35:17.212322: E tensorflow/compiler/xla/stream_executor/cuda/cuda_dnn.cc:9342] Unable to register cuDNN factory: Attempting to register factory for plugin cuDNN when one has already been registered\n",
      "2024-05-22 17:35:17.212373: E tensorflow/compiler/xla/stream_executor/cuda/cuda_fft.cc:609] Unable to register cuFFT factory: Attempting to register factory for plugin cuFFT when one has already been registered\n",
      "2024-05-22 17:35:17.212414: E tensorflow/compiler/xla/stream_executor/cuda/cuda_blas.cc:1518] Unable to register cuBLAS factory: Attempting to register factory for plugin cuBLAS when one has already been registered\n",
      "2024-05-22 17:35:17.221945: I tensorflow/core/platform/cpu_feature_guard.cc:182] This TensorFlow binary is optimized to use available CPU instructions in performance-critical operations.\n",
      "To enable the following instructions: AVX2 FMA, in other operations, rebuild TensorFlow with the appropriate compiler flags.\n",
      "/home/j/.local/lib/python3.10/site-packages/transformers/utils/generic.py:311: UserWarning: torch.utils._pytree._register_pytree_node is deprecated. Please use torch.utils._pytree.register_pytree_node instead.\n",
      "  torch.utils._pytree._register_pytree_node(\n",
      "/home/j/.local/lib/python3.10/site-packages/transformers/utils/generic.py:311: UserWarning: torch.utils._pytree._register_pytree_node is deprecated. Please use torch.utils._pytree.register_pytree_node instead.\n",
      "  torch.utils._pytree._register_pytree_node(\n"
     ]
    }
   ],
   "source": [
    "from transformers import pipeline"
   ]
  },
  {
   "cell_type": "code",
   "execution_count": 2,
   "metadata": {},
   "outputs": [],
   "source": [
    "translator = pipeline(\"translation_ru_to_en\", model=\"Helsinki-NLP/opus-mt-ru-en\", device=0)"
   ]
  },
  {
   "cell_type": "code",
   "execution_count": 3,
   "metadata": {},
   "outputs": [],
   "source": [
    "import pandas as pd\n",
    "texts_df = pd.read_csv('ru_messages.csv')"
   ]
  },
  {
   "cell_type": "code",
   "execution_count": 4,
   "metadata": {},
   "outputs": [],
   "source": [
    "def translate(text):\n",
    "    try:\n",
    "        return translator(text[:400])\n",
    "    except:\n",
    "        return 'error'"
   ]
  },
  {
   "cell_type": "code",
   "execution_count": 5,
   "metadata": {},
   "outputs": [
    {
     "name": "stderr",
     "output_type": "stream",
     "text": [
      "/home/j/.local/lib/python3.10/site-packages/transformers/pipelines/base.py:1101: UserWarning: You seem to be using the pipelines sequentially on GPU. In order to maximize efficiency please use a dataset\n",
      "  warnings.warn(\n"
     ]
    }
   ],
   "source": [
    "texts_df['translation'] = [translate(text) for text in texts_df['0']]"
   ]
  },
  {
   "cell_type": "code",
   "execution_count": 9,
   "metadata": {},
   "outputs": [
    {
     "data": {
      "text/plain": [
       "15965"
      ]
     },
     "execution_count": 9,
     "metadata": {},
     "output_type": "execute_result"
    }
   ],
   "source": [
    "successes = texts_df[texts_df['translation'] != 'error']\n",
    "len(successes)"
   ]
  },
  {
   "cell_type": "code",
   "execution_count": 10,
   "metadata": {},
   "outputs": [],
   "source": [
    "successes.to_csv('ru_en_messages.csv')"
   ]
  },
  {
   "cell_type": "markdown",
   "metadata": {},
   "source": [
    "## Annotate With English Classifier"
   ]
  },
  {
   "cell_type": "code",
   "execution_count": 1,
   "metadata": {},
   "outputs": [],
   "source": [
    "import pandas as pd"
   ]
  },
  {
   "cell_type": "code",
   "execution_count": 2,
   "metadata": {},
   "outputs": [],
   "source": [
    "copy = pd.read_csv('ru_en_messages.csv')"
   ]
  },
  {
   "cell_type": "code",
   "execution_count": 3,
   "metadata": {},
   "outputs": [],
   "source": [
    "from classifier import XGBClassifier"
   ]
  },
  {
   "cell_type": "code",
   "execution_count": 4,
   "metadata": {},
   "outputs": [
    {
     "name": "stdout",
     "output_type": "stream",
     "text": [
      "Classifier loaded\n",
      "Vectorizer loaded\n"
     ]
    }
   ],
   "source": [
    "classifier = XGBClassifier('/home/j/Documents/Projects/social-media-combat-detection/combatmessagesua/telegram/models/xgb_classifier','/home/j/Documents/Projects/social-media-combat-detection/combatmessagesua/telegram/models/tfid-vectorizer.pickle')"
   ]
  },
  {
   "cell_type": "code",
   "execution_count": 9,
   "metadata": {},
   "outputs": [
    {
     "data": {
      "text/plain": [
       "'[{\\'translation_text\\': \\'** \"The Head\" of the Hersonian region, Vladimir Saldo, posted a video of the Russian military in Krynka** \"The lower bow, heroes, from all the residents of Hersonshchina and my personal great gratitude!\" he signed. He said that in the video, the Marines of the 810th Guard Brigade and the paratroopers called the Ukrainian side (https://t.me/astrapress/48904) \"manipulation and falsification\" of Schoygou\\\\\\'s statement about the taking of the Krunks.\\'}]'"
      ]
     },
     "execution_count": 9,
     "metadata": {},
     "output_type": "execute_result"
    }
   ],
   "source": [
    "copy['translation'][0]"
   ]
  },
  {
   "cell_type": "code",
   "execution_count": 5,
   "metadata": {},
   "outputs": [],
   "source": [
    "import xgboost"
   ]
  },
  {
   "cell_type": "code",
   "execution_count": 6,
   "metadata": {},
   "outputs": [],
   "source": [
    "def pred(message):\n",
    "    vectorized = xgboost.DMatrix(classifier.vectorizer.transform([message]))\n",
    "    if classifier.classifier.predict(vectorized) >= 0.5:\n",
    "        return 1\n",
    "    else:\n",
    "        return 0"
   ]
  },
  {
   "cell_type": "code",
   "execution_count": 7,
   "metadata": {},
   "outputs": [],
   "source": [
    "copy['annotation'] = [pred(text) for text in copy['translation']]"
   ]
  },
  {
   "cell_type": "code",
   "execution_count": 8,
   "metadata": {},
   "outputs": [
    {
     "data": {
      "text/html": [
       "<div>\n",
       "<style scoped>\n",
       "    .dataframe tbody tr th:only-of-type {\n",
       "        vertical-align: middle;\n",
       "    }\n",
       "\n",
       "    .dataframe tbody tr th {\n",
       "        vertical-align: top;\n",
       "    }\n",
       "\n",
       "    .dataframe thead th {\n",
       "        text-align: right;\n",
       "    }\n",
       "</style>\n",
       "<table border=\"1\" class=\"dataframe\">\n",
       "  <thead>\n",
       "    <tr style=\"text-align: right;\">\n",
       "      <th></th>\n",
       "      <th>Unnamed: 0</th>\n",
       "      <th>0</th>\n",
       "      <th>translation</th>\n",
       "      <th>annotation</th>\n",
       "    </tr>\n",
       "  </thead>\n",
       "  <tbody>\n",
       "    <tr>\n",
       "      <th>0</th>\n",
       "      <td>0</td>\n",
       "      <td>**Сегодня в Грозном прошел митинг против сожже...</td>\n",
       "      <td>[{'translation_text': '**Today, in Grozny, the...</td>\n",
       "      <td>0</td>\n",
       "    </tr>\n",
       "    <tr>\n",
       "      <th>1</th>\n",
       "      <td>1</td>\n",
       "      <td>**На **[**митинг**](https://t.me/astrapress/27...</td>\n",
       "      <td>[{'translation_text': '** **[**miting**] (http...</td>\n",
       "      <td>0</td>\n",
       "    </tr>\n",
       "    <tr>\n",
       "      <th>2</th>\n",
       "      <td>2</td>\n",
       "      <td>В Белгороде сообщили о звуках взрыва</td>\n",
       "      <td>[{'translation_text': 'In Belgorod, the sounds...</td>\n",
       "      <td>1</td>\n",
       "    </tr>\n",
       "    <tr>\n",
       "      <th>3</th>\n",
       "      <td>3</td>\n",
       "      <td>Над Белгородом после взрыва поднимается дым, п...</td>\n",
       "      <td>[{'translation_text': \"There's smoke rising ov...</td>\n",
       "      <td>1</td>\n",
       "    </tr>\n",
       "    <tr>\n",
       "      <th>4</th>\n",
       "      <td>4</td>\n",
       "      <td>«Белгород-Молния»: взрыв прогремел в районе ж/...</td>\n",
       "      <td>[{'translation_text': 'Belgorod-Molniya: explo...</td>\n",
       "      <td>0</td>\n",
       "    </tr>\n",
       "  </tbody>\n",
       "</table>\n",
       "</div>"
      ],
      "text/plain": [
       "   Unnamed: 0                                                  0  \\\n",
       "0           0  **Сегодня в Грозном прошел митинг против сожже...   \n",
       "1           1  **На **[**митинг**](https://t.me/astrapress/27...   \n",
       "2           2               В Белгороде сообщили о звуках взрыва   \n",
       "3           3  Над Белгородом после взрыва поднимается дым, п...   \n",
       "4           4  «Белгород-Молния»: взрыв прогремел в районе ж/...   \n",
       "\n",
       "                                         translation  annotation  \n",
       "0  [{'translation_text': '**Today, in Grozny, the...           0  \n",
       "1  [{'translation_text': '** **[**miting**] (http...           0  \n",
       "2  [{'translation_text': 'In Belgorod, the sounds...           1  \n",
       "3  [{'translation_text': \"There's smoke rising ov...           1  \n",
       "4  [{'translation_text': 'Belgorod-Molniya: explo...           0  "
      ]
     },
     "execution_count": 8,
     "metadata": {},
     "output_type": "execute_result"
    }
   ],
   "source": [
    "copy.head()"
   ]
  },
  {
   "cell_type": "code",
   "execution_count": 9,
   "metadata": {},
   "outputs": [],
   "source": [
    "copy.to_csv('annotated_ru_en_messages.csv', index=False)"
   ]
  },
  {
   "cell_type": "markdown",
   "metadata": {},
   "source": [
    "## Train New Classifier"
   ]
  },
  {
   "cell_type": "code",
   "execution_count": 1,
   "metadata": {},
   "outputs": [
    {
     "data": {
      "text/html": [
       "<div>\n",
       "<style scoped>\n",
       "    .dataframe tbody tr th:only-of-type {\n",
       "        vertical-align: middle;\n",
       "    }\n",
       "\n",
       "    .dataframe tbody tr th {\n",
       "        vertical-align: top;\n",
       "    }\n",
       "\n",
       "    .dataframe thead th {\n",
       "        text-align: right;\n",
       "    }\n",
       "</style>\n",
       "<table border=\"1\" class=\"dataframe\">\n",
       "  <thead>\n",
       "    <tr style=\"text-align: right;\">\n",
       "      <th></th>\n",
       "      <th>Unnamed: 0</th>\n",
       "      <th>0</th>\n",
       "      <th>translation</th>\n",
       "      <th>annotation</th>\n",
       "    </tr>\n",
       "  </thead>\n",
       "  <tbody>\n",
       "    <tr>\n",
       "      <th>0</th>\n",
       "      <td>0</td>\n",
       "      <td>**Сегодня в Грозном прошел митинг против сожже...</td>\n",
       "      <td>[{'translation_text': '**Today, in Grozny, the...</td>\n",
       "      <td>0</td>\n",
       "    </tr>\n",
       "    <tr>\n",
       "      <th>1</th>\n",
       "      <td>1</td>\n",
       "      <td>**На **[**митинг**](https://t.me/astrapress/27...</td>\n",
       "      <td>[{'translation_text': '** **[**miting**] (http...</td>\n",
       "      <td>0</td>\n",
       "    </tr>\n",
       "    <tr>\n",
       "      <th>2</th>\n",
       "      <td>2</td>\n",
       "      <td>В Белгороде сообщили о звуках взрыва</td>\n",
       "      <td>[{'translation_text': 'In Belgorod, the sounds...</td>\n",
       "      <td>1</td>\n",
       "    </tr>\n",
       "    <tr>\n",
       "      <th>3</th>\n",
       "      <td>3</td>\n",
       "      <td>Над Белгородом после взрыва поднимается дым, п...</td>\n",
       "      <td>[{'translation_text': \"There's smoke rising ov...</td>\n",
       "      <td>1</td>\n",
       "    </tr>\n",
       "    <tr>\n",
       "      <th>4</th>\n",
       "      <td>4</td>\n",
       "      <td>«Белгород-Молния»: взрыв прогремел в районе ж/...</td>\n",
       "      <td>[{'translation_text': 'Belgorod-Molniya: explo...</td>\n",
       "      <td>0</td>\n",
       "    </tr>\n",
       "  </tbody>\n",
       "</table>\n",
       "</div>"
      ],
      "text/plain": [
       "   Unnamed: 0                                                  0  \\\n",
       "0           0  **Сегодня в Грозном прошел митинг против сожже...   \n",
       "1           1  **На **[**митинг**](https://t.me/astrapress/27...   \n",
       "2           2               В Белгороде сообщили о звуках взрыва   \n",
       "3           3  Над Белгородом после взрыва поднимается дым, п...   \n",
       "4           4  «Белгород-Молния»: взрыв прогремел в районе ж/...   \n",
       "\n",
       "                                         translation  annotation  \n",
       "0  [{'translation_text': '**Today, in Grozny, the...           0  \n",
       "1  [{'translation_text': '** **[**miting**] (http...           0  \n",
       "2  [{'translation_text': 'In Belgorod, the sounds...           1  \n",
       "3  [{'translation_text': \"There's smoke rising ov...           1  \n",
       "4  [{'translation_text': 'Belgorod-Molniya: explo...           0  "
      ]
     },
     "execution_count": 1,
     "metadata": {},
     "output_type": "execute_result"
    }
   ],
   "source": [
    "import pandas as pd\n",
    "df = pd.read_csv('annotated_ru_en_messages.csv')\n",
    "df.head()"
   ]
  },
  {
   "cell_type": "markdown",
   "metadata": {},
   "source": [
    "### Balance Dataset"
   ]
  },
  {
   "cell_type": "code",
   "execution_count": 6,
   "metadata": {},
   "outputs": [
    {
     "data": {
      "text/plain": [
       "2738"
      ]
     },
     "execution_count": 6,
     "metadata": {},
     "output_type": "execute_result"
    }
   ],
   "source": [
    "ones = df[df['annotation']==1]\n",
    "len(ones)"
   ]
  },
  {
   "cell_type": "code",
   "execution_count": 7,
   "metadata": {},
   "outputs": [
    {
     "data": {
      "text/plain": [
       "13227"
      ]
     },
     "execution_count": 7,
     "metadata": {},
     "output_type": "execute_result"
    }
   ],
   "source": [
    "zeros = df[df['annotation']==0]\n",
    "len(zeros)"
   ]
  },
  {
   "cell_type": "code",
   "execution_count": 8,
   "metadata": {},
   "outputs": [],
   "source": [
    "zero_sample = zeros.sample(n=len(ones))"
   ]
  },
  {
   "cell_type": "code",
   "execution_count": 13,
   "metadata": {},
   "outputs": [],
   "source": [
    "ones = ones.sample(frac=1)\n",
    "zero_sample = zero_sample.sample(frac=1)"
   ]
  },
  {
   "cell_type": "code",
   "execution_count": 20,
   "metadata": {},
   "outputs": [],
   "source": [
    "train_df = pd.concat([ones[:int(.9*len(ones))], zero_sample[:int(.9*len(ones))]]).sample(frac=1)\n",
    "test_df = pd.concat([ones[int(.9*len(ones)):], zero_sample[int(.9*len(ones)):]]).sample(frac=1)"
   ]
  },
  {
   "cell_type": "code",
   "execution_count": 21,
   "metadata": {},
   "outputs": [
    {
     "data": {
      "text/html": [
       "<div>\n",
       "<style scoped>\n",
       "    .dataframe tbody tr th:only-of-type {\n",
       "        vertical-align: middle;\n",
       "    }\n",
       "\n",
       "    .dataframe tbody tr th {\n",
       "        vertical-align: top;\n",
       "    }\n",
       "\n",
       "    .dataframe thead th {\n",
       "        text-align: right;\n",
       "    }\n",
       "</style>\n",
       "<table border=\"1\" class=\"dataframe\">\n",
       "  <thead>\n",
       "    <tr style=\"text-align: right;\">\n",
       "      <th></th>\n",
       "      <th>Unnamed: 0</th>\n",
       "      <th>0</th>\n",
       "      <th>translation</th>\n",
       "      <th>annotation</th>\n",
       "    </tr>\n",
       "  </thead>\n",
       "  <tbody>\n",
       "    <tr>\n",
       "      <th>6252</th>\n",
       "      <td>6252</td>\n",
       "      <td>**Актриса Яна Поплавская выступила за лишение ...</td>\n",
       "      <td>[{'translation_text': 'If you\\'re not just an ...</td>\n",
       "      <td>0</td>\n",
       "    </tr>\n",
       "    <tr>\n",
       "      <th>10698</th>\n",
       "      <td>10698</td>\n",
       "      <td>**Роскомнадзор хочет узнать геолокацию всех IP...</td>\n",
       "      <td>[{'translation_text': '**Roskomnadzor wants to...</td>\n",
       "      <td>0</td>\n",
       "    </tr>\n",
       "    <tr>\n",
       "      <th>10880</th>\n",
       "      <td>10880</td>\n",
       "      <td>4 человека погибли, 42 ранены в результате обс...</td>\n",
       "      <td>[{'translation_text': 'Four people were killed...</td>\n",
       "      <td>1</td>\n",
       "    </tr>\n",
       "    <tr>\n",
       "      <th>15691</th>\n",
       "      <td>15691</td>\n",
       "      <td>**Появились спутниковые снимки аэродрома Бельб...</td>\n",
       "      <td>[{'translation_text': '** Satellite images of ...</td>\n",
       "      <td>1</td>\n",
       "    </tr>\n",
       "    <tr>\n",
       "      <th>10793</th>\n",
       "      <td>10793</td>\n",
       "      <td>**Порт Усть-Луга в Ленинградской области атако...</td>\n",
       "      <td>[{'translation_text': '**The port of Ust-Luga ...</td>\n",
       "      <td>1</td>\n",
       "    </tr>\n",
       "  </tbody>\n",
       "</table>\n",
       "</div>"
      ],
      "text/plain": [
       "       Unnamed: 0                                                  0  \\\n",
       "6252         6252  **Актриса Яна Поплавская выступила за лишение ...   \n",
       "10698       10698  **Роскомнадзор хочет узнать геолокацию всех IP...   \n",
       "10880       10880  4 человека погибли, 42 ранены в результате обс...   \n",
       "15691       15691  **Появились спутниковые снимки аэродрома Бельб...   \n",
       "10793       10793  **Порт Усть-Луга в Ленинградской области атако...   \n",
       "\n",
       "                                             translation  annotation  \n",
       "6252   [{'translation_text': 'If you\\'re not just an ...           0  \n",
       "10698  [{'translation_text': '**Roskomnadzor wants to...           0  \n",
       "10880  [{'translation_text': 'Four people were killed...           1  \n",
       "15691  [{'translation_text': '** Satellite images of ...           1  \n",
       "10793  [{'translation_text': '**The port of Ust-Luga ...           1  "
      ]
     },
     "execution_count": 21,
     "metadata": {},
     "output_type": "execute_result"
    }
   ],
   "source": [
    "train_df.head()"
   ]
  },
  {
   "cell_type": "code",
   "execution_count": 22,
   "metadata": {},
   "outputs": [
    {
     "data": {
      "text/html": [
       "<div>\n",
       "<style scoped>\n",
       "    .dataframe tbody tr th:only-of-type {\n",
       "        vertical-align: middle;\n",
       "    }\n",
       "\n",
       "    .dataframe tbody tr th {\n",
       "        vertical-align: top;\n",
       "    }\n",
       "\n",
       "    .dataframe thead th {\n",
       "        text-align: right;\n",
       "    }\n",
       "</style>\n",
       "<table border=\"1\" class=\"dataframe\">\n",
       "  <thead>\n",
       "    <tr style=\"text-align: right;\">\n",
       "      <th></th>\n",
       "      <th>Unnamed: 0</th>\n",
       "      <th>0</th>\n",
       "      <th>translation</th>\n",
       "      <th>annotation</th>\n",
       "    </tr>\n",
       "  </thead>\n",
       "  <tbody>\n",
       "    <tr>\n",
       "      <th>14639</th>\n",
       "      <td>14639</td>\n",
       "      <td>В России [заблокировали](https://t.me/roskomsv...</td>\n",
       "      <td>[{'translation_text': 'In Russia (https://t.me...</td>\n",
       "      <td>0</td>\n",
       "    </tr>\n",
       "    <tr>\n",
       "      <th>5515</th>\n",
       "      <td>5515</td>\n",
       "      <td>**Один человек ранен в результате ночной трёхч...</td>\n",
       "      <td>[{'translation_text': '** One person was injur...</td>\n",
       "      <td>1</td>\n",
       "    </tr>\n",
       "    <tr>\n",
       "      <th>9514</th>\n",
       "      <td>9514</td>\n",
       "      <td>Ночью о взрывах сообщили жители Киева, Черкасс...</td>\n",
       "      <td>[{'translation_text': 'At night, the inhabitan...</td>\n",
       "      <td>1</td>\n",
       "    </tr>\n",
       "    <tr>\n",
       "      <th>9709</th>\n",
       "      <td>9709</td>\n",
       "      <td>**Надпись «Где Навальный?» появилась на здании...</td>\n",
       "      <td>[{'translation_text': '** The inscription \"Whe...</td>\n",
       "      <td>0</td>\n",
       "    </tr>\n",
       "    <tr>\n",
       "      <th>15851</th>\n",
       "      <td>15851</td>\n",
       "      <td>В Луганске сообщают о взрыве\\n\\nUpd: По предва...</td>\n",
       "      <td>[{'translation_text': 'In Luhansk, there are r...</td>\n",
       "      <td>1</td>\n",
       "    </tr>\n",
       "  </tbody>\n",
       "</table>\n",
       "</div>"
      ],
      "text/plain": [
       "       Unnamed: 0                                                  0  \\\n",
       "14639       14639  В России [заблокировали](https://t.me/roskomsv...   \n",
       "5515         5515  **Один человек ранен в результате ночной трёхч...   \n",
       "9514         9514  Ночью о взрывах сообщили жители Киева, Черкасс...   \n",
       "9709         9709  **Надпись «Где Навальный?» появилась на здании...   \n",
       "15851       15851  В Луганске сообщают о взрыве\\n\\nUpd: По предва...   \n",
       "\n",
       "                                             translation  annotation  \n",
       "14639  [{'translation_text': 'In Russia (https://t.me...           0  \n",
       "5515   [{'translation_text': '** One person was injur...           1  \n",
       "9514   [{'translation_text': 'At night, the inhabitan...           1  \n",
       "9709   [{'translation_text': '** The inscription \"Whe...           0  \n",
       "15851  [{'translation_text': 'In Luhansk, there are r...           1  "
      ]
     },
     "execution_count": 22,
     "metadata": {},
     "output_type": "execute_result"
    }
   ],
   "source": [
    "test_df.head()"
   ]
  },
  {
   "cell_type": "markdown",
   "metadata": {},
   "source": [
    "### Train New Tokenizer"
   ]
  },
  {
   "cell_type": "code",
   "execution_count": 28,
   "metadata": {},
   "outputs": [],
   "source": [
    "from sklearn.model_selection import RandomizedSearchCV\n",
    "from xgboost import XGBClassifier\n",
    "\n",
    "from sklearn.metrics import classification_report\n",
    "\n",
    "from sklearn.feature_extraction.text import TfidfVectorizer"
   ]
  },
  {
   "cell_type": "code",
   "execution_count": 25,
   "metadata": {},
   "outputs": [],
   "source": [
    "vectorizer = TfidfVectorizer(sublinear_tf=True)\n",
    "\n",
    "freq_matrix_train = vectorizer.fit_transform(train_df['0'])\n",
    "freq_matrix_test = vectorizer.transform(test_df['0'])"
   ]
  },
  {
   "cell_type": "code",
   "execution_count": 32,
   "metadata": {},
   "outputs": [],
   "source": [
    "import pickle\n",
    "with open('/home/j/Documents/Projects/social-media-combat-detection/models/ru-tfidf-vectorizer.pickle', 'wb') as handle:\n",
    "    pickle.dump(vectorizer, handle, protocol=pickle.HIGHEST_PROTOCOL)"
   ]
  },
  {
   "cell_type": "markdown",
   "metadata": {},
   "source": [
    "### Tune Hyperparameters"
   ]
  },
  {
   "cell_type": "code",
   "execution_count": 29,
   "metadata": {},
   "outputs": [],
   "source": [
    "search = RandomizedSearchCV(XGBClassifier(), {'n_estimators': [int(x) for x in range(200,2000,200)],\n",
    "        'min_child_weight': range(1,6,2),\n",
    "        'gamma': [i/10.0 for i in range(0,5)],\n",
    "        'subsample': [i/10.0 for i in range(6,10)],\n",
    "        'colsample_bytree': [i/10.0 for i in range(6,10)],\n",
    "        'max_depth': [3, 6, 9],\n",
    "        'learning_rate': [0.0001, 0.001, 0.01, 0.1, 0.2, 0.3]\n",
    "        })\n"
   ]
  },
  {
   "cell_type": "code",
   "execution_count": 30,
   "metadata": {},
   "outputs": [],
   "source": [
    "search.fit(freq_matrix_train, train_df['annotation'].astype(int))\n",
    "\n",
    "best = search.best_params_"
   ]
  },
  {
   "cell_type": "code",
   "execution_count": 31,
   "metadata": {},
   "outputs": [
    {
     "name": "stdout",
     "output_type": "stream",
     "text": [
      "{'subsample': 0.9, 'n_estimators': 200, 'min_child_weight': 1, 'max_depth': 9, 'learning_rate': 0.1, 'gamma': 0.2, 'colsample_bytree': 0.7}\n"
     ]
    }
   ],
   "source": [
    "print(best)"
   ]
  },
  {
   "cell_type": "code",
   "execution_count": 33,
   "metadata": {},
   "outputs": [
    {
     "name": "stdout",
     "output_type": "stream",
     "text": [
      "              precision    recall  f1-score   support\n",
      "\n",
      "           0       0.91      0.85      0.88       274\n",
      "           1       0.86      0.92      0.89       274\n",
      "\n",
      "    accuracy                           0.89       548\n",
      "   macro avg       0.89      0.89      0.89       548\n",
      "weighted avg       0.89      0.89      0.89       548\n",
      "\n"
     ]
    }
   ],
   "source": [
    "classifier = XGBClassifier(subsample= best['subsample'], \n",
    "                           n_estimators= best['n_estimators'], \n",
    "                           min_child_weight= best['min_child_weight'], \n",
    "                           max_depth= best['max_depth'], \n",
    "                           learning_rate= best['learning_rate'], \n",
    "                           gamma= best['gamma'], \n",
    "                           colsample_bytree= best['colsample_bytree'])\n",
    "\n",
    "classifier.fit(freq_matrix_train, train_df['annotation'].astype(int))\n",
    "\n",
    "y_pred = classifier.predict(freq_matrix_test)\n",
    "\n",
    "print(classification_report(test_df['annotation'].astype(int),y_pred))"
   ]
  },
  {
   "cell_type": "code",
   "execution_count": 35,
   "metadata": {},
   "outputs": [
    {
     "name": "stderr",
     "output_type": "stream",
     "text": [
      "/home/j/.local/lib/python3.10/site-packages/xgboost/core.py:160: UserWarning: [17:46:26] WARNING: /workspace/src/c_api/c_api.cc:1240: Saving into deprecated binary model format, please consider using `json` or `ubj`. Model format will default to JSON in XGBoost 2.2 if not specified.\n",
      "  warnings.warn(smsg, UserWarning)\n"
     ]
    }
   ],
   "source": [
    "classifier.save_model('/home/j/Documents/Projects/social-media-combat-detection/models/ru-xgb-classifier')"
   ]
  }
 ],
 "metadata": {
  "kernelspec": {
   "display_name": "Python 3",
   "language": "python",
   "name": "python3"
  },
  "language_info": {
   "codemirror_mode": {
    "name": "ipython",
    "version": 3
   },
   "file_extension": ".py",
   "mimetype": "text/x-python",
   "name": "python",
   "nbconvert_exporter": "python",
   "pygments_lexer": "ipython3",
   "version": "3.10.12"
  }
 },
 "nbformat": 4,
 "nbformat_minor": 2
}
