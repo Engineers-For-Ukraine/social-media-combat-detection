{
 "cells": [
  {
   "cell_type": "code",
   "execution_count": 1,
   "metadata": {},
   "outputs": [
    {
     "name": "stderr",
     "output_type": "stream",
     "text": [
      "2024-05-07 20:26:47.863006: E tensorflow/compiler/xla/stream_executor/cuda/cuda_dnn.cc:9342] Unable to register cuDNN factory: Attempting to register factory for plugin cuDNN when one has already been registered\n",
      "2024-05-07 20:26:47.863084: E tensorflow/compiler/xla/stream_executor/cuda/cuda_fft.cc:609] Unable to register cuFFT factory: Attempting to register factory for plugin cuFFT when one has already been registered\n",
      "2024-05-07 20:26:47.868667: E tensorflow/compiler/xla/stream_executor/cuda/cuda_blas.cc:1518] Unable to register cuBLAS factory: Attempting to register factory for plugin cuBLAS when one has already been registered\n",
      "2024-05-07 20:26:48.545641: I tensorflow/core/platform/cpu_feature_guard.cc:182] This TensorFlow binary is optimized to use available CPU instructions in performance-critical operations.\n",
      "To enable the following instructions: AVX2 FMA, in other operations, rebuild TensorFlow with the appropriate compiler flags.\n",
      "/home/j/.local/lib/python3.10/site-packages/transformers/utils/generic.py:311: UserWarning: torch.utils._pytree._register_pytree_node is deprecated. Please use torch.utils._pytree.register_pytree_node instead.\n",
      "  torch.utils._pytree._register_pytree_node(\n",
      "/home/j/.local/lib/python3.10/site-packages/transformers/utils/generic.py:311: UserWarning: torch.utils._pytree._register_pytree_node is deprecated. Please use torch.utils._pytree.register_pytree_node instead.\n",
      "  torch.utils._pytree._register_pytree_node(\n"
     ]
    }
   ],
   "source": [
    "from transformers import AutoTokenizer, AutoModelForTokenClassification\n",
    "from transformers import pipeline\n",
    "\n",
    "import pandas as pd"
   ]
  },
  {
   "cell_type": "code",
   "execution_count": 14,
   "metadata": {},
   "outputs": [
    {
     "data": {
      "application/vnd.jupyter.widget-view+json": {
       "model_id": "88059ac74d4849158814188e4362339a",
       "version_major": 2,
       "version_minor": 0
      },
      "text/plain": [
       "Downloading tokenizer_config.json:   0%|          | 0.00/59.0 [00:00<?, ?B/s]"
      ]
     },
     "metadata": {},
     "output_type": "display_data"
    },
    {
     "data": {
      "application/vnd.jupyter.widget-view+json": {
       "model_id": "c491fee01f60449e86b01ed2f80873ee",
       "version_major": 2,
       "version_minor": 0
      },
      "text/plain": [
       "Downloading config.json:   0%|          | 0.00/829 [00:00<?, ?B/s]"
      ]
     },
     "metadata": {},
     "output_type": "display_data"
    },
    {
     "data": {
      "application/vnd.jupyter.widget-view+json": {
       "model_id": "fdb5b26487b242c39cf7c8ebb3b7c9a6",
       "version_major": 2,
       "version_minor": 0
      },
      "text/plain": [
       "Downloading vocab.txt:   0%|          | 0.00/213k [00:00<?, ?B/s]"
      ]
     },
     "metadata": {},
     "output_type": "display_data"
    },
    {
     "data": {
      "application/vnd.jupyter.widget-view+json": {
       "model_id": "cbf8fff130084f038e0c4a6dc493a937",
       "version_major": 2,
       "version_minor": 0
      },
      "text/plain": [
       "Downloading added_tokens.json:   0%|          | 0.00/2.00 [00:00<?, ?B/s]"
      ]
     },
     "metadata": {},
     "output_type": "display_data"
    },
    {
     "data": {
      "application/vnd.jupyter.widget-view+json": {
       "model_id": "17f2c83e6925497ca98c8023930231ab",
       "version_major": 2,
       "version_minor": 0
      },
      "text/plain": [
       "Downloading (…)cial_tokens_map.json:   0%|          | 0.00/112 [00:00<?, ?B/s]"
      ]
     },
     "metadata": {},
     "output_type": "display_data"
    },
    {
     "name": "stderr",
     "output_type": "stream",
     "text": [
      "/home/j/.local/lib/python3.10/site-packages/transformers/utils/generic.py:311: UserWarning: torch.utils._pytree._register_pytree_node is deprecated. Please use torch.utils._pytree.register_pytree_node instead.\n",
      "  torch.utils._pytree._register_pytree_node(\n"
     ]
    },
    {
     "data": {
      "application/vnd.jupyter.widget-view+json": {
       "model_id": "b36625c80ecf4f719885e16922209251",
       "version_major": 2,
       "version_minor": 0
      },
      "text/plain": [
       "Downloading model.safetensors:   0%|          | 0.00/433M [00:00<?, ?B/s]"
      ]
     },
     "metadata": {},
     "output_type": "display_data"
    },
    {
     "name": "stderr",
     "output_type": "stream",
     "text": [
      "Some weights of the model checkpoint at dslim/bert-base-NER were not used when initializing BertForTokenClassification: ['bert.pooler.dense.bias', 'bert.pooler.dense.weight']\n",
      "- This IS expected if you are initializing BertForTokenClassification from the checkpoint of a model trained on another task or with another architecture (e.g. initializing a BertForSequenceClassification model from a BertForPreTraining model).\n",
      "- This IS NOT expected if you are initializing BertForTokenClassification from the checkpoint of a model that you expect to be exactly identical (initializing a BertForSequenceClassification model from a BertForSequenceClassification model).\n"
     ]
    }
   ],
   "source": [
    "tokenizer = AutoTokenizer.from_pretrained(\"dslim/bert-base-NER\")\n",
    "model = AutoModelForTokenClassification.from_pretrained(\"dslim/bert-base-NER\")"
   ]
  },
  {
   "cell_type": "code",
   "execution_count": 15,
   "metadata": {},
   "outputs": [],
   "source": [
    "ner = pipeline(\"ner\", model=model, tokenizer=tokenizer)"
   ]
  },
  {
   "cell_type": "code",
   "execution_count": 4,
   "metadata": {},
   "outputs": [],
   "source": [
    "df = pd.read_csv('/home/j/Documents/Projects/social-media-combat-detection/data/annotated.csv')"
   ]
  },
  {
   "cell_type": "code",
   "execution_count": 5,
   "metadata": {},
   "outputs": [
    {
     "data": {
      "text/html": [
       "<div>\n",
       "<style scoped>\n",
       "    .dataframe tbody tr th:only-of-type {\n",
       "        vertical-align: middle;\n",
       "    }\n",
       "\n",
       "    .dataframe tbody tr th {\n",
       "        vertical-align: top;\n",
       "    }\n",
       "\n",
       "    .dataframe thead th {\n",
       "        text-align: right;\n",
       "    }\n",
       "</style>\n",
       "<table border=\"1\" class=\"dataframe\">\n",
       "  <thead>\n",
       "    <tr style=\"text-align: right;\">\n",
       "      <th></th>\n",
       "      <th>idx</th>\n",
       "      <th>msg_txt</th>\n",
       "      <th>annotation</th>\n",
       "    </tr>\n",
       "  </thead>\n",
       "  <tbody>\n",
       "    <tr>\n",
       "      <th>0</th>\n",
       "      <td>0</td>\n",
       "      <td>In Kyiv, fragments of a downed rocket damage...</td>\n",
       "      <td>1</td>\n",
       "    </tr>\n",
       "    <tr>\n",
       "      <th>1</th>\n",
       "      <td>1</td>\n",
       "      <td>Kyiv region is attacked by drones again, air...</td>\n",
       "      <td>1</td>\n",
       "    </tr>\n",
       "    <tr>\n",
       "      <th>2</th>\n",
       "      <td>2</td>\n",
       "      <td>Explosions are also heard in the capital. Ai...</td>\n",
       "      <td>1</td>\n",
       "    </tr>\n",
       "    <tr>\n",
       "      <th>3</th>\n",
       "      <td>4</td>\n",
       "      <td>Kyiv region is attacked by drones - Kuleba  ...</td>\n",
       "      <td>1</td>\n",
       "    </tr>\n",
       "    <tr>\n",
       "      <th>4</th>\n",
       "      <td>5</td>\n",
       "      <td>The rocket that fell in Shevchenkivskyi dist...</td>\n",
       "      <td>0</td>\n",
       "    </tr>\n",
       "  </tbody>\n",
       "</table>\n",
       "</div>"
      ],
      "text/plain": [
       "   idx                                            msg_txt annotation\n",
       "0    0    In Kyiv, fragments of a downed rocket damage...          1\n",
       "1    1    Kyiv region is attacked by drones again, air...          1\n",
       "2    2    Explosions are also heard in the capital. Ai...          1\n",
       "3    4    Kyiv region is attacked by drones - Kuleba  ...          1\n",
       "4    5    The rocket that fell in Shevchenkivskyi dist...          0"
      ]
     },
     "execution_count": 5,
     "metadata": {},
     "output_type": "execute_result"
    }
   ],
   "source": [
    "df.head()"
   ]
  },
  {
   "cell_type": "code",
   "execution_count": 17,
   "metadata": {},
   "outputs": [
    {
     "data": {
      "text/plain": [
       "'  In Kyiv, fragments of a downed rocket damaged a car in Shevchenko district, the city military administration reported. '"
      ]
     },
     "execution_count": 17,
     "metadata": {},
     "output_type": "execute_result"
    }
   ],
   "source": [
    "df['msg_txt'][0]"
   ]
  },
  {
   "cell_type": "code",
   "execution_count": 18,
   "metadata": {},
   "outputs": [
    {
     "data": {
      "text/plain": [
       "[{'entity': 'B-LOC',\n",
       "  'score': 0.9997216,\n",
       "  'index': 1,\n",
       "  'word': 'Russia',\n",
       "  'start': 0,\n",
       "  'end': 6},\n",
       " {'entity': 'B-LOC',\n",
       "  'score': 0.99596137,\n",
       "  'index': 3,\n",
       "  'word': 'S',\n",
       "  'start': 14,\n",
       "  'end': 15},\n",
       " {'entity': 'I-LOC',\n",
       "  'score': 0.63679725,\n",
       "  'index': 4,\n",
       "  'word': '##lav',\n",
       "  'start': 15,\n",
       "  'end': 18},\n",
       " {'entity': 'I-LOC',\n",
       "  'score': 0.9856354,\n",
       "  'index': 5,\n",
       "  'word': '##ians',\n",
       "  'start': 18,\n",
       "  'end': 22},\n",
       " {'entity': 'I-LOC',\n",
       "  'score': 0.9933895,\n",
       "  'index': 6,\n",
       "  'word': '##k',\n",
       "  'start': 22,\n",
       "  'end': 23},\n",
       " {'entity': 'B-LOC',\n",
       "  'score': 0.99909806,\n",
       "  'index': 11,\n",
       "  'word': 'My',\n",
       "  'start': 47,\n",
       "  'end': 49},\n",
       " {'entity': 'I-LOC',\n",
       "  'score': 0.9913162,\n",
       "  'index': 12,\n",
       "  'word': '##ko',\n",
       "  'start': 49,\n",
       "  'end': 51},\n",
       " {'entity': 'I-LOC',\n",
       "  'score': 0.99065125,\n",
       "  'index': 13,\n",
       "  'word': '##lai',\n",
       "  'start': 51,\n",
       "  'end': 54},\n",
       " {'entity': 'I-LOC',\n",
       "  'score': 0.9516038,\n",
       "  'index': 14,\n",
       "  'word': '##v',\n",
       "  'start': 54,\n",
       "  'end': 55},\n",
       " {'entity': 'I-LOC',\n",
       "  'score': 0.9867818,\n",
       "  'index': 15,\n",
       "  'word': '##ka',\n",
       "  'start': 55,\n",
       "  'end': 57},\n",
       " {'entity': 'B-LOC',\n",
       "  'score': 0.9994491,\n",
       "  'index': 17,\n",
       "  'word': 'Done',\n",
       "  'start': 59,\n",
       "  'end': 63},\n",
       " {'entity': 'I-LOC',\n",
       "  'score': 0.99070555,\n",
       "  'index': 18,\n",
       "  'word': '##tsk',\n",
       "  'start': 63,\n",
       "  'end': 66},\n",
       " {'entity': 'B-ORG',\n",
       "  'score': 0.9963766,\n",
       "  'index': 29,\n",
       "  'word': 'My',\n",
       "  'start': 112,\n",
       "  'end': 114},\n",
       " {'entity': 'I-ORG',\n",
       "  'score': 0.9310328,\n",
       "  'index': 30,\n",
       "  'word': '##ko',\n",
       "  'start': 114,\n",
       "  'end': 116},\n",
       " {'entity': 'I-ORG',\n",
       "  'score': 0.99277145,\n",
       "  'index': 31,\n",
       "  'word': '##lai',\n",
       "  'start': 116,\n",
       "  'end': 119},\n",
       " {'entity': 'I-ORG',\n",
       "  'score': 0.9974401,\n",
       "  'index': 32,\n",
       "  'word': '##v',\n",
       "  'start': 119,\n",
       "  'end': 120},\n",
       " {'entity': 'I-ORG',\n",
       "  'score': 0.99498415,\n",
       "  'index': 33,\n",
       "  'word': '##ka',\n",
       "  'start': 120,\n",
       "  'end': 122},\n",
       " {'entity': 'I-ORG',\n",
       "  'score': 0.9976489,\n",
       "  'index': 34,\n",
       "  'word': 'MV',\n",
       "  'start': 123,\n",
       "  'end': 125},\n",
       " {'entity': 'I-ORG',\n",
       "  'score': 0.99730635,\n",
       "  'index': 35,\n",
       "  'word': '##A',\n",
       "  'start': 125,\n",
       "  'end': 126},\n",
       " {'entity': 'I-ORG',\n",
       "  'score': 0.99466926,\n",
       "  'index': 36,\n",
       "  'word': 'Vol',\n",
       "  'start': 127,\n",
       "  'end': 130},\n",
       " {'entity': 'I-ORG',\n",
       "  'score': 0.9985656,\n",
       "  'index': 37,\n",
       "  'word': '##ody',\n",
       "  'start': 130,\n",
       "  'end': 133},\n",
       " {'entity': 'I-ORG',\n",
       "  'score': 0.99873966,\n",
       "  'index': 38,\n",
       "  'word': '##my',\n",
       "  'start': 133,\n",
       "  'end': 135},\n",
       " {'entity': 'I-ORG',\n",
       "  'score': 0.99581665,\n",
       "  'index': 39,\n",
       "  'word': '##r',\n",
       "  'start': 135,\n",
       "  'end': 136},\n",
       " {'entity': 'I-ORG',\n",
       "  'score': 0.9976318,\n",
       "  'index': 40,\n",
       "  'word': 'Pro',\n",
       "  'start': 137,\n",
       "  'end': 140},\n",
       " {'entity': 'I-ORG',\n",
       "  'score': 0.9762195,\n",
       "  'index': 41,\n",
       "  'word': '##sk',\n",
       "  'start': 140,\n",
       "  'end': 142},\n",
       " {'entity': 'I-ORG',\n",
       "  'score': 0.9677178,\n",
       "  'index': 42,\n",
       "  'word': '##uni',\n",
       "  'start': 142,\n",
       "  'end': 145},\n",
       " {'entity': 'I-ORG',\n",
       "  'score': 0.7271255,\n",
       "  'index': 43,\n",
       "  'word': '##n',\n",
       "  'start': 145,\n",
       "  'end': 146}]"
      ]
     },
     "execution_count": 18,
     "metadata": {},
     "output_type": "execute_result"
    }
   ],
   "source": [
    "ner('Russia struck Slaviansk thermal power plant in Mykolaivka, Donetsk region, with five missiles, - deputy head of Mykolaivka MVA Volodymyr Proskunin')"
   ]
  },
  {
   "cell_type": "code",
   "execution_count": null,
   "metadata": {},
   "outputs": [],
   "source": []
  }
 ],
 "metadata": {
  "kernelspec": {
   "display_name": "Python 3",
   "language": "python",
   "name": "python3"
  },
  "language_info": {
   "codemirror_mode": {
    "name": "ipython",
    "version": 3
   },
   "file_extension": ".py",
   "mimetype": "text/x-python",
   "name": "python",
   "nbconvert_exporter": "python",
   "pygments_lexer": "ipython3",
   "version": "3.10.12"
  }
 },
 "nbformat": 4,
 "nbformat_minor": 2
}
