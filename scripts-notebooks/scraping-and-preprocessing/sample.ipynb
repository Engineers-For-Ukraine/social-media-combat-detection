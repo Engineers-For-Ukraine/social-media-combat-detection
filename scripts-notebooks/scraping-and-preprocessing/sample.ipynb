{
 "cells": [
  {
   "cell_type": "code",
   "execution_count": 2,
   "metadata": {},
   "outputs": [],
   "source": [
    "import pandas as pd\n",
    "import numpy as np"
   ]
  },
  {
   "cell_type": "code",
   "execution_count": 3,
   "metadata": {},
   "outputs": [],
   "source": [
    "data = pd.read_csv('../data/split_full.csv')"
   ]
  },
  {
   "cell_type": "code",
   "execution_count": 4,
   "metadata": {},
   "outputs": [
    {
     "data": {
      "text/plain": [
       "214400"
      ]
     },
     "execution_count": 4,
     "metadata": {},
     "output_type": "execute_result"
    }
   ],
   "source": [
    "len(data)"
   ]
  },
  {
   "cell_type": "code",
   "execution_count": 5,
   "metadata": {},
   "outputs": [],
   "source": [
    "num_of_samples = 3000"
   ]
  },
  {
   "cell_type": "code",
   "execution_count": 6,
   "metadata": {},
   "outputs": [],
   "source": [
    "sample_nums = np.random.randint(0,len(data)+1, size=num_of_samples)"
   ]
  },
  {
   "cell_type": "code",
   "execution_count": 7,
   "metadata": {},
   "outputs": [],
   "source": [
    "sample = data.iloc[sample_nums]"
   ]
  },
  {
   "cell_type": "code",
   "execution_count": 8,
   "metadata": {},
   "outputs": [
    {
     "data": {
      "text/plain": [
       "3000"
      ]
     },
     "execution_count": 8,
     "metadata": {},
     "output_type": "execute_result"
    }
   ],
   "source": [
    "len(sample)"
   ]
  },
  {
   "cell_type": "code",
   "execution_count": 8,
   "metadata": {},
   "outputs": [
    {
     "data": {
      "text/html": [
       "<div>\n",
       "<style scoped>\n",
       "    .dataframe tbody tr th:only-of-type {\n",
       "        vertical-align: middle;\n",
       "    }\n",
       "\n",
       "    .dataframe tbody tr th {\n",
       "        vertical-align: top;\n",
       "    }\n",
       "\n",
       "    .dataframe thead th {\n",
       "        text-align: right;\n",
       "    }\n",
       "</style>\n",
       "<table border=\"1\" class=\"dataframe\">\n",
       "  <thead>\n",
       "    <tr style=\"text-align: right;\">\n",
       "      <th></th>\n",
       "      <th>datetime</th>\n",
       "      <th>message</th>\n",
       "      <th>translation</th>\n",
       "      <th>original</th>\n",
       "      <th>source</th>\n",
       "    </tr>\n",
       "  </thead>\n",
       "  <tbody>\n",
       "    <tr>\n",
       "      <th>85913</th>\n",
       "      <td>2023-07-31 08:57:00</td>\n",
       "      <td>TRANSLATION : Railway station ORIGINAL : ЖД ...</td>\n",
       "      <td>Railway station</td>\n",
       "      <td>ЖД вокзал</td>\n",
       "      <td>https://t.me/mariupolnow/32413 Мариуполь сей...</td>\n",
       "    </tr>\n",
       "    <tr>\n",
       "      <th>108337</th>\n",
       "      <td>2023-01-28 13:13:00</td>\n",
       "      <td>TRANSLATION : Yesterday and today, Russian t...</td>\n",
       "      <td>Yesterday and today, Russian trolls announce...</td>\n",
       "      <td>російські тролі вчора та сьогодні оголошують...</td>\n",
       "      <td>https://t.me/informnapalm/15366 InformNapalm</td>\n",
       "    </tr>\n",
       "    <tr>\n",
       "      <th>91840</th>\n",
       "      <td>2023-01-08 12:49:00</td>\n",
       "      <td>TRANSLATION : In the temporarily occupied Do...</td>\n",
       "      <td>In the temporarily occupied Donetsk, a metal...</td>\n",
       "      <td>В тимчасово окупованому Донецьку горить мета...</td>\n",
       "      <td>https://t.me/strichka_ua/10196 Strichka.UA 🍉</td>\n",
       "    </tr>\n",
       "    <tr>\n",
       "      <th>68267</th>\n",
       "      <td>2023-07-03 20:12:00</td>\n",
       "      <td>TRANSLATION : Head of Ternopil regional coun...</td>\n",
       "      <td>Head of Ternopil regional council suspected ...</td>\n",
       "      <td>Глава Тернопольского облсовета, которого под...</td>\n",
       "      <td>https://t.me/insiderUKR/58000 Инсайдер UA</td>\n",
       "    </tr>\n",
       "    <tr>\n",
       "      <th>95397</th>\n",
       "      <td>2023-01-12 23:52:00</td>\n",
       "      <td>TRANSLATION : Such happy widows can be seen ...</td>\n",
       "      <td>Such happy widows can be seen only in Russia...</td>\n",
       "      <td>Таких щаслив вдов можна побачити тільки на р...</td>\n",
       "      <td>https://t.me/antiitforce/28833 ✙ ATF•Anti Te...</td>\n",
       "    </tr>\n",
       "  </tbody>\n",
       "</table>\n",
       "</div>"
      ],
      "text/plain": [
       "                   datetime  \\\n",
       "85913   2023-07-31 08:57:00   \n",
       "108337  2023-01-28 13:13:00   \n",
       "91840   2023-01-08 12:49:00   \n",
       "68267   2023-07-03 20:12:00   \n",
       "95397   2023-01-12 23:52:00   \n",
       "\n",
       "                                                  message  \\\n",
       "85913     TRANSLATION : Railway station ORIGINAL : ЖД ...   \n",
       "108337    TRANSLATION : Yesterday and today, Russian t...   \n",
       "91840     TRANSLATION : In the temporarily occupied Do...   \n",
       "68267     TRANSLATION : Head of Ternopil regional coun...   \n",
       "95397     TRANSLATION : Such happy widows can be seen ...   \n",
       "\n",
       "                                              translation  \\\n",
       "85913                                    Railway station    \n",
       "108337    Yesterday and today, Russian trolls announce...   \n",
       "91840     In the temporarily occupied Donetsk, a metal...   \n",
       "68267     Head of Ternopil regional council suspected ...   \n",
       "95397     Such happy widows can be seen only in Russia...   \n",
       "\n",
       "                                                 original  \\\n",
       "85913                                          ЖД вокзал    \n",
       "108337    російські тролі вчора та сьогодні оголошують...   \n",
       "91840     В тимчасово окупованому Донецьку горить мета...   \n",
       "68267     Глава Тернопольского облсовета, которого под...   \n",
       "95397     Таких щаслив вдов можна побачити тільки на р...   \n",
       "\n",
       "                                                   source  \n",
       "85913     https://t.me/mariupolnow/32413 Мариуполь сей...  \n",
       "108337     https://t.me/informnapalm/15366 InformNapalm    \n",
       "91840      https://t.me/strichka_ua/10196 Strichka.UA 🍉    \n",
       "68267         https://t.me/insiderUKR/58000 Инсайдер UA    \n",
       "95397     https://t.me/antiitforce/28833 ✙ ATF•Anti Te...  "
      ]
     },
     "execution_count": 8,
     "metadata": {},
     "output_type": "execute_result"
    }
   ],
   "source": [
    "sample.tail()"
   ]
  },
  {
   "cell_type": "code",
   "execution_count": 11,
   "metadata": {},
   "outputs": [],
   "source": [
    "sample.to_csv('sample.csv', index=False)"
   ]
  },
  {
   "cell_type": "code",
   "execution_count": 9,
   "metadata": {},
   "outputs": [],
   "source": [
    "sample = pd.read_csv('/home/j/Documents/Projects/sentimental/data/sample-for-annotation/sample.csv')"
   ]
  },
  {
   "cell_type": "code",
   "execution_count": 10,
   "metadata": {},
   "outputs": [
    {
     "data": {
      "text/html": [
       "<div>\n",
       "<style scoped>\n",
       "    .dataframe tbody tr th:only-of-type {\n",
       "        vertical-align: middle;\n",
       "    }\n",
       "\n",
       "    .dataframe tbody tr th {\n",
       "        vertical-align: top;\n",
       "    }\n",
       "\n",
       "    .dataframe thead th {\n",
       "        text-align: right;\n",
       "    }\n",
       "</style>\n",
       "<table border=\"1\" class=\"dataframe\">\n",
       "  <thead>\n",
       "    <tr style=\"text-align: right;\">\n",
       "      <th></th>\n",
       "      <th>idx</th>\n",
       "      <th>orig_idx</th>\n",
       "      <th>datetime</th>\n",
       "      <th>message</th>\n",
       "      <th>translation</th>\n",
       "      <th>original</th>\n",
       "      <th>source</th>\n",
       "    </tr>\n",
       "  </thead>\n",
       "  <tbody>\n",
       "    <tr>\n",
       "      <th>0</th>\n",
       "      <td>0</td>\n",
       "      <td>67526</td>\n",
       "      <td>2023-07-01 21:11:00</td>\n",
       "      <td>TRANSLATION : The threat of using Shahed-136...</td>\n",
       "      <td>The threat of using Shahed-136 UAVs from the...</td>\n",
       "      <td>Загроза застосування БпЛА типу Shahed-136 з ...</td>\n",
       "      <td>https://t.me/voynareal/64608 Реальная Война ...</td>\n",
       "    </tr>\n",
       "    <tr>\n",
       "      <th>1</th>\n",
       "      <td>1</td>\n",
       "      <td>60933</td>\n",
       "      <td>2023-06-23 07:09:00</td>\n",
       "      <td>TRANSLATION : Results of the day for June 22...</td>\n",
       "      <td>Results of the day for June 22.     44 artil...</td>\n",
       "      <td>Підсумки дня за 22 червня.     🤯 Знищено 44 ...</td>\n",
       "      <td>https://t.me/uawarinfographics/2470 UA War I...</td>\n",
       "    </tr>\n",
       "    <tr>\n",
       "      <th>2</th>\n",
       "      <td>2</td>\n",
       "      <td>125265</td>\n",
       "      <td>2023-10-22 12:29:00</td>\n",
       "      <td>TRANSLATION : 🔴 Kherson region - air raid al...</td>\n",
       "      <td>🔴 Kherson region - air raid alert!</td>\n",
       "      <td>🔴 Херсонська область - повітряна тривога!</td>\n",
       "      <td>https://t.me/khersonskaODA/11571 🇺🇦Херcонськ...</td>\n",
       "    </tr>\n",
       "    <tr>\n",
       "      <th>3</th>\n",
       "      <td>3</td>\n",
       "      <td>78440</td>\n",
       "      <td>2023-07-19 15:07:00</td>\n",
       "      <td>TRANSLATION : SES saved the life of a four-l...</td>\n",
       "      <td>SES saved the life of a four-legged dog in K...</td>\n",
       "      <td>На Харківщині ДСНС урятували життя чотирилап...</td>\n",
       "      <td>https://t.me/kharkivlife/64398 Харьков Life ...</td>\n",
       "    </tr>\n",
       "    <tr>\n",
       "      <th>4</th>\n",
       "      <td>4</td>\n",
       "      <td>86435</td>\n",
       "      <td>2023-07-31 20:45:00</td>\n",
       "      <td>TRANSLATION : How fast FPVs are.   Ukrainian...</td>\n",
       "      <td>How fast FPVs are.   Ukrainian FPV with a ch...</td>\n",
       "      <td>How fast FPVs are.   Ukrainian FPV with a ch...</td>\n",
       "      <td>https://t.me/combat_ftg/3473 Combat Footage</td>\n",
       "    </tr>\n",
       "  </tbody>\n",
       "</table>\n",
       "</div>"
      ],
      "text/plain": [
       "   idx  orig_idx             datetime  \\\n",
       "0    0     67526  2023-07-01 21:11:00   \n",
       "1    1     60933  2023-06-23 07:09:00   \n",
       "2    2    125265  2023-10-22 12:29:00   \n",
       "3    3     78440  2023-07-19 15:07:00   \n",
       "4    4     86435  2023-07-31 20:45:00   \n",
       "\n",
       "                                             message  \\\n",
       "0    TRANSLATION : The threat of using Shahed-136...   \n",
       "1    TRANSLATION : Results of the day for June 22...   \n",
       "2    TRANSLATION : 🔴 Kherson region - air raid al...   \n",
       "3    TRANSLATION : SES saved the life of a four-l...   \n",
       "4    TRANSLATION : How fast FPVs are.   Ukrainian...   \n",
       "\n",
       "                                         translation  \\\n",
       "0    The threat of using Shahed-136 UAVs from the...   \n",
       "1    Results of the day for June 22.     44 artil...   \n",
       "2                🔴 Kherson region - air raid alert!    \n",
       "3    SES saved the life of a four-legged dog in K...   \n",
       "4    How fast FPVs are.   Ukrainian FPV with a ch...   \n",
       "\n",
       "                                            original  \\\n",
       "0    Загроза застосування БпЛА типу Shahed-136 з ...   \n",
       "1    Підсумки дня за 22 червня.     🤯 Знищено 44 ...   \n",
       "2         🔴 Херсонська область - повітряна тривога!    \n",
       "3    На Харківщині ДСНС урятували життя чотирилап...   \n",
       "4    How fast FPVs are.   Ukrainian FPV with a ch...   \n",
       "\n",
       "                                              source  \n",
       "0    https://t.me/voynareal/64608 Реальная Война ...  \n",
       "1    https://t.me/uawarinfographics/2470 UA War I...  \n",
       "2    https://t.me/khersonskaODA/11571 🇺🇦Херcонськ...  \n",
       "3    https://t.me/kharkivlife/64398 Харьков Life ...  \n",
       "4      https://t.me/combat_ftg/3473 Combat Footage    "
      ]
     },
     "execution_count": 10,
     "metadata": {},
     "output_type": "execute_result"
    }
   ],
   "source": [
    "sample.head()"
   ]
  },
  {
   "cell_type": "code",
   "execution_count": 16,
   "metadata": {},
   "outputs": [],
   "source": [
    "sample_edited = sample[['idx', 'translation']]"
   ]
  },
  {
   "cell_type": "code",
   "execution_count": 19,
   "metadata": {},
   "outputs": [
    {
     "data": {
      "text/html": [
       "<div>\n",
       "<style scoped>\n",
       "    .dataframe tbody tr th:only-of-type {\n",
       "        vertical-align: middle;\n",
       "    }\n",
       "\n",
       "    .dataframe tbody tr th {\n",
       "        vertical-align: top;\n",
       "    }\n",
       "\n",
       "    .dataframe thead th {\n",
       "        text-align: right;\n",
       "    }\n",
       "</style>\n",
       "<table border=\"1\" class=\"dataframe\">\n",
       "  <thead>\n",
       "    <tr style=\"text-align: right;\">\n",
       "      <th></th>\n",
       "      <th>id</th>\n",
       "      <th>translation</th>\n",
       "      <th>annotation</th>\n",
       "    </tr>\n",
       "  </thead>\n",
       "  <tbody>\n",
       "    <tr>\n",
       "      <th>0</th>\n",
       "      <td>0</td>\n",
       "      <td>The threat of using Shahed-136 UAVs from the...</td>\n",
       "      <td>NaN</td>\n",
       "    </tr>\n",
       "    <tr>\n",
       "      <th>1</th>\n",
       "      <td>1</td>\n",
       "      <td>Results of the day for June 22.     44 artil...</td>\n",
       "      <td>NaN</td>\n",
       "    </tr>\n",
       "    <tr>\n",
       "      <th>2</th>\n",
       "      <td>2</td>\n",
       "      <td>🔴 Kherson region - air raid alert!</td>\n",
       "      <td>NaN</td>\n",
       "    </tr>\n",
       "    <tr>\n",
       "      <th>3</th>\n",
       "      <td>3</td>\n",
       "      <td>SES saved the life of a four-legged dog in K...</td>\n",
       "      <td>NaN</td>\n",
       "    </tr>\n",
       "    <tr>\n",
       "      <th>4</th>\n",
       "      <td>4</td>\n",
       "      <td>How fast FPVs are.   Ukrainian FPV with a ch...</td>\n",
       "      <td>NaN</td>\n",
       "    </tr>\n",
       "  </tbody>\n",
       "</table>\n",
       "</div>"
      ],
      "text/plain": [
       "   id                                        translation  annotation\n",
       "0   0    The threat of using Shahed-136 UAVs from the...         NaN\n",
       "1   1    Results of the day for June 22.     44 artil...         NaN\n",
       "2   2                🔴 Kherson region - air raid alert!          NaN\n",
       "3   3    SES saved the life of a four-legged dog in K...         NaN\n",
       "4   4    How fast FPVs are.   Ukrainian FPV with a ch...         NaN"
      ]
     },
     "execution_count": 19,
     "metadata": {},
     "output_type": "execute_result"
    }
   ],
   "source": [
    "sample_edited.head()"
   ]
  },
  {
   "cell_type": "code",
   "execution_count": 25,
   "metadata": {},
   "outputs": [],
   "source": [
    "sample_edited = sample_edited[['idx', 'msg_txt']]"
   ]
  },
  {
   "cell_type": "code",
   "execution_count": 17,
   "metadata": {},
   "outputs": [],
   "source": [
    "sample_edited = sample_edited.rename(columns={'idx': 'id'})"
   ]
  },
  {
   "cell_type": "code",
   "execution_count": 18,
   "metadata": {},
   "outputs": [],
   "source": [
    "sample_edited['annotation'] = np.nan"
   ]
  },
  {
   "cell_type": "code",
   "execution_count": 22,
   "metadata": {},
   "outputs": [
    {
     "data": {
      "text/plain": [
       "numpy.int64"
      ]
     },
     "execution_count": 22,
     "metadata": {},
     "output_type": "execute_result"
    }
   ],
   "source": [
    "type(sample_edited['id'][0])"
   ]
  },
  {
   "cell_type": "code",
   "execution_count": 33,
   "metadata": {},
   "outputs": [],
   "source": [
    "sample_edited.to_csv('sample-for-sql.csv', index=False)"
   ]
  }
 ],
 "metadata": {
  "kernelspec": {
   "display_name": "Python 3",
   "language": "python",
   "name": "python3"
  },
  "language_info": {
   "codemirror_mode": {
    "name": "ipython",
    "version": 3
   },
   "file_extension": ".py",
   "mimetype": "text/x-python",
   "name": "python",
   "nbconvert_exporter": "python",
   "pygments_lexer": "ipython3",
   "version": "3.10.12"
  }
 },
 "nbformat": 4,
 "nbformat_minor": 2
}
