{
 "cells": [
  {
   "cell_type": "code",
   "execution_count": 2,
   "metadata": {},
   "outputs": [],
   "source": [
    "import pandas as pd\n",
    "import numpy as np"
   ]
  },
  {
   "cell_type": "code",
   "execution_count": 6,
   "metadata": {},
   "outputs": [],
   "source": [
    "data = pd.read_csv('../data/split_full.csv')"
   ]
  },
  {
   "cell_type": "code",
   "execution_count": 7,
   "metadata": {},
   "outputs": [
    {
     "data": {
      "text/plain": [
       "259209"
      ]
     },
     "execution_count": 7,
     "metadata": {},
     "output_type": "execute_result"
    }
   ],
   "source": [
    "len(data)"
   ]
  },
  {
   "cell_type": "code",
   "execution_count": 9,
   "metadata": {},
   "outputs": [],
   "source": [
    "num_of_samples = 2000"
   ]
  },
  {
   "cell_type": "code",
   "execution_count": 10,
   "metadata": {},
   "outputs": [],
   "source": [
    "sample_nums = np.random.randint(0,len(data)+1, size=num_of_samples)"
   ]
  },
  {
   "cell_type": "code",
   "execution_count": 12,
   "metadata": {},
   "outputs": [],
   "source": [
    "sample = data.iloc[sample_nums]"
   ]
  },
  {
   "cell_type": "code",
   "execution_count": 13,
   "metadata": {},
   "outputs": [
    {
     "data": {
      "text/plain": [
       "2000"
      ]
     },
     "execution_count": 13,
     "metadata": {},
     "output_type": "execute_result"
    }
   ],
   "source": [
    "len(sample)"
   ]
  },
  {
   "cell_type": "code",
   "execution_count": 14,
   "metadata": {},
   "outputs": [
    {
     "data": {
      "text/html": [
       "<div>\n",
       "<style scoped>\n",
       "    .dataframe tbody tr th:only-of-type {\n",
       "        vertical-align: middle;\n",
       "    }\n",
       "\n",
       "    .dataframe tbody tr th {\n",
       "        vertical-align: top;\n",
       "    }\n",
       "\n",
       "    .dataframe thead th {\n",
       "        text-align: right;\n",
       "    }\n",
       "</style>\n",
       "<table border=\"1\" class=\"dataframe\">\n",
       "  <thead>\n",
       "    <tr style=\"text-align: right;\">\n",
       "      <th></th>\n",
       "      <th>datetime</th>\n",
       "      <th>message</th>\n",
       "      <th>translation</th>\n",
       "      <th>original</th>\n",
       "      <th>source</th>\n",
       "    </tr>\n",
       "  </thead>\n",
       "  <tbody>\n",
       "    <tr>\n",
       "      <th>127258</th>\n",
       "      <td>2023-01-25 12:25:00</td>\n",
       "      <td>TRANSLATION : Germany approves re-export of ...</td>\n",
       "      <td>Germany approves re-export of Leopard 2 tank...</td>\n",
       "      <td>Німеччина схвалила реекспорт танків Leopard ...</td>\n",
       "      <td>https://t.me/antiitforce/29708 ✙ ATF•Anti Te...</td>\n",
       "    </tr>\n",
       "    <tr>\n",
       "      <th>257704</th>\n",
       "      <td>2023-04-28 19:58:00</td>\n",
       "      <td>TRANSLATION :  ORIGINAL :  SOURCE : https://...</td>\n",
       "      <td></td>\n",
       "      <td></td>\n",
       "      <td>https://t.me/UkraineNow/32333 Ukraine NOW</td>\n",
       "    </tr>\n",
       "    <tr>\n",
       "      <th>45331</th>\n",
       "      <td>2023-03-20 17:12:00</td>\n",
       "      <td>TRANSLATION :  ORIGINAL :  SOURCE : https://...</td>\n",
       "      <td></td>\n",
       "      <td></td>\n",
       "      <td>https://t.me/XU_kraine/33732 XUA-фото войны</td>\n",
       "    </tr>\n",
       "    <tr>\n",
       "      <th>48959</th>\n",
       "      <td>2023-03-24 14:57:00</td>\n",
       "      <td>TRANSLATION :  ORIGINAL :  SOURCE : https://...</td>\n",
       "      <td></td>\n",
       "      <td></td>\n",
       "      <td>https://t.me/novostiniko/33920 Новости Никол...</td>\n",
       "    </tr>\n",
       "    <tr>\n",
       "      <th>187595</th>\n",
       "      <td>2023-02-05 11:38:00</td>\n",
       "      <td>TRANSLATION : Soldiers of the Aidar battalio...</td>\n",
       "      <td>Soldiers of the Aidar battalion are always r...</td>\n",
       "      <td>Бійці батальйону \"Айдар\" завжди готові борот...</td>\n",
       "      <td>https://t.me/operativnoZSU/76013 Оперативний...</td>\n",
       "    </tr>\n",
       "  </tbody>\n",
       "</table>\n",
       "</div>"
      ],
      "text/plain": [
       "                   datetime  \\\n",
       "127258  2023-01-25 12:25:00   \n",
       "257704  2023-04-28 19:58:00   \n",
       "45331   2023-03-20 17:12:00   \n",
       "48959   2023-03-24 14:57:00   \n",
       "187595  2023-02-05 11:38:00   \n",
       "\n",
       "                                                  message  \\\n",
       "127258    TRANSLATION : Germany approves re-export of ...   \n",
       "257704    TRANSLATION :  ORIGINAL :  SOURCE : https://...   \n",
       "45331     TRANSLATION :  ORIGINAL :  SOURCE : https://...   \n",
       "48959     TRANSLATION :  ORIGINAL :  SOURCE : https://...   \n",
       "187595    TRANSLATION : Soldiers of the Aidar battalio...   \n",
       "\n",
       "                                              translation  \\\n",
       "127258    Germany approves re-export of Leopard 2 tank...   \n",
       "257704                                                      \n",
       "45331                                                       \n",
       "48959                                                       \n",
       "187595    Soldiers of the Aidar battalion are always r...   \n",
       "\n",
       "                                                 original  \\\n",
       "127258    Німеччина схвалила реекспорт танків Leopard ...   \n",
       "257704                                                      \n",
       "45331                                                       \n",
       "48959                                                       \n",
       "187595    Бійці батальйону \"Айдар\" завжди готові борот...   \n",
       "\n",
       "                                                   source  \n",
       "127258    https://t.me/antiitforce/29708 ✙ ATF•Anti Te...  \n",
       "257704        https://t.me/UkraineNow/32333 Ukraine NOW    \n",
       "45331       https://t.me/XU_kraine/33732 XUA-фото войны    \n",
       "48959     https://t.me/novostiniko/33920 Новости Никол...  \n",
       "187595    https://t.me/operativnoZSU/76013 Оперативний...  "
      ]
     },
     "execution_count": 14,
     "metadata": {},
     "output_type": "execute_result"
    }
   ],
   "source": [
    "sample.head()"
   ]
  },
  {
   "cell_type": "code",
   "execution_count": 9,
   "metadata": {},
   "outputs": [],
   "source": [
    "sample_df = pd.DataFrame(columns=['message', 'annotation'])"
   ]
  },
  {
   "cell_type": "code",
   "execution_count": 10,
   "metadata": {},
   "outputs": [],
   "source": [
    "sample_df['message'] = sample['message']"
   ]
  },
  {
   "cell_type": "code",
   "execution_count": 11,
   "metadata": {},
   "outputs": [
    {
     "data": {
      "text/html": [
       "<div>\n",
       "<style scoped>\n",
       "    .dataframe tbody tr th:only-of-type {\n",
       "        vertical-align: middle;\n",
       "    }\n",
       "\n",
       "    .dataframe tbody tr th {\n",
       "        vertical-align: top;\n",
       "    }\n",
       "\n",
       "    .dataframe thead th {\n",
       "        text-align: right;\n",
       "    }\n",
       "</style>\n",
       "<table border=\"1\" class=\"dataframe\">\n",
       "  <thead>\n",
       "    <tr style=\"text-align: right;\">\n",
       "      <th></th>\n",
       "      <th>message</th>\n",
       "      <th>annotation</th>\n",
       "    </tr>\n",
       "  </thead>\n",
       "  <tbody>\n",
       "    <tr>\n",
       "      <th>269608</th>\n",
       "      <td>\\nTRANSLATION :\\nThe Turkish government has on...</td>\n",
       "      <td>NaN</td>\n",
       "    </tr>\n",
       "    <tr>\n",
       "      <th>181446</th>\n",
       "      <td>\\nSource : Pravda Gerashchenko\\nTRANSLATION :\\...</td>\n",
       "      <td>NaN</td>\n",
       "    </tr>\n",
       "    <tr>\n",
       "      <th>119486</th>\n",
       "      <td>\\nTRANSLATION :\\nBoris Johnsonuk, a glorious C...</td>\n",
       "      <td>NaN</td>\n",
       "    </tr>\n",
       "    <tr>\n",
       "      <th>179702</th>\n",
       "      <td>\\nTRANSLATION :\\nNear Kherson, the AFU destroy...</td>\n",
       "      <td>NaN</td>\n",
       "    </tr>\n",
       "    <tr>\n",
       "      <th>248673</th>\n",
       "      <td>\\nSource : Инсайдер UA\\nTRANSLATION :\\n⚡️Zelen...</td>\n",
       "      <td>NaN</td>\n",
       "    </tr>\n",
       "  </tbody>\n",
       "</table>\n",
       "</div>"
      ],
      "text/plain": [
       "                                                  message annotation\n",
       "269608  \\nTRANSLATION :\\nThe Turkish government has on...        NaN\n",
       "181446  \\nSource : Pravda Gerashchenko\\nTRANSLATION :\\...        NaN\n",
       "119486  \\nTRANSLATION :\\nBoris Johnsonuk, a glorious C...        NaN\n",
       "179702  \\nTRANSLATION :\\nNear Kherson, the AFU destroy...        NaN\n",
       "248673  \\nSource : Инсайдер UA\\nTRANSLATION :\\n⚡️Zelen...        NaN"
      ]
     },
     "execution_count": 11,
     "metadata": {},
     "output_type": "execute_result"
    }
   ],
   "source": [
    "sample_df.head()"
   ]
  },
  {
   "cell_type": "code",
   "execution_count": 13,
   "metadata": {},
   "outputs": [],
   "source": [
    "sample_df.to_csv('sample.csv')"
   ]
  },
  {
   "cell_type": "code",
   "execution_count": 18,
   "metadata": {},
   "outputs": [],
   "source": [
    "test_sample = sample_df.iloc[0:10]\n",
    "\n",
    "test_sample.to_csv('test_sample.csv')"
   ]
  },
  {
   "cell_type": "code",
   "execution_count": 29,
   "metadata": {},
   "outputs": [],
   "source": [
    "test = pd.read_csv('/home/j/Documents/Projects/class projects/sentimental/annotated_test.csv')"
   ]
  },
  {
   "cell_type": "code",
   "execution_count": 30,
   "metadata": {},
   "outputs": [
    {
     "data": {
      "text/html": [
       "<div>\n",
       "<style scoped>\n",
       "    .dataframe tbody tr th:only-of-type {\n",
       "        vertical-align: middle;\n",
       "    }\n",
       "\n",
       "    .dataframe tbody tr th {\n",
       "        vertical-align: top;\n",
       "    }\n",
       "\n",
       "    .dataframe thead th {\n",
       "        text-align: right;\n",
       "    }\n",
       "</style>\n",
       "<table border=\"1\" class=\"dataframe\">\n",
       "  <thead>\n",
       "    <tr style=\"text-align: right;\">\n",
       "      <th></th>\n",
       "      <th>Unnamed: 0.1</th>\n",
       "      <th>Unnamed: 0</th>\n",
       "      <th>message</th>\n",
       "      <th>annotation</th>\n",
       "    </tr>\n",
       "  </thead>\n",
       "  <tbody>\n",
       "    <tr>\n",
       "      <th>0</th>\n",
       "      <td>0</td>\n",
       "      <td>269608</td>\n",
       "      <td>\\nTRANSLATION :\\nThe Turkish government has on...</td>\n",
       "      <td>0.0</td>\n",
       "    </tr>\n",
       "    <tr>\n",
       "      <th>1</th>\n",
       "      <td>1</td>\n",
       "      <td>181446</td>\n",
       "      <td>\\nSource : Pravda Gerashchenko\\nTRANSLATION :\\...</td>\n",
       "      <td>1.0</td>\n",
       "    </tr>\n",
       "    <tr>\n",
       "      <th>2</th>\n",
       "      <td>2</td>\n",
       "      <td>119486</td>\n",
       "      <td>\\nTRANSLATION :\\nBoris Johnsonuk, a glorious C...</td>\n",
       "      <td>0.0</td>\n",
       "    </tr>\n",
       "    <tr>\n",
       "      <th>3</th>\n",
       "      <td>3</td>\n",
       "      <td>179702</td>\n",
       "      <td>\\nTRANSLATION :\\nNear Kherson, the AFU destroy...</td>\n",
       "      <td>1.0</td>\n",
       "    </tr>\n",
       "    <tr>\n",
       "      <th>4</th>\n",
       "      <td>4</td>\n",
       "      <td>248673</td>\n",
       "      <td>\\nSource : Инсайдер UA\\nTRANSLATION :\\n⚡️Zelen...</td>\n",
       "      <td>0.0</td>\n",
       "    </tr>\n",
       "  </tbody>\n",
       "</table>\n",
       "</div>"
      ],
      "text/plain": [
       "   Unnamed: 0.1  Unnamed: 0  \\\n",
       "0             0      269608   \n",
       "1             1      181446   \n",
       "2             2      119486   \n",
       "3             3      179702   \n",
       "4             4      248673   \n",
       "\n",
       "                                             message  annotation  \n",
       "0  \\nTRANSLATION :\\nThe Turkish government has on...         0.0  \n",
       "1  \\nSource : Pravda Gerashchenko\\nTRANSLATION :\\...         1.0  \n",
       "2  \\nTRANSLATION :\\nBoris Johnsonuk, a glorious C...         0.0  \n",
       "3  \\nTRANSLATION :\\nNear Kherson, the AFU destroy...         1.0  \n",
       "4  \\nSource : Инсайдер UA\\nTRANSLATION :\\n⚡️Zelen...         0.0  "
      ]
     },
     "execution_count": 30,
     "metadata": {},
     "output_type": "execute_result"
    }
   ],
   "source": [
    "test.head()"
   ]
  }
 ],
 "metadata": {
  "kernelspec": {
   "display_name": "Python 3",
   "language": "python",
   "name": "python3"
  },
  "language_info": {
   "codemirror_mode": {
    "name": "ipython",
    "version": 3
   },
   "file_extension": ".py",
   "mimetype": "text/x-python",
   "name": "python",
   "nbconvert_exporter": "python",
   "pygments_lexer": "ipython3",
   "version": "3.10.12"
  }
 },
 "nbformat": 4,
 "nbformat_minor": 2
}
