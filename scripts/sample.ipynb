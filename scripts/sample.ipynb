{
 "cells": [
  {
   "cell_type": "code",
   "execution_count": 1,
   "metadata": {},
   "outputs": [],
   "source": [
    "import pandas as pd\n",
    "import numpy as np"
   ]
  },
  {
   "cell_type": "code",
   "execution_count": 2,
   "metadata": {},
   "outputs": [],
   "source": [
    "data = pd.read_csv('ukraine.csv')"
   ]
  },
  {
   "cell_type": "code",
   "execution_count": 3,
   "metadata": {},
   "outputs": [
    {
     "data": {
      "text/plain": [
       "365345"
      ]
     },
     "execution_count": 3,
     "metadata": {},
     "output_type": "execute_result"
    }
   ],
   "source": [
    "len(data)"
   ]
  },
  {
   "cell_type": "code",
   "execution_count": 4,
   "metadata": {},
   "outputs": [],
   "source": [
    "sample_nums = np.random.randint(0,len(data)+1, size=200)"
   ]
  },
  {
   "cell_type": "code",
   "execution_count": 5,
   "metadata": {},
   "outputs": [],
   "source": [
    "sample = data.iloc[sample_nums]"
   ]
  },
  {
   "cell_type": "code",
   "execution_count": 6,
   "metadata": {},
   "outputs": [
    {
     "data": {
      "text/plain": [
       "200"
      ]
     },
     "execution_count": 6,
     "metadata": {},
     "output_type": "execute_result"
    }
   ],
   "source": [
    "len(sample)"
   ]
  },
  {
   "cell_type": "code",
   "execution_count": 7,
   "metadata": {},
   "outputs": [
    {
     "data": {
      "text/html": [
       "<div>\n",
       "<style scoped>\n",
       "    .dataframe tbody tr th:only-of-type {\n",
       "        vertical-align: middle;\n",
       "    }\n",
       "\n",
       "    .dataframe tbody tr th {\n",
       "        vertical-align: top;\n",
       "    }\n",
       "\n",
       "    .dataframe thead th {\n",
       "        text-align: right;\n",
       "    }\n",
       "</style>\n",
       "<table border=\"1\" class=\"dataframe\">\n",
       "  <thead>\n",
       "    <tr style=\"text-align: right;\">\n",
       "      <th></th>\n",
       "      <th>Unnamed: 0.1</th>\n",
       "      <th>Unnamed: 0</th>\n",
       "      <th>datetime</th>\n",
       "      <th>message</th>\n",
       "      <th>negativity</th>\n",
       "      <th>neutrality</th>\n",
       "      <th>positivity</th>\n",
       "      <th>compound</th>\n",
       "      <th>city</th>\n",
       "      <th>oblast</th>\n",
       "    </tr>\n",
       "  </thead>\n",
       "  <tbody>\n",
       "    <tr>\n",
       "      <th>269608</th>\n",
       "      <td>345</td>\n",
       "      <td>345</td>\n",
       "      <td>2022-06-07 17:06:00</td>\n",
       "      <td>\\nTRANSLATION :\\nThe Turkish government has on...</td>\n",
       "      <td>0.094</td>\n",
       "      <td>0.838</td>\n",
       "      <td>0.068</td>\n",
       "      <td>-0.4519</td>\n",
       "      <td>NaN</td>\n",
       "      <td>NaN</td>\n",
       "    </tr>\n",
       "    <tr>\n",
       "      <th>181446</th>\n",
       "      <td>455</td>\n",
       "      <td>455</td>\n",
       "      <td>2022-04-17 21:31:00</td>\n",
       "      <td>\\nSource : Pravda Gerashchenko\\nTRANSLATION :\\...</td>\n",
       "      <td>0.117</td>\n",
       "      <td>0.812</td>\n",
       "      <td>0.071</td>\n",
       "      <td>-0.4199</td>\n",
       "      <td>NaN</td>\n",
       "      <td>NaN</td>\n",
       "    </tr>\n",
       "    <tr>\n",
       "      <th>119486</th>\n",
       "      <td>419</td>\n",
       "      <td>419</td>\n",
       "      <td>2022-06-17 21:29:00</td>\n",
       "      <td>\\nTRANSLATION :\\nBoris Johnsonuk, a glorious C...</td>\n",
       "      <td>0.000</td>\n",
       "      <td>0.714</td>\n",
       "      <td>0.286</td>\n",
       "      <td>0.9796</td>\n",
       "      <td>NaN</td>\n",
       "      <td>NaN</td>\n",
       "    </tr>\n",
       "    <tr>\n",
       "      <th>179702</th>\n",
       "      <td>206</td>\n",
       "      <td>206</td>\n",
       "      <td>2022-06-15 14:28:00</td>\n",
       "      <td>\\nTRANSLATION :\\nNear Kherson, the AFU destroy...</td>\n",
       "      <td>0.303</td>\n",
       "      <td>0.594</td>\n",
       "      <td>0.103</td>\n",
       "      <td>-0.8143</td>\n",
       "      <td>NaN</td>\n",
       "      <td>NaN</td>\n",
       "    </tr>\n",
       "    <tr>\n",
       "      <th>248673</th>\n",
       "      <td>311</td>\n",
       "      <td>311</td>\n",
       "      <td>2022-05-07 20:26:00</td>\n",
       "      <td>\\nSource : Инсайдер UA\\nTRANSLATION :\\n⚡️Zelen...</td>\n",
       "      <td>0.000</td>\n",
       "      <td>0.883</td>\n",
       "      <td>0.117</td>\n",
       "      <td>0.5106</td>\n",
       "      <td>NaN</td>\n",
       "      <td>NaN</td>\n",
       "    </tr>\n",
       "  </tbody>\n",
       "</table>\n",
       "</div>"
      ],
      "text/plain": [
       "        Unnamed: 0.1  Unnamed: 0             datetime  \\\n",
       "269608           345         345  2022-06-07 17:06:00   \n",
       "181446           455         455  2022-04-17 21:31:00   \n",
       "119486           419         419  2022-06-17 21:29:00   \n",
       "179702           206         206  2022-06-15 14:28:00   \n",
       "248673           311         311  2022-05-07 20:26:00   \n",
       "\n",
       "                                                  message  negativity  \\\n",
       "269608  \\nTRANSLATION :\\nThe Turkish government has on...       0.094   \n",
       "181446  \\nSource : Pravda Gerashchenko\\nTRANSLATION :\\...       0.117   \n",
       "119486  \\nTRANSLATION :\\nBoris Johnsonuk, a glorious C...       0.000   \n",
       "179702  \\nTRANSLATION :\\nNear Kherson, the AFU destroy...       0.303   \n",
       "248673  \\nSource : Инсайдер UA\\nTRANSLATION :\\n⚡️Zelen...       0.000   \n",
       "\n",
       "        neutrality  positivity  compound city oblast  \n",
       "269608       0.838       0.068   -0.4519  NaN    NaN  \n",
       "181446       0.812       0.071   -0.4199  NaN    NaN  \n",
       "119486       0.714       0.286    0.9796  NaN    NaN  \n",
       "179702       0.594       0.103   -0.8143  NaN    NaN  \n",
       "248673       0.883       0.117    0.5106  NaN    NaN  "
      ]
     },
     "execution_count": 7,
     "metadata": {},
     "output_type": "execute_result"
    }
   ],
   "source": [
    "sample.head()"
   ]
  },
  {
   "cell_type": "code",
   "execution_count": 9,
   "metadata": {},
   "outputs": [],
   "source": [
    "sample_df = pd.DataFrame(columns=['message', 'annotation'])"
   ]
  },
  {
   "cell_type": "code",
   "execution_count": 10,
   "metadata": {},
   "outputs": [],
   "source": [
    "sample_df['message'] = sample['message']"
   ]
  },
  {
   "cell_type": "code",
   "execution_count": 11,
   "metadata": {},
   "outputs": [
    {
     "data": {
      "text/html": [
       "<div>\n",
       "<style scoped>\n",
       "    .dataframe tbody tr th:only-of-type {\n",
       "        vertical-align: middle;\n",
       "    }\n",
       "\n",
       "    .dataframe tbody tr th {\n",
       "        vertical-align: top;\n",
       "    }\n",
       "\n",
       "    .dataframe thead th {\n",
       "        text-align: right;\n",
       "    }\n",
       "</style>\n",
       "<table border=\"1\" class=\"dataframe\">\n",
       "  <thead>\n",
       "    <tr style=\"text-align: right;\">\n",
       "      <th></th>\n",
       "      <th>message</th>\n",
       "      <th>annotation</th>\n",
       "    </tr>\n",
       "  </thead>\n",
       "  <tbody>\n",
       "    <tr>\n",
       "      <th>269608</th>\n",
       "      <td>\\nTRANSLATION :\\nThe Turkish government has on...</td>\n",
       "      <td>NaN</td>\n",
       "    </tr>\n",
       "    <tr>\n",
       "      <th>181446</th>\n",
       "      <td>\\nSource : Pravda Gerashchenko\\nTRANSLATION :\\...</td>\n",
       "      <td>NaN</td>\n",
       "    </tr>\n",
       "    <tr>\n",
       "      <th>119486</th>\n",
       "      <td>\\nTRANSLATION :\\nBoris Johnsonuk, a glorious C...</td>\n",
       "      <td>NaN</td>\n",
       "    </tr>\n",
       "    <tr>\n",
       "      <th>179702</th>\n",
       "      <td>\\nTRANSLATION :\\nNear Kherson, the AFU destroy...</td>\n",
       "      <td>NaN</td>\n",
       "    </tr>\n",
       "    <tr>\n",
       "      <th>248673</th>\n",
       "      <td>\\nSource : Инсайдер UA\\nTRANSLATION :\\n⚡️Zelen...</td>\n",
       "      <td>NaN</td>\n",
       "    </tr>\n",
       "  </tbody>\n",
       "</table>\n",
       "</div>"
      ],
      "text/plain": [
       "                                                  message annotation\n",
       "269608  \\nTRANSLATION :\\nThe Turkish government has on...        NaN\n",
       "181446  \\nSource : Pravda Gerashchenko\\nTRANSLATION :\\...        NaN\n",
       "119486  \\nTRANSLATION :\\nBoris Johnsonuk, a glorious C...        NaN\n",
       "179702  \\nTRANSLATION :\\nNear Kherson, the AFU destroy...        NaN\n",
       "248673  \\nSource : Инсайдер UA\\nTRANSLATION :\\n⚡️Zelen...        NaN"
      ]
     },
     "execution_count": 11,
     "metadata": {},
     "output_type": "execute_result"
    }
   ],
   "source": [
    "sample_df.head()"
   ]
  },
  {
   "cell_type": "code",
   "execution_count": 13,
   "metadata": {},
   "outputs": [],
   "source": [
    "sample_df.to_csv('sample.csv')"
   ]
  },
  {
   "cell_type": "code",
   "execution_count": 18,
   "metadata": {},
   "outputs": [],
   "source": [
    "test_sample = sample_df.iloc[0:10]\n",
    "\n",
    "test_sample.to_csv('test_sample.csv')"
   ]
  },
  {
   "cell_type": "code",
   "execution_count": 29,
   "metadata": {},
   "outputs": [],
   "source": [
    "test = pd.read_csv('/home/j/Documents/Projects/class projects/sentimental/annotated_test.csv')"
   ]
  },
  {
   "cell_type": "code",
   "execution_count": 30,
   "metadata": {},
   "outputs": [
    {
     "data": {
      "text/html": [
       "<div>\n",
       "<style scoped>\n",
       "    .dataframe tbody tr th:only-of-type {\n",
       "        vertical-align: middle;\n",
       "    }\n",
       "\n",
       "    .dataframe tbody tr th {\n",
       "        vertical-align: top;\n",
       "    }\n",
       "\n",
       "    .dataframe thead th {\n",
       "        text-align: right;\n",
       "    }\n",
       "</style>\n",
       "<table border=\"1\" class=\"dataframe\">\n",
       "  <thead>\n",
       "    <tr style=\"text-align: right;\">\n",
       "      <th></th>\n",
       "      <th>Unnamed: 0.1</th>\n",
       "      <th>Unnamed: 0</th>\n",
       "      <th>message</th>\n",
       "      <th>annotation</th>\n",
       "    </tr>\n",
       "  </thead>\n",
       "  <tbody>\n",
       "    <tr>\n",
       "      <th>0</th>\n",
       "      <td>0</td>\n",
       "      <td>269608</td>\n",
       "      <td>\\nTRANSLATION :\\nThe Turkish government has on...</td>\n",
       "      <td>0.0</td>\n",
       "    </tr>\n",
       "    <tr>\n",
       "      <th>1</th>\n",
       "      <td>1</td>\n",
       "      <td>181446</td>\n",
       "      <td>\\nSource : Pravda Gerashchenko\\nTRANSLATION :\\...</td>\n",
       "      <td>1.0</td>\n",
       "    </tr>\n",
       "    <tr>\n",
       "      <th>2</th>\n",
       "      <td>2</td>\n",
       "      <td>119486</td>\n",
       "      <td>\\nTRANSLATION :\\nBoris Johnsonuk, a glorious C...</td>\n",
       "      <td>0.0</td>\n",
       "    </tr>\n",
       "    <tr>\n",
       "      <th>3</th>\n",
       "      <td>3</td>\n",
       "      <td>179702</td>\n",
       "      <td>\\nTRANSLATION :\\nNear Kherson, the AFU destroy...</td>\n",
       "      <td>1.0</td>\n",
       "    </tr>\n",
       "    <tr>\n",
       "      <th>4</th>\n",
       "      <td>4</td>\n",
       "      <td>248673</td>\n",
       "      <td>\\nSource : Инсайдер UA\\nTRANSLATION :\\n⚡️Zelen...</td>\n",
       "      <td>0.0</td>\n",
       "    </tr>\n",
       "  </tbody>\n",
       "</table>\n",
       "</div>"
      ],
      "text/plain": [
       "   Unnamed: 0.1  Unnamed: 0  \\\n",
       "0             0      269608   \n",
       "1             1      181446   \n",
       "2             2      119486   \n",
       "3             3      179702   \n",
       "4             4      248673   \n",
       "\n",
       "                                             message  annotation  \n",
       "0  \\nTRANSLATION :\\nThe Turkish government has on...         0.0  \n",
       "1  \\nSource : Pravda Gerashchenko\\nTRANSLATION :\\...         1.0  \n",
       "2  \\nTRANSLATION :\\nBoris Johnsonuk, a glorious C...         0.0  \n",
       "3  \\nTRANSLATION :\\nNear Kherson, the AFU destroy...         1.0  \n",
       "4  \\nSource : Инсайдер UA\\nTRANSLATION :\\n⚡️Zelen...         0.0  "
      ]
     },
     "execution_count": 30,
     "metadata": {},
     "output_type": "execute_result"
    }
   ],
   "source": [
    "test.head()"
   ]
  }
 ],
 "metadata": {
  "kernelspec": {
   "display_name": "Python 3",
   "language": "python",
   "name": "python3"
  },
  "language_info": {
   "codemirror_mode": {
    "name": "ipython",
    "version": 3
   },
   "file_extension": ".py",
   "mimetype": "text/x-python",
   "name": "python",
   "nbconvert_exporter": "python",
   "pygments_lexer": "ipython3",
   "version": "3.10.12"
  }
 },
 "nbformat": 4,
 "nbformat_minor": 2
}
