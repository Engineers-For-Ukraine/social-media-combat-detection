{
 "cells": [
  {
   "cell_type": "code",
   "execution_count": 2,
   "metadata": {},
   "outputs": [],
   "source": [
    "import pandas as pd\n",
    "import numpy as np"
   ]
  },
  {
   "cell_type": "code",
   "execution_count": 3,
   "metadata": {},
   "outputs": [],
   "source": [
    "data = pd.read_csv('../data/split_full.csv')"
   ]
  },
  {
   "cell_type": "code",
   "execution_count": 4,
   "metadata": {},
   "outputs": [
    {
     "data": {
      "text/plain": [
       "214400"
      ]
     },
     "execution_count": 4,
     "metadata": {},
     "output_type": "execute_result"
    }
   ],
   "source": [
    "len(data)"
   ]
  },
  {
   "cell_type": "code",
   "execution_count": 5,
   "metadata": {},
   "outputs": [],
   "source": [
    "num_of_samples = 2000"
   ]
  },
  {
   "cell_type": "code",
   "execution_count": 6,
   "metadata": {},
   "outputs": [],
   "source": [
    "sample_nums = np.random.randint(0,len(data)+1, size=num_of_samples)"
   ]
  },
  {
   "cell_type": "code",
   "execution_count": 7,
   "metadata": {},
   "outputs": [],
   "source": [
    "sample = data.iloc[sample_nums]"
   ]
  },
  {
   "cell_type": "code",
   "execution_count": 8,
   "metadata": {},
   "outputs": [
    {
     "data": {
      "text/plain": [
       "2000"
      ]
     },
     "execution_count": 8,
     "metadata": {},
     "output_type": "execute_result"
    }
   ],
   "source": [
    "len(sample)"
   ]
  },
  {
   "cell_type": "code",
   "execution_count": 9,
   "metadata": {},
   "outputs": [
    {
     "data": {
      "text/html": [
       "<div>\n",
       "<style scoped>\n",
       "    .dataframe tbody tr th:only-of-type {\n",
       "        vertical-align: middle;\n",
       "    }\n",
       "\n",
       "    .dataframe tbody tr th {\n",
       "        vertical-align: top;\n",
       "    }\n",
       "\n",
       "    .dataframe thead th {\n",
       "        text-align: right;\n",
       "    }\n",
       "</style>\n",
       "<table border=\"1\" class=\"dataframe\">\n",
       "  <thead>\n",
       "    <tr style=\"text-align: right;\">\n",
       "      <th></th>\n",
       "      <th>datetime</th>\n",
       "      <th>message</th>\n",
       "      <th>translation</th>\n",
       "      <th>original</th>\n",
       "      <th>source</th>\n",
       "    </tr>\n",
       "  </thead>\n",
       "  <tbody>\n",
       "    <tr>\n",
       "      <th>61387</th>\n",
       "      <td>2023-06-23 18:39:00</td>\n",
       "      <td>TRANSLATION : ❗️\"We will destroy those who t...</td>\n",
       "      <td>❗️\"We will destroy those who try to resist. ...</td>\n",
       "      <td>❗️«Тех, кто будет пытаться оказать сопротивл...</td>\n",
       "      <td>https://t.me/istories_media/2781 Важные исто...</td>\n",
       "    </tr>\n",
       "    <tr>\n",
       "      <th>114462</th>\n",
       "      <td>2023-10-05 21:30:00</td>\n",
       "      <td>TRANSLATION : ‼️ Arestovych, as a \"personal ...</td>\n",
       "      <td>‼️ Arestovych, as a \"personal growth coach,\"...</td>\n",
       "      <td>‼️ Арестович, як «тренер з особистісного зро...</td>\n",
       "      <td>https://t.me/Donbas_Operativniy/57881 Донбас...</td>\n",
       "    </tr>\n",
       "    <tr>\n",
       "      <th>19327</th>\n",
       "      <td>2023-01-25 16:46:00</td>\n",
       "      <td>TRANSLATION : This may be the last appeal of...</td>\n",
       "      <td>This may be the last appeal of these soldier...</td>\n",
       "      <td>Возможно это последнее обращение этих солдат...</td>\n",
       "      <td>https://t.me/XU_kraine/30445 XUA-фото войны</td>\n",
       "    </tr>\n",
       "    <tr>\n",
       "      <th>138104</th>\n",
       "      <td>2023-08-13 11:57:00</td>\n",
       "      <td>TRANSLATION : The German concern Rheinmetall...</td>\n",
       "      <td>The German concern Rheinmetall may supply Uk...</td>\n",
       "      <td>Німецький концерн Rheinmetall до кінця року ...</td>\n",
       "      <td>https://t.me/The3rdForceUA/19096 Третя Сила</td>\n",
       "    </tr>\n",
       "    <tr>\n",
       "      <th>208006</th>\n",
       "      <td>2023-04-20 10:34:00</td>\n",
       "      <td>TRANSLATION : A photo of an armored convoy o...</td>\n",
       "      <td>A photo of an armored convoy of Ukrainian mi...</td>\n",
       "      <td>Появилось фото бронеколонны украинских военн...</td>\n",
       "      <td>https://t.me/XU_kraine/35615 XUA-фото войны</td>\n",
       "    </tr>\n",
       "  </tbody>\n",
       "</table>\n",
       "</div>"
      ],
      "text/plain": [
       "                   datetime  \\\n",
       "61387   2023-06-23 18:39:00   \n",
       "114462  2023-10-05 21:30:00   \n",
       "19327   2023-01-25 16:46:00   \n",
       "138104  2023-08-13 11:57:00   \n",
       "208006  2023-04-20 10:34:00   \n",
       "\n",
       "                                                  message  \\\n",
       "61387     TRANSLATION : ❗️\"We will destroy those who t...   \n",
       "114462    TRANSLATION : ‼️ Arestovych, as a \"personal ...   \n",
       "19327     TRANSLATION : This may be the last appeal of...   \n",
       "138104    TRANSLATION : The German concern Rheinmetall...   \n",
       "208006    TRANSLATION : A photo of an armored convoy o...   \n",
       "\n",
       "                                              translation  \\\n",
       "61387     ❗️\"We will destroy those who try to resist. ...   \n",
       "114462    ‼️ Arestovych, as a \"personal growth coach,\"...   \n",
       "19327     This may be the last appeal of these soldier...   \n",
       "138104    The German concern Rheinmetall may supply Uk...   \n",
       "208006    A photo of an armored convoy of Ukrainian mi...   \n",
       "\n",
       "                                                 original  \\\n",
       "61387     ❗️«Тех, кто будет пытаться оказать сопротивл...   \n",
       "114462    ‼️ Арестович, як «тренер з особистісного зро...   \n",
       "19327     Возможно это последнее обращение этих солдат...   \n",
       "138104    Німецький концерн Rheinmetall до кінця року ...   \n",
       "208006    Появилось фото бронеколонны украинских военн...   \n",
       "\n",
       "                                                   source  \n",
       "61387     https://t.me/istories_media/2781 Важные исто...  \n",
       "114462    https://t.me/Donbas_Operativniy/57881 Донбас...  \n",
       "19327       https://t.me/XU_kraine/30445 XUA-фото войны    \n",
       "138104      https://t.me/The3rdForceUA/19096 Третя Сила    \n",
       "208006      https://t.me/XU_kraine/35615 XUA-фото войны    "
      ]
     },
     "execution_count": 9,
     "metadata": {},
     "output_type": "execute_result"
    }
   ],
   "source": [
    "sample.head()"
   ]
  },
  {
   "cell_type": "code",
   "execution_count": 13,
   "metadata": {},
   "outputs": [],
   "source": [
    "sample.to_csv('sample.csv')"
   ]
  }
 ],
 "metadata": {
  "kernelspec": {
   "display_name": "Python 3",
   "language": "python",
   "name": "python3"
  },
  "language_info": {
   "codemirror_mode": {
    "name": "ipython",
    "version": 3
   },
   "file_extension": ".py",
   "mimetype": "text/x-python",
   "name": "python",
   "nbconvert_exporter": "python",
   "pygments_lexer": "ipython3",
   "version": "3.10.12"
  }
 },
 "nbformat": 4,
 "nbformat_minor": 2
}
