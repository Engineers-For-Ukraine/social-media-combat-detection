{
 "cells": [
  {
   "cell_type": "code",
   "execution_count": 2,
   "metadata": {},
   "outputs": [],
   "source": [
    "import pandas as pd\n",
    "import re"
   ]
  },
  {
   "cell_type": "code",
   "execution_count": 12,
   "metadata": {},
   "outputs": [
    {
     "data": {
      "text/html": [
       "<div>\n",
       "<style scoped>\n",
       "    .dataframe tbody tr th:only-of-type {\n",
       "        vertical-align: middle;\n",
       "    }\n",
       "\n",
       "    .dataframe tbody tr th {\n",
       "        vertical-align: top;\n",
       "    }\n",
       "\n",
       "    .dataframe thead th {\n",
       "        text-align: right;\n",
       "    }\n",
       "</style>\n",
       "<table border=\"1\" class=\"dataframe\">\n",
       "  <thead>\n",
       "    <tr style=\"text-align: right;\">\n",
       "      <th></th>\n",
       "      <th>datetime</th>\n",
       "      <th>message</th>\n",
       "      <th>translation</th>\n",
       "      <th>original</th>\n",
       "      <th>source</th>\n",
       "    </tr>\n",
       "  </thead>\n",
       "  <tbody>\n",
       "    <tr>\n",
       "      <th>0</th>\n",
       "      <td>2023-01-01 00:00:00</td>\n",
       "      <td>TRANSLATION : In Kyiv, fragments of a downed...</td>\n",
       "      <td>In Kyiv, fragments of a downed rocket damage...</td>\n",
       "      <td>У Києві уламки збитої ракети пошкодили машин...</td>\n",
       "      <td>https://t.me/babel/26236 Бабель</td>\n",
       "    </tr>\n",
       "    <tr>\n",
       "      <th>1</th>\n",
       "      <td>2023-01-01 00:00:00</td>\n",
       "      <td>TRANSLATION : Kyiv region is attacked by dro...</td>\n",
       "      <td>Kyiv region is attacked by drones again, air...</td>\n",
       "      <td>Київську область знову атакують дрони, ППО в...</td>\n",
       "      <td>https://t.me/babel/26237 Бабель</td>\n",
       "    </tr>\n",
       "    <tr>\n",
       "      <th>2</th>\n",
       "      <td>2023-01-01 00:01:00</td>\n",
       "      <td>TRANSLATION : Explosions are also heard in t...</td>\n",
       "      <td>Explosions are also heard in the capital. Ai...</td>\n",
       "      <td>У столиці також чутно вибухи. Працює ППО.   ...</td>\n",
       "      <td>https://t.me/babel/26235 Бабель</td>\n",
       "    </tr>\n",
       "    <tr>\n",
       "      <th>3</th>\n",
       "      <td>2023-01-01 00:04:00</td>\n",
       "      <td>TRANSLATION : As of 01:14, all is quiet in o...</td>\n",
       "      <td>As of 0114, all is quiet in our area  An air...</td>\n",
       "      <td>По состоянию на 0114 в нашей области все тих...</td>\n",
       "      <td>https://t.me/novostiniko/30785 Новости Никол...</td>\n",
       "    </tr>\n",
       "    <tr>\n",
       "      <th>4</th>\n",
       "      <td>2023-01-01 00:04:00</td>\n",
       "      <td>TRANSLATION : Kyiv region is attacked by dro...</td>\n",
       "      <td>Kyiv region is attacked by drones - Kuleba  ...</td>\n",
       "      <td>Київщину атакують дрони - Кулеба     Стоїмо....</td>\n",
       "      <td>https://t.me/operativnoZSU/67106 Оперативний...</td>\n",
       "    </tr>\n",
       "  </tbody>\n",
       "</table>\n",
       "</div>"
      ],
      "text/plain": [
       "              datetime                                            message  \\\n",
       "0  2023-01-01 00:00:00    TRANSLATION : In Kyiv, fragments of a downed...   \n",
       "1  2023-01-01 00:00:00    TRANSLATION : Kyiv region is attacked by dro...   \n",
       "2  2023-01-01 00:01:00    TRANSLATION : Explosions are also heard in t...   \n",
       "3  2023-01-01 00:04:00    TRANSLATION : As of 01:14, all is quiet in o...   \n",
       "4  2023-01-01 00:04:00    TRANSLATION : Kyiv region is attacked by dro...   \n",
       "\n",
       "                                         translation  \\\n",
       "0    In Kyiv, fragments of a downed rocket damage...   \n",
       "1    Kyiv region is attacked by drones again, air...   \n",
       "2    Explosions are also heard in the capital. Ai...   \n",
       "3    As of 0114, all is quiet in our area  An air...   \n",
       "4    Kyiv region is attacked by drones - Kuleba  ...   \n",
       "\n",
       "                                            original  \\\n",
       "0    У Києві уламки збитої ракети пошкодили машин...   \n",
       "1    Київську область знову атакують дрони, ППО в...   \n",
       "2    У столиці також чутно вибухи. Працює ППО.   ...   \n",
       "3    По состоянию на 0114 в нашей области все тих...   \n",
       "4    Київщину атакують дрони - Кулеба     Стоїмо....   \n",
       "\n",
       "                                              source  \n",
       "0                  https://t.me/babel/26236 Бабель    \n",
       "1                  https://t.me/babel/26237 Бабель    \n",
       "2                  https://t.me/babel/26235 Бабель    \n",
       "3    https://t.me/novostiniko/30785 Новости Никол...  \n",
       "4    https://t.me/operativnoZSU/67106 Оперативний...  "
      ]
     },
     "execution_count": 12,
     "metadata": {},
     "output_type": "execute_result"
    }
   ],
   "source": [
    "data = pd.read_csv('../data/full_scrape.csv')\n",
    "\n",
    "data.head()"
   ]
  },
  {
   "cell_type": "code",
   "execution_count": 51,
   "metadata": {},
   "outputs": [],
   "source": [
    "data['message'] = [re.sub(r'<.*?>','', entry).replace('\\t', '').replace('\\n',' ') for entry in data['message']]"
   ]
  },
  {
   "cell_type": "code",
   "execution_count": 52,
   "metadata": {},
   "outputs": [],
   "source": [
    "data['datetime'] = [pd.to_datetime(re.sub(r'<.*?>','', entry)) for entry in data['datetime']]\n",
    "data['message'] = [re.sub(r'<.*?>','', entry).replace('\\t', '').replace('\\n',' ') for entry in data['message']]"
   ]
  },
  {
   "cell_type": "code",
   "execution_count": 53,
   "metadata": {},
   "outputs": [],
   "source": [
    "data['translation'] = [entry.split('TRANSLATION')[1].split('ORIGINAL')[0].replace(':', '') for entry in data['message']]\n",
    "data['original'] = [entry.split('ORIGINAL')[1].split('SOURCE')[0].replace(':', '') for entry in data['message']]\n",
    "data['source'] = [entry.split('SOURCE')[1].replace(':', '', 1)  for entry in data['message']]"
   ]
  },
  {
   "cell_type": "code",
   "execution_count": 52,
   "metadata": {},
   "outputs": [],
   "source": [
    "non_empties = []\n",
    "\n",
    "for i in range(len(data)):\n",
    "    if data.iloc[i]['translation'].replace(' ', '') != '':\n",
    "        non_empties.append(i)\n",
    "\n",
    "data = data.iloc[non_empties]"
   ]
  },
  {
   "cell_type": "code",
   "execution_count": 56,
   "metadata": {},
   "outputs": [
    {
     "data": {
      "text/html": [
       "<div>\n",
       "<style scoped>\n",
       "    .dataframe tbody tr th:only-of-type {\n",
       "        vertical-align: middle;\n",
       "    }\n",
       "\n",
       "    .dataframe tbody tr th {\n",
       "        vertical-align: top;\n",
       "    }\n",
       "\n",
       "    .dataframe thead th {\n",
       "        text-align: right;\n",
       "    }\n",
       "</style>\n",
       "<table border=\"1\" class=\"dataframe\">\n",
       "  <thead>\n",
       "    <tr style=\"text-align: right;\">\n",
       "      <th></th>\n",
       "      <th>datetime</th>\n",
       "      <th>message</th>\n",
       "      <th>translation</th>\n",
       "      <th>original</th>\n",
       "      <th>source</th>\n",
       "    </tr>\n",
       "  </thead>\n",
       "  <tbody>\n",
       "    <tr>\n",
       "      <th>0</th>\n",
       "      <td>2023-01-01 00:00:00</td>\n",
       "      <td>TRANSLATION : In Kyiv, fragments of a downed...</td>\n",
       "      <td>In Kyiv, fragments of a downed rocket damage...</td>\n",
       "      <td>У Києві уламки збитої ракети пошкодили машин...</td>\n",
       "      <td>https://t.me/babel/26236 Бабель</td>\n",
       "    </tr>\n",
       "    <tr>\n",
       "      <th>1</th>\n",
       "      <td>2023-01-01 00:00:00</td>\n",
       "      <td>TRANSLATION : Kyiv region is attacked by dro...</td>\n",
       "      <td>Kyiv region is attacked by drones again, air...</td>\n",
       "      <td>Київську область знову атакують дрони, ППО в...</td>\n",
       "      <td>https://t.me/babel/26237 Бабель</td>\n",
       "    </tr>\n",
       "    <tr>\n",
       "      <th>2</th>\n",
       "      <td>2023-01-01 00:01:00</td>\n",
       "      <td>TRANSLATION : Explosions are also heard in t...</td>\n",
       "      <td>Explosions are also heard in the capital. Ai...</td>\n",
       "      <td>У столиці також чутно вибухи. Працює ППО.   ...</td>\n",
       "      <td>https://t.me/babel/26235 Бабель</td>\n",
       "    </tr>\n",
       "    <tr>\n",
       "      <th>3</th>\n",
       "      <td>2023-01-01 00:04:00</td>\n",
       "      <td>TRANSLATION : As of 01:14, all is quiet in o...</td>\n",
       "      <td>As of 0114, all is quiet in our area  An air...</td>\n",
       "      <td>По состоянию на 0114 в нашей области все тих...</td>\n",
       "      <td>https://t.me/novostiniko/30785 Новости Никол...</td>\n",
       "    </tr>\n",
       "    <tr>\n",
       "      <th>4</th>\n",
       "      <td>2023-01-01 00:04:00</td>\n",
       "      <td>TRANSLATION : Kyiv region is attacked by dro...</td>\n",
       "      <td>Kyiv region is attacked by drones - Kuleba  ...</td>\n",
       "      <td>Київщину атакують дрони - Кулеба     Стоїмо....</td>\n",
       "      <td>https://t.me/operativnoZSU/67106 Оперативний...</td>\n",
       "    </tr>\n",
       "  </tbody>\n",
       "</table>\n",
       "</div>"
      ],
      "text/plain": [
       "              datetime                                            message  \\\n",
       "0  2023-01-01 00:00:00    TRANSLATION : In Kyiv, fragments of a downed...   \n",
       "1  2023-01-01 00:00:00    TRANSLATION : Kyiv region is attacked by dro...   \n",
       "2  2023-01-01 00:01:00    TRANSLATION : Explosions are also heard in t...   \n",
       "3  2023-01-01 00:04:00    TRANSLATION : As of 01:14, all is quiet in o...   \n",
       "4  2023-01-01 00:04:00    TRANSLATION : Kyiv region is attacked by dro...   \n",
       "\n",
       "                                         translation  \\\n",
       "0    In Kyiv, fragments of a downed rocket damage...   \n",
       "1    Kyiv region is attacked by drones again, air...   \n",
       "2    Explosions are also heard in the capital. Ai...   \n",
       "3    As of 0114, all is quiet in our area  An air...   \n",
       "4    Kyiv region is attacked by drones - Kuleba  ...   \n",
       "\n",
       "                                            original  \\\n",
       "0    У Києві уламки збитої ракети пошкодили машин...   \n",
       "1    Київську область знову атакують дрони, ППО в...   \n",
       "2    У столиці також чутно вибухи. Працює ППО.   ...   \n",
       "3    По состоянию на 0114 в нашей области все тих...   \n",
       "4    Київщину атакують дрони - Кулеба     Стоїмо....   \n",
       "\n",
       "                                              source  \n",
       "0                  https://t.me/babel/26236 Бабель    \n",
       "1                  https://t.me/babel/26237 Бабель    \n",
       "2                  https://t.me/babel/26235 Бабель    \n",
       "3    https://t.me/novostiniko/30785 Новости Никол...  \n",
       "4    https://t.me/operativnoZSU/67106 Оперативний...  "
      ]
     },
     "execution_count": 56,
     "metadata": {},
     "output_type": "execute_result"
    }
   ],
   "source": [
    "data.head()"
   ]
  },
  {
   "cell_type": "code",
   "execution_count": 57,
   "metadata": {},
   "outputs": [],
   "source": [
    "data.to_csv('split_full.csv', index=False)"
   ]
  }
 ],
 "metadata": {
  "kernelspec": {
   "display_name": "Python 3",
   "language": "python",
   "name": "python3"
  },
  "language_info": {
   "codemirror_mode": {
    "name": "ipython",
    "version": 3
   },
   "file_extension": ".py",
   "mimetype": "text/x-python",
   "name": "python",
   "nbconvert_exporter": "python",
   "pygments_lexer": "ipython3",
   "version": "3.10.12"
  }
 },
 "nbformat": 4,
 "nbformat_minor": 2
}
