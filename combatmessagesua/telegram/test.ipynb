{
 "cells": [
  {
   "cell_type": "code",
   "execution_count": 1,
   "metadata": {},
   "outputs": [],
   "source": [
    "from app.classifier import XGBClassifier\n",
    "from app.telegram_funcs import get_messages\n",
    "from app.api import *"
   ]
  },
  {
   "cell_type": "code",
   "execution_count": 2,
   "metadata": {},
   "outputs": [
    {
     "name": "stdout",
     "output_type": "stream",
     "text": [
      "Classifier loaded\n",
      "Vectorizer loaded\n"
     ]
    }
   ],
   "source": [
    "classifier = XGBClassifier(model_path='models/xgb_classifier', vectorizer_path='models/tfid-vectorizer.pickle')"
   ]
  },
  {
   "cell_type": "code",
   "execution_count": 3,
   "metadata": {},
   "outputs": [],
   "source": [
    "messages = await get_messages()"
   ]
  },
  {
   "cell_type": "code",
   "execution_count": 4,
   "metadata": {},
   "outputs": [
    {
     "data": {
      "text/plain": [
       "'TRANSLATION :\\nEnemy tactical aviation activity in the Sea of Azov. Chernihiv, Sumy, Poltava regions: threat of ballistic missile use!\\n  \\n✅Subscribe to Ukraine NOW\\nORIGINAL :\\nАктивність ворожої тактичної авіації в акваторії Азовського моря. Чернігівська, Сумська, Полтавська області - загроза застосування балістичного озброєння!, - ПС ЗСУ  \\n  \\n✅підписуйся на Ukraine NOW\\nSOURCE :\\nhttps://t.me/UkraineNow/52270\\nUkraine NOW'"
      ]
     },
     "execution_count": 4,
     "metadata": {},
     "output_type": "execute_result"
    }
   ],
   "source": [
    "messages[0].text"
   ]
  },
  {
   "cell_type": "code",
   "execution_count": 5,
   "metadata": {},
   "outputs": [
    {
     "name": "stdout",
     "output_type": "stream",
     "text": [
      "TRANSLATION :\n",
      "Enemy tactical aviation activity in the Sea of Azov. Chernihiv, Sumy, Poltava regions: threat of ballistic missile use!\n",
      "  \n",
      "✅Subscribe to Ukraine NOW\n",
      "ORIGINAL :\n",
      "Активність ворожої тактичної авіації в акваторії Азовського моря. Чернігівська, Сумська, Полтавська області - загроза застосування балістичного озброєння!, - ПС ЗСУ  \n",
      "  \n",
      "✅підписуйся на Ukraine NOW\n",
      "SOURCE :\n",
      "https://t.me/UkraineNow/52270\n",
      "Ukraine NOW\n"
     ]
    },
    {
     "data": {
      "text/plain": [
       "'TRANSLATION :\\nEnemy tactical aviation activity in the Sea of Azov. Chernihiv, Sumy, Poltava regions: threat of ballistic missile use!\\n  \\n:check_mark_button:Subscribe to Ukraine NOW\\nORIGINAL :\\nАктивність ворожої тактичної авіації в акваторії Азовського моря. Чернігівська, Сумська, Полтавська області - загроза застосування балістичного озброєння!, - ПС ЗСУ  \\n  \\n:check_mark_button:підписуйся на Ukraine NOW\\nSOURCE :\\n\\nUkraine NOW'"
      ]
     },
     "execution_count": 5,
     "metadata": {},
     "output_type": "execute_result"
    }
   ],
   "source": [
    "classifier.clean(messages[0].text)"
   ]
  },
  {
   "cell_type": "code",
   "execution_count": 6,
   "metadata": {},
   "outputs": [
    {
     "name": "stdout",
     "output_type": "stream",
     "text": [
      "TRANSLATION :\n",
      "Enemy tactical aviation activity in the Sea of Azov. Chernihiv, Sumy, Poltava regions: threat of ballistic missile use!\n",
      "  \n",
      "✅Subscribe to Ukraine NOW\n",
      "ORIGINAL :\n",
      "Активність ворожої тактичної авіації в акваторії Азовського моря. Чернігівська, Сумська, Полтавська області - загроза застосування балістичного озброєння!, - ПС ЗСУ  \n",
      "  \n",
      "✅підписуйся на Ukraine NOW\n",
      "SOURCE :\n",
      "https://t.me/UkraineNow/52270\n",
      "Ukraine NOW\n",
      "\u001b[A                                                                  \u001b[A\n",
      "1/1 classified...\n"
     ]
    }
   ],
   "source": [
    "combats = classifier.classify([messages[0]])"
   ]
  },
  {
   "cell_type": "code",
   "execution_count": 7,
   "metadata": {},
   "outputs": [
    {
     "data": {
      "text/plain": [
       "['TRANSLATION :\\nEnemy tactical aviation activity in the Sea of Azov. Chernihiv, Sumy, Poltava regions: threat of ballistic missile use!\\n  \\n✅Subscribe to Ukraine NOW\\nORIGINAL :\\nАктивність ворожої тактичної авіації в акваторії Азовського моря. Чернігівська, Сумська, Полтавська області - загроза застосування балістичного озброєння!, - ПС ЗСУ  \\n  \\n✅підписуйся на Ukraine NOW\\nSOURCE :\\nhttps://t.me/UkraineNow/52270\\nUkraine NOW']"
      ]
     },
     "execution_count": 7,
     "metadata": {},
     "output_type": "execute_result"
    }
   ],
   "source": [
    "combats"
   ]
  }
 ],
 "metadata": {
  "kernelspec": {
   "display_name": "Python 3",
   "language": "python",
   "name": "python3"
  },
  "language_info": {
   "codemirror_mode": {
    "name": "ipython",
    "version": 3
   },
   "file_extension": ".py",
   "mimetype": "text/x-python",
   "name": "python",
   "nbconvert_exporter": "python",
   "pygments_lexer": "ipython3",
   "version": "3.10.12"
  }
 },
 "nbformat": 4,
 "nbformat_minor": 2
}
