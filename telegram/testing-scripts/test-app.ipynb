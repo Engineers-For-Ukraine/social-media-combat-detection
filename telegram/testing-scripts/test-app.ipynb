{
 "cells": [
  {
   "cell_type": "code",
   "execution_count": 6,
   "metadata": {},
   "outputs": [],
   "source": [
    "from telethon import TelegramClient\n",
    "from datetime import timezone, timedelta, datetime\n",
    "from time import sleep\n",
    "from api import *\n",
    "import ktrain"
   ]
  },
  {
   "cell_type": "code",
   "execution_count": 2,
   "metadata": {},
   "outputs": [],
   "source": [
    "classifier = ktrain.load_predictor('../models/distilbert')"
   ]
  },
  {
   "cell_type": "code",
   "execution_count": 3,
   "metadata": {},
   "outputs": [],
   "source": [
    "async def get_messages():\n",
    "    global api_id\n",
    "    global api_hash\n",
    "    messages = []\n",
    "    async with TelegramClient(api_id=api_id, api_hash=api_hash, session='this') as client:\n",
    "        async for message in client.iter_messages('AmplifyUkraine', offset_date=datetime.now(tz=timezone.utc) - timedelta(hours=12), reverse=True):\n",
    "            messages.append(message)\n",
    "    return messages\n",
    "\n",
    "def find_combats(messages):\n",
    "    global classifier\n",
    "    combats = []\n",
    "    for message in messages:\n",
    "        if classifier.predict(message.text) == 'annotation':\n",
    "            combats.append(message)\n",
    "    return combats\n",
    "\n",
    "async def post_messages(messages):\n",
    "    global api_id\n",
    "    global api_hash\n",
    "    async with TelegramClient(api_id=api_id, api_hash=api_hash, session='this') as client:\n",
    "        for message in messages:\n",
    "            await client.send_message(entity=-1002040681043, message=message.text)\n",
    "\n",
    "async def post_report(report):\n",
    "    global api_id\n",
    "    global api_hash\n",
    "    async with TelegramClient(api_id=api_id, api_hash=api_hash, session='this') as client:\n",
    "        await client.send_message(entity=-1002040681043, message=report) # update entity to report channel\n"
   ]
  },
  {
   "cell_type": "code",
   "execution_count": 4,
   "metadata": {},
   "outputs": [],
   "source": [
    "async def main():\n",
    "    report = {'time': datetime.now(),'num_messages': 0, 'num_combats': 0, 'errors': []}\n",
    "\n",
    "    try:\n",
    "        messages = await get_messages()\n",
    "        num_messages = len(messages)\n",
    "        report['num_messages'] = num_messages\n",
    "    \n",
    "    \n",
    "        if num_messages > 0:\n",
    "            try:\n",
    "                combats = find_combats(messages)\n",
    "                num_combats = len(combats)\n",
    "                report['num_combats'] = num_combats\n",
    "\n",
    "                if num_combats > 0:\n",
    "                    try:\n",
    "                        await post_messages(combats)\n",
    "                    except:\n",
    "                        report['errors'].append('Failed to post messages.')\n",
    "\n",
    "            except:\n",
    "                report['errors'].append('Failed to classify messages')\n",
    "\n",
    "    except:\n",
    "        report['errors'].append('Failed to get messages')\n",
    "\n",
    "    if len(report['errors']) == 0:\n",
    "        report['errors'].append('None')\n",
    "\n",
    "    error_string = ''\n",
    "    for error in report['errors']:\n",
    "        error_string += error + '\\n'\n",
    "\n",
    "    report_string = f\"{report['time']}\\nRetrieved {report['num_messages']} new messages. \\nFound {report['num_combats']} combat events. \\n Errors: {error_string}\"\n",
    "\n",
    "    try:\n",
    "        await post_report(report_string)\n",
    "    except:\n",
    "        pass\n",
    "\n",
    "    sleep(3600)\n"
   ]
  },
  {
   "cell_type": "code",
   "execution_count": 5,
   "metadata": {},
   "outputs": [],
   "source": [
    "await main()"
   ]
  }
 ],
 "metadata": {
  "kernelspec": {
   "display_name": "Python 3",
   "language": "python",
   "name": "python3"
  },
  "language_info": {
   "codemirror_mode": {
    "name": "ipython",
    "version": 3
   },
   "file_extension": ".py",
   "mimetype": "text/x-python",
   "name": "python",
   "nbconvert_exporter": "python",
   "pygments_lexer": "ipython3",
   "version": "3.10.12"
  }
 },
 "nbformat": 4,
 "nbformat_minor": 2
}
