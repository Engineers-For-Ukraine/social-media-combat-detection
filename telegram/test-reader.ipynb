{
 "cells": [
  {
   "cell_type": "code",
   "execution_count": 37,
   "metadata": {},
   "outputs": [],
   "source": [
    "from telethon import TelegramClient\n",
    "from api import *\n",
    "from datetime import datetime, timedelta, timezone"
   ]
  },
  {
   "cell_type": "code",
   "execution_count": 38,
   "metadata": {},
   "outputs": [],
   "source": [
    "async def main(chat_name):\n",
    "    global api_id\n",
    "    global api_hash\n",
    "    async with TelegramClient(api_id=api_id, api_hash=api_hash, session='this') as client:\n",
    "        messages = await client.iter_messages(chat_name, offset_date=datetime.now(tz=timezone.utc) - timedelta(hours=1), reverse=True)\n",
    "        return messages"
   ]
  },
  {
   "cell_type": "code",
   "execution_count": 40,
   "metadata": {},
   "outputs": [],
   "source": [
    "chat_name = 'AmplifyUkraine'"
   ]
  },
  {
   "cell_type": "code",
   "execution_count": 41,
   "metadata": {},
   "outputs": [],
   "source": [
    "results = await main(chat_name)"
   ]
  },
  {
   "cell_type": "code",
   "execution_count": 42,
   "metadata": {},
   "outputs": [],
   "source": [
    "messages = results\n",
    "first = messages[0].to_dict()"
   ]
  },
  {
   "cell_type": "code",
   "execution_count": 43,
   "metadata": {},
   "outputs": [
    {
     "data": {
      "text/plain": [
       "{'_': 'Message',\n",
       " 'id': 616327,\n",
       " 'peer_id': {'_': 'PeerChannel', 'channel_id': 1734119399},\n",
       " 'date': datetime.datetime(2023, 12, 29, 17, 38, 9, tzinfo=datetime.timezone.utc),\n",
       " 'message': 'TRANSLATION :\\nA year ago, Ukraine and the world were expecting a powerful counteroffensive by the Ukrainian Armed Forces in the south. It was announced by the Ukrainian government, Western politicians, and the military. The high expectations were not met: Ukraine did not liberate a single city in the south and failed to cut the Russian land corridor to Crimea. The unsuccessful campaign was widely criticized by the Western media, which gave the impression that 2023 was a failure for Ukraine. In fact, it was not. \"Babel recalls the victories of the outgoing year - it\\'s definitely too early to give up.  \\n  \\n@babel\\nORIGINAL :\\nРік тому Україна і світ чекали потужного контрнаступу ЗСУ на півдні. Його анонсували українська влада, західні політики й військові. Високі очікування не справдилися — на півдні Україна не звільнила жодного міста й не змогла перерізати сухопутний коридор росіян до Криму. Невдалу кампанію багато критикували західні медіа — через це склалося враження, що 2023-й для України був провальним. Насправді це не так. «Бабель» згадує перемоги року, що минає, — опускати руки точно зарано.  \\n  \\n@babel\\nSOURCE :\\nhttps://t.me/babel/43798\\nБабель',\n",
       " 'out': False,\n",
       " 'mentioned': False,\n",
       " 'media_unread': False,\n",
       " 'silent': False,\n",
       " 'post': True,\n",
       " 'from_scheduled': False,\n",
       " 'legacy': False,\n",
       " 'edit_hide': True,\n",
       " 'pinned': False,\n",
       " 'noforwards': False,\n",
       " 'invert_media': False,\n",
       " 'from_id': None,\n",
       " 'fwd_from': None,\n",
       " 'via_bot_id': None,\n",
       " 'reply_to': None,\n",
       " 'media': {'_': 'MessageMediaWebPage',\n",
       "  'webpage': {'_': 'WebPage',\n",
       "   'id': 3463749426167939764,\n",
       "   'url': 'https://t.me/babel/43798',\n",
       "   'display_url': 't.me/babel/43798',\n",
       "   'hash': 0,\n",
       "   'has_large_media': True,\n",
       "   'type': 'photo',\n",
       "   'site_name': 'Telegram',\n",
       "   'title': 'Бабель',\n",
       "   'description': 'Рік тому Україна і світ чекали потужного контрнаступу ЗСУ на півдні. Його анонсували українська влада, західні політики й військові. Високі очікування не справдилися — на півдні Україна не звільнила жодного міста й не змогла перерізати сухопутний коридор росіян до Криму. Невдалу кампанію багато критикували західні медіа — через це склалося враження, що 2023-й для України був провальним. Насправді це не так. «Бабель» згадує перемоги року, що минає, — опускати руки точно зарано.\\n\\n@babel',\n",
       "   'photo': {'_': 'Photo',\n",
       "    'id': 5222107601582542874,\n",
       "    'access_hash': 5151420075563962824,\n",
       "    'file_reference': b\"\\x00e\\x8f\\x04'\\xf5Uql\\x8e#\\xd7R\\x97\\xe8(\\x9b\\xa4\\xbcm\\xe3\",\n",
       "    'date': datetime.datetime(2023, 12, 29, 16, 57, 42, tzinfo=datetime.timezone.utc),\n",
       "    'sizes': [{'_': 'PhotoStrippedSize',\n",
       "      'type': 'i',\n",
       "      'bytes': b'\\x01\\x1b(\\xca\\xa9\\xe2\\xb6ySr\\x95\\x03\\xdc\\xe2\\xa0\\xad+4V\\xb6Bq\\xc3\\x9e\\xbf\\x85\\x03J\\xe5qa1\\x19\\xf9\\x08\\xf6j\\x8d\\xad\\xa4Ev\\xf9HLg\\x07\\xd6\\xb4^c\\x1c\\xdb\\x15\\x06\\xd1\\x9a\\xab)\\xc4,7gp\\xe7\\xf0?\\xfdjH\\x1d\\x8aTQE1\\x0bW\\xac\\xe7\\xb6\\x8e\\r\\xb3\\x06-\\x93\\x8cf\\xa8\\xd1@\\x1ab\\xe2\\xc0\\x1c\\xf9m\\x9e\\xbd\\xe9\\xb776\\x8fj\\xe9\\x12\\x90\\xe7\\x00d{\\xd6u\\x14\\x00\\x94QE\\x00\\x7f'},\n",
       "     {'_': 'PhotoSize', 'type': 'm', 'w': 320, 'h': 213, 'size': 17109},\n",
       "     {'_': 'PhotoSize', 'type': 'x', 'w': 800, 'h': 533, 'size': 99145},\n",
       "     {'_': 'PhotoSizeProgressive',\n",
       "      'type': 'y',\n",
       "      'w': 1280,\n",
       "      'h': 853,\n",
       "      'sizes': [11727, 29639, 43731, 81939, 172003]}],\n",
       "    'dc_id': 2,\n",
       "    'has_stickers': False,\n",
       "    'video_sizes': []},\n",
       "   'embed_url': None,\n",
       "   'embed_type': None,\n",
       "   'embed_width': None,\n",
       "   'embed_height': None,\n",
       "   'duration': None,\n",
       "   'author': None,\n",
       "   'document': None,\n",
       "   'cached_page': None,\n",
       "   'attributes': []},\n",
       "  'force_large_media': False,\n",
       "  'force_small_media': False,\n",
       "  'manual': False,\n",
       "  'safe': True},\n",
       " 'reply_markup': None,\n",
       " 'entities': [{'_': 'MessageEntityMention', 'offset': 612, 'length': 6},\n",
       "  {'_': 'MessageEntityMention', 'offset': 1117, 'length': 6},\n",
       "  {'_': 'MessageEntityUrl', 'offset': 1133, 'length': 24}],\n",
       " 'views': 2,\n",
       " 'forwards': 0,\n",
       " 'replies': {'_': 'MessageReplies',\n",
       "  'replies': 0,\n",
       "  'replies_pts': 1046215,\n",
       "  'comments': True,\n",
       "  'recent_repliers': [],\n",
       "  'channel_id': 1550516633,\n",
       "  'max_id': None,\n",
       "  'read_max_id': None},\n",
       " 'edit_date': datetime.datetime(2023, 12, 29, 17, 38, 13, tzinfo=datetime.timezone.utc),\n",
       " 'post_author': None,\n",
       " 'grouped_id': None,\n",
       " 'reactions': None,\n",
       " 'restriction_reason': [],\n",
       " 'ttl_period': None}"
      ]
     },
     "execution_count": 43,
     "metadata": {},
     "output_type": "execute_result"
    }
   ],
   "source": [
    "first"
   ]
  },
  {
   "cell_type": "code",
   "execution_count": null,
   "metadata": {},
   "outputs": [],
   "source": []
  }
 ],
 "metadata": {
  "kernelspec": {
   "display_name": "Python 3",
   "language": "python",
   "name": "python3"
  },
  "language_info": {
   "codemirror_mode": {
    "name": "ipython",
    "version": 3
   },
   "file_extension": ".py",
   "mimetype": "text/x-python",
   "name": "python",
   "nbconvert_exporter": "python",
   "pygments_lexer": "ipython3",
   "version": "3.10.12"
  }
 },
 "nbformat": 4,
 "nbformat_minor": 2
}
