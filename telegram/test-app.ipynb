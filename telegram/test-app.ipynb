{
 "cells": [
  {
   "cell_type": "code",
   "execution_count": 17,
   "metadata": {},
   "outputs": [],
   "source": [
    "from telethon import TelegramClient\n",
    "from datetime import timezone, timedelta, datetime\n",
    "from api import *"
   ]
  },
  {
   "cell_type": "code",
   "execution_count": 50,
   "metadata": {},
   "outputs": [],
   "source": [
    "async def get_messages(chat_name='AmplifyUkraine'):\n",
    "    global api_id\n",
    "    global api_hash\n",
    "    messages = []\n",
    "    async with TelegramClient(api_id=api_id, api_hash=api_hash, session='this') as client:\n",
    "        messages =  await client.get_messages(chat_name, offset_date=datetime.now(tz=timezone.utc) - timedelta(hours=1), reverse=True)\n",
    "    return messages"
   ]
  },
  {
   "cell_type": "code",
   "execution_count": 19,
   "metadata": {},
   "outputs": [],
   "source": [
    "async def post_message(message):\n",
    "    global api_id\n",
    "    global api_hash\n",
    "    async with TelegramClient(api_id=api_id, api_hash=api_hash, session='this') as client:\n",
    "        await client.send_message(entity=-1002040681043, message=message)"
   ]
  },
  {
   "cell_type": "code",
   "execution_count": 51,
   "metadata": {},
   "outputs": [],
   "source": [
    "messages = await get_messages()"
   ]
  },
  {
   "cell_type": "code",
   "execution_count": 52,
   "metadata": {},
   "outputs": [
    {
     "name": "stdout",
     "output_type": "stream",
     "text": [
      "[Message(id=629891, peer_id=PeerChannel(channel_id=1734119399), date=datetime.datetime(2024, 1, 26, 21, 6, 43, tzinfo=datetime.timezone.utc), message=\"TRANSLATION :\\n🇺🇸 What is Texas - The Economist\\n  \\nIt is one of the most important states for the US economy, accounting for 9% of the country's total GDP. It is the center of American oil production. In terms of oil production, Texas ranks third in the world after Russia and Saudi Arabia.  \\n  \\nIn 2021, Elon Musk moved Tesla's headquarters to Texas. It is home to SpaceX's Starbase and the main facilities for the production of modern rockets.  \\n  \\nIf Texas were a separate country, with a GDP of $1.8 trillion, it would be the 12th largest economy in the world, outpacing South Korea, Brazil, Australia, and Spain.  \\n  \\nThe GDP per capita is $78 thousand. In China, it's $12 thousand, in South Korea, $34 thousand, and in Germany, $51 thousand.  \\n  \\n🇺🇦Реальна War\\nORIGINAL :\\n🇺🇸 Що являє собою Техас, — The Economist  \\n  \\nЦе один із найважливіших для економіки США штатів, який дає 9% всього ВВП країни. Це центр американського нафтовидобутку. За обсягом видобутку нафти Техас посідає третє місце у світі після росії та Саудівської Аравії.  \\n  \\nУ 2021, Ілон Маск переніс штаб Tesla до Техасу. Там розташовується Starbase SpaceX і основні потужності з виробництва сучасних ракет.  \\n  \\nЯкби Техас був окремою країною, то з ВВП $1,8 трлн це буде 12 економіка світу, яка б обганяла Південну Корею, Бразилію, Австралію, Іспанію.  \\n  \\nВВП душу населення $78 тис. У Китаї  — $12 тис. У Південній Кореї $34 тис. У Німеччині $51 тисяча.  \\n  \\n🇺🇦Реальна Війна\\nSOURCE :\\nhttps://t.me/voynareal/82501\\nРеальна Війна | Україна\", out=False, mentioned=False, media_unread=False, silent=False, post=True, from_scheduled=False, legacy=False, edit_hide=True, pinned=False, noforwards=False, invert_media=False, from_id=None, fwd_from=None, via_bot_id=None, reply_to=None, media=MessageMediaWebPage(webpage=WebPage(id=3463749425261326069, url='https://t.me/voynareal/82501', display_url='t.me/voynareal/82501', hash=0, has_large_media=True, type='photo', site_name='Telegram', title='Реальна Війна | Україна', description='🇺🇸 Що являє собою Техас, — The Economist\\n\\nЦе один із найважливіших для економіки США штатів, який дає 9% всього ВВП країни. Це центр американського нафтовидобутку. За обсягом видобутку нафти Техас посідає третє місце у світі після росії та Саудівської Аравії.\\n\\nУ 2021, Ілон Маск переніс штаб Tesla до Техасу. Там розташовується Starbase SpaceX і основні потужності з виробництва сучасних ракет.\\n\\nЯкби Техас був окремою країною, то з ВВП $1,8 трлн це буде 12 економіка світу, яка б обганяла Південну Корею, Бразилію, Австралію, Іспанію.\\n\\nВВП душу населення $78 тис. У Китаї  — $12 тис. У Південній Кореї $34 тис. У Німеччині $51 тисяча.\\n\\n🇺🇦Реальна Війна', photo=Photo(id=5305354130887400118, access_hash=-7048638767301687739, file_reference=b'\\x00e\\xb4+\\xea\\xab\\n\\xcb<6HB\\x04\\xab)\\xf7\\xf08\\xf0\\x8a\\xfc', date=datetime.datetime(2024, 1, 26, 19, 56, tzinfo=datetime.timezone.utc), sizes=[PhotoStrippedSize(type='i', bytes=b'\\x01\\x1f(\\xd0\\x99\\xd9_\\x87\\xc0\\x1dG\\x14\\x13+\\xdb6\\xc7\\x1eg@})\\xce\\xc3\\xcc+\\x84?^\\xb4\\x0c\\xb2\\xe3\\x03\\xafaN\\xe2\\xb0\\x89\\xe7\\x85P\\xc4\\x16\\xc7<\\xd3\\xf2\\xfc\\xe3\\x93\\xf5\\xa4\\xdar8==\\x05&\\x1f\\xcf\\xce\\xc1\\xb7\\xd7\\xf0\\xa41\\xcb\\xe6n\\xf9\\x87\\x1fZ(D`\\xc3#\\x8f\\xafJ(\\x0b\\xdca\\xdan\\x0ec\\\\\\x820\\xdd\\xe8I\\x0c\\xb11t+\\x83\\xebR\\x15\\xcb\\x1f\\x97>\\xf9\\xa5 \\x91\\x82\\xbc}i\\x8bR(\\xc0\\xdc\\xdbw\\x0c\\x0e\\xb9\\x1c\\xd3\\x95@b@a\\x9f^\\x82\\x9c\\x17\\x19\\x01x>\\xf5\\x15\\xcb\\x18\\xa0i\\x14\\x00\\xdc\\x0ey\\xefJ\\xe3J\\xee\\xc8X\\xd3k\\x0e\\x9f\\x9d\\x15F;\\xc97\\xa8\\xcad\\x9c\\x1e(\\xa5\\xcc\\x8d=\\x94\\x91'), PhotoSize(type='m', w=320, h=249, size=35302), PhotoSizeProgressive(type='x', w=800, h=623, sizes=[6998, 21871, 39604, 57067, 100267])], dc_id=2, has_stickers=False, video_sizes=[]), embed_url=None, embed_type=None, embed_width=None, embed_height=None, duration=None, author=None, document=None, cached_page=None, attributes=[]), force_large_media=False, force_small_media=False, manual=False, safe=True), reply_markup=None, entities=[MessageEntityUrl(offset=1467, length=28)], views=2, forwards=0, replies=MessageReplies(replies=0, replies_pts=1069020, comments=True, recent_repliers=[], channel_id=1550516633, max_id=None, read_max_id=None), edit_date=datetime.datetime(2024, 1, 26, 21, 6, 47, tzinfo=datetime.timezone.utc), post_author=None, grouped_id=None, reactions=None, restriction_reason=[], ttl_period=None), total=49914]\n"
     ]
    }
   ],
   "source": [
    "print(messages)"
   ]
  },
  {
   "cell_type": "code",
   "execution_count": 53,
   "metadata": {},
   "outputs": [
    {
     "data": {
      "text/plain": [
       "\"TRANSLATION :\\n🇺🇸 What is Texas - The Economist\\n  \\nIt is one of the most important states for the US economy, accounting for 9% of the country's total GDP. It is the center of American oil production. In terms of oil production, Texas ranks third in the world after Russia and Saudi Arabia.  \\n  \\nIn 2021, Elon Musk moved Tesla's headquarters to Texas. It is home to SpaceX's Starbase and the main facilities for the production of modern rockets.  \\n  \\nIf Texas were a separate country, with a GDP of $1.8 trillion, it would be the 12th largest economy in the world, outpacing South Korea, Brazil, Australia, and Spain.  \\n  \\nThe GDP per capita is $78 thousand. In China, it's $12 thousand, in South Korea, $34 thousand, and in Germany, $51 thousand.  \\n  \\n🇺🇦Реальна War\\nORIGINAL :\\n🇺🇸 Що являє собою Техас, — The Economist  \\n  \\nЦе один із найважливіших для економіки США штатів, який дає 9% всього ВВП країни. Це центр американського нафтовидобутку. За обсягом видобутку нафти Техас посідає третє місце у світі після росії та Саудівської Аравії.  \\n  \\nУ 2021, Ілон Маск переніс штаб Tesla до Техасу. Там розташовується Starbase SpaceX і основні потужності з виробництва сучасних ракет.  \\n  \\nЯкби Техас був окремою країною, то з ВВП $1,8 трлн це буде 12 економіка світу, яка б обганяла Південну Корею, Бразилію, Австралію, Іспанію.  \\n  \\nВВП душу населення $78 тис. У Китаї  — $12 тис. У Південній Кореї $34 тис. У Німеччині $51 тисяча.  \\n  \\n🇺🇦Реальна Війна\\nSOURCE :\\nhttps://t.me/voynareal/82501\\nРеальна Війна | Україна\""
      ]
     },
     "execution_count": 53,
     "metadata": {},
     "output_type": "execute_result"
    }
   ],
   "source": [
    "first = messages[0].to_dict()\n",
    "first['message']"
   ]
  },
  {
   "cell_type": "code",
   "execution_count": 54,
   "metadata": {},
   "outputs": [],
   "source": [
    "message = first['message']"
   ]
  },
  {
   "cell_type": "code",
   "execution_count": 56,
   "metadata": {},
   "outputs": [],
   "source": [
    "await post_message(message)"
   ]
  }
 ],
 "metadata": {
  "kernelspec": {
   "display_name": "Python 3",
   "language": "python",
   "name": "python3"
  },
  "language_info": {
   "codemirror_mode": {
    "name": "ipython",
    "version": 3
   },
   "file_extension": ".py",
   "mimetype": "text/x-python",
   "name": "python",
   "nbconvert_exporter": "python",
   "pygments_lexer": "ipython3",
   "version": "3.10.12"
  }
 },
 "nbformat": 4,
 "nbformat_minor": 2
}
