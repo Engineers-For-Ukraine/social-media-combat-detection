{
 "cells": [
  {
   "cell_type": "code",
   "execution_count": 2,
   "metadata": {},
   "outputs": [],
   "source": [
    "from telethon import TelegramClient\n",
    "from api import *"
   ]
  },
  {
   "cell_type": "code",
   "execution_count": 3,
   "metadata": {},
   "outputs": [],
   "source": [
    "async def get_messages(chat_name='AmplifyUkraine'):\n",
    "    global api_id\n",
    "    global api_hash\n",
    "    async with TelegramClient(api_id=api_id, api_hash=api_hash, session='this') as client:\n",
    "        messages = await client.iter_messages(chat_name, offset_date=datetime.now(tz=timezone.utc) - timedelta(hours=1), reverse=True)\n",
    "        return messages"
   ]
  },
  {
   "cell_type": "code",
   "execution_count": null,
   "metadata": {},
   "outputs": [],
   "source": [
    "async def post_message(message):\n",
    "    global api_id\n",
    "    global api_hash\n",
    "    async with TelegramClient(api_id=api_id, api_hash=api_hash, session='this') as client:\n",
    "        await client.send_message(entity=-1002040681043, message=message)"
   ]
  },
  {
   "cell_type": "code",
   "execution_count": 5,
   "metadata": {},
   "outputs": [],
   "source": [
    "messages = get_messages()"
   ]
  },
  {
   "cell_type": "code",
   "execution_count": 6,
   "metadata": {},
   "outputs": [],
   "source": [
    "first = messages[0].to_dict()\n",
    "message = first['message']"
   ]
  },
  {
   "cell_type": "code",
   "execution_count": null,
   "metadata": {},
   "outputs": [],
   "source": [
    "post_message(message)"
   ]
  }
 ],
 "metadata": {
  "kernelspec": {
   "display_name": "Python 3",
   "language": "python",
   "name": "python3"
  },
  "language_info": {
   "codemirror_mode": {
    "name": "ipython",
    "version": 3
   },
   "file_extension": ".py",
   "mimetype": "text/x-python",
   "name": "python",
   "nbconvert_exporter": "python",
   "pygments_lexer": "ipython3",
   "version": "3.10.12"
  }
 },
 "nbformat": 4,
 "nbformat_minor": 2
}
