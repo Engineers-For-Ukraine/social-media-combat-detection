{
 "cells": [
  {
   "cell_type": "code",
   "execution_count": 2,
   "metadata": {},
   "outputs": [
    {
     "name": "stderr",
     "output_type": "stream",
     "text": [
      "/home/j/.local/lib/python3.10/site-packages/tqdm/auto.py:21: TqdmWarning: IProgress not found. Please update jupyter and ipywidgets. See https://ipywidgets.readthedocs.io/en/stable/user_install.html\n",
      "  from .autonotebook import tqdm as notebook_tqdm\n"
     ]
    }
   ],
   "source": [
    "from telethon import TelegramClient\n",
    "from datetime import timezone, timedelta, datetime\n",
    "from api import *\n",
    "import ktrain"
   ]
  },
  {
   "cell_type": "code",
   "execution_count": 3,
   "metadata": {},
   "outputs": [],
   "source": [
    "classifier = ktrain.load_predictor('../models/distilbert')"
   ]
  },
  {
   "cell_type": "code",
   "execution_count": 41,
   "metadata": {},
   "outputs": [],
   "source": [
    "async def get_messages():\n",
    "    global api_id\n",
    "    global api_hash\n",
    "    messages = []\n",
    "    async with TelegramClient(api_id=api_id, api_hash=api_hash, session='this') as client:\n",
    "        async for message in client.iter_messages('AmplifyUkraine', offset_date=datetime.now(tz=timezone.utc) - timedelta(hours=12), reverse=True):\n",
    "            messages.append(message)\n",
    "    return messages\n",
    "\n",
    "def find_combats(messages):\n",
    "    global classifier\n",
    "    combats = []\n",
    "    for message in messages:\n",
    "        if classifier.predict(message.text) == 'annotation':\n",
    "            combats.append(message)\n",
    "    return combats\n",
    "\n",
    "async def post_messages(messages):\n",
    "    global api_id\n",
    "    global api_hash\n",
    "    async with TelegramClient(api_id=api_id, api_hash=api_hash, session='this') as client:\n",
    "        for message in messages:\n",
    "            await client.send_message(entity=-1002040681043, message=message.text)\n"
   ]
  },
  {
   "cell_type": "code",
   "execution_count": 44,
   "metadata": {},
   "outputs": [],
   "source": [
    "async def main():\n",
    "    messages = await get_messages()\n",
    "    combats = find_combats(messages)\n",
    "    await post_messages(combats)\n"
   ]
  },
  {
   "cell_type": "code",
   "execution_count": 46,
   "metadata": {},
   "outputs": [],
   "source": [
    "await main()"
   ]
  }
 ],
 "metadata": {
  "kernelspec": {
   "display_name": "Python 3",
   "language": "python",
   "name": "python3"
  },
  "language_info": {
   "codemirror_mode": {
    "name": "ipython",
    "version": 3
   },
   "file_extension": ".py",
   "mimetype": "text/x-python",
   "name": "python",
   "nbconvert_exporter": "python",
   "pygments_lexer": "ipython3",
   "version": "3.10.12"
  }
 },
 "nbformat": 4,
 "nbformat_minor": 2
}
