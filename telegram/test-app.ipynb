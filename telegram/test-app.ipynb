{
 "cells": [
  {
   "cell_type": "code",
   "execution_count": 2,
   "metadata": {},
   "outputs": [],
   "source": [
    "from telethon import TelegramClient\n",
    "from api import *"
   ]
  },
  {
   "cell_type": "code",
   "execution_count": 3,
   "metadata": {},
   "outputs": [],
   "source": [
    "async def get_messages(chat_name, limit):\n",
    "    global api_id\n",
    "    global api_hash\n",
    "    async with TelegramClient(api_id=api_id, api_hash=api_hash, session='this') as client:\n",
    "        chat_info = await client.get_entity(chat_name)\n",
    "        messages = await client.get_messages(entity=chat_info, limit=limit)\n",
    "        return ({\"channel\": chat_info, \"messages\": messages})"
   ]
  },
  {
   "cell_type": "code",
   "execution_count": null,
   "metadata": {},
   "outputs": [],
   "source": [
    "async def post_message(message):\n",
    "    global api_id\n",
    "    global api_hash\n",
    "    async with TelegramClient(api_id=api_id, api_hash=api_hash, session='this') as client:\n",
    "        await client.send_message(entity=-1002040681043, message=message)"
   ]
  },
  {
   "cell_type": "code",
   "execution_count": 4,
   "metadata": {},
   "outputs": [],
   "source": [
    "chat_input = 'AmplifyUkraine'"
   ]
  },
  {
   "cell_type": "code",
   "execution_count": 5,
   "metadata": {},
   "outputs": [],
   "source": [
    "results = await main(chat_name = chat_input, limit = 3)"
   ]
  },
  {
   "cell_type": "code",
   "execution_count": 6,
   "metadata": {},
   "outputs": [],
   "source": [
    "messages = results['messages']\n",
    "first = messages[0].to_dict()"
   ]
  },
  {
   "cell_type": "code",
   "execution_count": 7,
   "metadata": {},
   "outputs": [
    {
     "data": {
      "text/plain": [
       "'TRANSLATION :\\nThe US plans to deploy nuclear weapons in the UK as the threat from Russia grows - The Telegraph.  \\n  \\nThis will be the first time in 15 years.  \\n  \\n🇺🇦Реальна War\\nORIGINAL :\\nСША планують розмістити ядерну зброю у Великобританії, оскільки загроза з боку РФ зростає, — The Telegraph.  \\n  \\nЦе станеться вперше за 15 років.  \\n  \\n🇺🇦Реальна Війна\\nSOURCE :\\nhttps://t.me/voynareal/82500\\nРеальна Війна | Україна'"
      ]
     },
     "execution_count": 7,
     "metadata": {},
     "output_type": "execute_result"
    }
   ],
   "source": [
    "first['message']"
   ]
  },
  {
   "cell_type": "code",
   "execution_count": 8,
   "metadata": {},
   "outputs": [],
   "source": [
    "async with TelegramClient(api_id=api_id, api_hash=api_hash, session='this') as client:\n",
    "    await client.send_message(entity=-1002040681043, message=first['message'])"
   ]
  }
 ],
 "metadata": {
  "kernelspec": {
   "display_name": "Python 3",
   "language": "python",
   "name": "python3"
  },
  "language_info": {
   "codemirror_mode": {
    "name": "ipython",
    "version": 3
   },
   "file_extension": ".py",
   "mimetype": "text/x-python",
   "name": "python",
   "nbconvert_exporter": "python",
   "pygments_lexer": "ipython3",
   "version": "3.10.12"
  }
 },
 "nbformat": 4,
 "nbformat_minor": 2
}
